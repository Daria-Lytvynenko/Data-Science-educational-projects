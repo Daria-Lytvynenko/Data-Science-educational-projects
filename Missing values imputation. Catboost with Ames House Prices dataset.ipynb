{
 "cells": [
  {
   "cell_type": "code",
   "execution_count": 1,
   "id": "67e8b2a7",
   "metadata": {
    "ExecuteTime": {
     "end_time": "2022-04-26T20:12:12.927603Z",
     "start_time": "2022-04-26T20:12:11.699484Z"
    }
   },
   "outputs": [],
   "source": [
    "from __future__ import print_function, division\n",
    "import numpy as np\n",
    "import matplotlib as mpl\n",
    "import matplotlib.pyplot as plt\n",
    "import pandas as pd\n",
    "from sklearn.model_selection import train_test_split\n",
    "from catboost import CatBoostClassifier, CatBoostRegressor, Pool, metrics, cv\n",
    "from sklearn.metrics import classification_report\n",
    "from sklearn.impute import SimpleImputer\n",
    "from impyute.imputation.cs import mice\n",
    "from pathlib import Path\n",
    "%matplotlib inline"
   ]
  },
  {
   "cell_type": "code",
   "execution_count": 2,
   "id": "5d51587d",
   "metadata": {
    "ExecuteTime": {
     "end_time": "2022-04-26T17:22:30.011743Z",
     "start_time": "2022-04-26T17:22:29.981269Z"
    }
   },
   "outputs": [],
   "source": [
    "DATA=Path.cwd()"
   ]
  },
  {
   "cell_type": "code",
   "execution_count": 3,
   "id": "e0e5ed6e",
   "metadata": {
    "ExecuteTime": {
     "end_time": "2022-04-26T17:22:30.215829Z",
     "start_time": "2022-04-26T17:22:30.014855Z"
    }
   },
   "outputs": [],
   "source": [
    "df=pd.read_csv(DATA/'datasets'/'ames_house_prices'/'train.csv')"
   ]
  },
  {
   "cell_type": "code",
   "execution_count": 4,
   "id": "dd5b8da0",
   "metadata": {
    "ExecuteTime": {
     "end_time": "2022-04-26T17:22:30.361924Z",
     "start_time": "2022-04-26T17:22:30.222792Z"
    }
   },
   "outputs": [
    {
     "data": {
      "text/html": [
       "<div>\n",
       "<style scoped>\n",
       "    .dataframe tbody tr th:only-of-type {\n",
       "        vertical-align: middle;\n",
       "    }\n",
       "\n",
       "    .dataframe tbody tr th {\n",
       "        vertical-align: top;\n",
       "    }\n",
       "\n",
       "    .dataframe thead th {\n",
       "        text-align: right;\n",
       "    }\n",
       "</style>\n",
       "<table border=\"1\" class=\"dataframe\">\n",
       "  <thead>\n",
       "    <tr style=\"text-align: right;\">\n",
       "      <th></th>\n",
       "      <th>Id</th>\n",
       "      <th>MSSubClass</th>\n",
       "      <th>MSZoning</th>\n",
       "      <th>LotFrontage</th>\n",
       "      <th>LotArea</th>\n",
       "      <th>Street</th>\n",
       "      <th>Alley</th>\n",
       "      <th>LotShape</th>\n",
       "      <th>LandContour</th>\n",
       "      <th>Utilities</th>\n",
       "      <th>...</th>\n",
       "      <th>PoolArea</th>\n",
       "      <th>PoolQC</th>\n",
       "      <th>Fence</th>\n",
       "      <th>MiscFeature</th>\n",
       "      <th>MiscVal</th>\n",
       "      <th>MoSold</th>\n",
       "      <th>YrSold</th>\n",
       "      <th>SaleType</th>\n",
       "      <th>SaleCondition</th>\n",
       "      <th>SalePrice</th>\n",
       "    </tr>\n",
       "  </thead>\n",
       "  <tbody>\n",
       "    <tr>\n",
       "      <th>0</th>\n",
       "      <td>1</td>\n",
       "      <td>60</td>\n",
       "      <td>RL</td>\n",
       "      <td>65.0</td>\n",
       "      <td>8450</td>\n",
       "      <td>Pave</td>\n",
       "      <td>NaN</td>\n",
       "      <td>Reg</td>\n",
       "      <td>Lvl</td>\n",
       "      <td>AllPub</td>\n",
       "      <td>...</td>\n",
       "      <td>0</td>\n",
       "      <td>NaN</td>\n",
       "      <td>NaN</td>\n",
       "      <td>NaN</td>\n",
       "      <td>0</td>\n",
       "      <td>2</td>\n",
       "      <td>2008</td>\n",
       "      <td>WD</td>\n",
       "      <td>Normal</td>\n",
       "      <td>208500</td>\n",
       "    </tr>\n",
       "    <tr>\n",
       "      <th>1</th>\n",
       "      <td>2</td>\n",
       "      <td>20</td>\n",
       "      <td>RL</td>\n",
       "      <td>80.0</td>\n",
       "      <td>9600</td>\n",
       "      <td>Pave</td>\n",
       "      <td>NaN</td>\n",
       "      <td>Reg</td>\n",
       "      <td>Lvl</td>\n",
       "      <td>AllPub</td>\n",
       "      <td>...</td>\n",
       "      <td>0</td>\n",
       "      <td>NaN</td>\n",
       "      <td>NaN</td>\n",
       "      <td>NaN</td>\n",
       "      <td>0</td>\n",
       "      <td>5</td>\n",
       "      <td>2007</td>\n",
       "      <td>WD</td>\n",
       "      <td>Normal</td>\n",
       "      <td>181500</td>\n",
       "    </tr>\n",
       "    <tr>\n",
       "      <th>2</th>\n",
       "      <td>3</td>\n",
       "      <td>60</td>\n",
       "      <td>RL</td>\n",
       "      <td>68.0</td>\n",
       "      <td>11250</td>\n",
       "      <td>Pave</td>\n",
       "      <td>NaN</td>\n",
       "      <td>IR1</td>\n",
       "      <td>Lvl</td>\n",
       "      <td>AllPub</td>\n",
       "      <td>...</td>\n",
       "      <td>0</td>\n",
       "      <td>NaN</td>\n",
       "      <td>NaN</td>\n",
       "      <td>NaN</td>\n",
       "      <td>0</td>\n",
       "      <td>9</td>\n",
       "      <td>2008</td>\n",
       "      <td>WD</td>\n",
       "      <td>Normal</td>\n",
       "      <td>223500</td>\n",
       "    </tr>\n",
       "    <tr>\n",
       "      <th>3</th>\n",
       "      <td>4</td>\n",
       "      <td>70</td>\n",
       "      <td>RL</td>\n",
       "      <td>60.0</td>\n",
       "      <td>9550</td>\n",
       "      <td>Pave</td>\n",
       "      <td>NaN</td>\n",
       "      <td>IR1</td>\n",
       "      <td>Lvl</td>\n",
       "      <td>AllPub</td>\n",
       "      <td>...</td>\n",
       "      <td>0</td>\n",
       "      <td>NaN</td>\n",
       "      <td>NaN</td>\n",
       "      <td>NaN</td>\n",
       "      <td>0</td>\n",
       "      <td>2</td>\n",
       "      <td>2006</td>\n",
       "      <td>WD</td>\n",
       "      <td>Abnorml</td>\n",
       "      <td>140000</td>\n",
       "    </tr>\n",
       "    <tr>\n",
       "      <th>4</th>\n",
       "      <td>5</td>\n",
       "      <td>60</td>\n",
       "      <td>RL</td>\n",
       "      <td>84.0</td>\n",
       "      <td>14260</td>\n",
       "      <td>Pave</td>\n",
       "      <td>NaN</td>\n",
       "      <td>IR1</td>\n",
       "      <td>Lvl</td>\n",
       "      <td>AllPub</td>\n",
       "      <td>...</td>\n",
       "      <td>0</td>\n",
       "      <td>NaN</td>\n",
       "      <td>NaN</td>\n",
       "      <td>NaN</td>\n",
       "      <td>0</td>\n",
       "      <td>12</td>\n",
       "      <td>2008</td>\n",
       "      <td>WD</td>\n",
       "      <td>Normal</td>\n",
       "      <td>250000</td>\n",
       "    </tr>\n",
       "  </tbody>\n",
       "</table>\n",
       "<p>5 rows × 81 columns</p>\n",
       "</div>"
      ],
      "text/plain": [
       "   Id  MSSubClass MSZoning  LotFrontage  LotArea Street Alley LotShape  \\\n",
       "0   1          60       RL         65.0     8450   Pave   NaN      Reg   \n",
       "1   2          20       RL         80.0     9600   Pave   NaN      Reg   \n",
       "2   3          60       RL         68.0    11250   Pave   NaN      IR1   \n",
       "3   4          70       RL         60.0     9550   Pave   NaN      IR1   \n",
       "4   5          60       RL         84.0    14260   Pave   NaN      IR1   \n",
       "\n",
       "  LandContour Utilities  ... PoolArea PoolQC Fence MiscFeature MiscVal MoSold  \\\n",
       "0         Lvl    AllPub  ...        0    NaN   NaN         NaN       0      2   \n",
       "1         Lvl    AllPub  ...        0    NaN   NaN         NaN       0      5   \n",
       "2         Lvl    AllPub  ...        0    NaN   NaN         NaN       0      9   \n",
       "3         Lvl    AllPub  ...        0    NaN   NaN         NaN       0      2   \n",
       "4         Lvl    AllPub  ...        0    NaN   NaN         NaN       0     12   \n",
       "\n",
       "  YrSold  SaleType  SaleCondition  SalePrice  \n",
       "0   2008        WD         Normal     208500  \n",
       "1   2007        WD         Normal     181500  \n",
       "2   2008        WD         Normal     223500  \n",
       "3   2006        WD        Abnorml     140000  \n",
       "4   2008        WD         Normal     250000  \n",
       "\n",
       "[5 rows x 81 columns]"
      ]
     },
     "execution_count": 4,
     "metadata": {},
     "output_type": "execute_result"
    }
   ],
   "source": [
    "df.head()"
   ]
  },
  {
   "cell_type": "markdown",
   "id": "6d0972b9",
   "metadata": {},
   "source": [
    "Exploring information about types of data and percentage of missing values in dataset"
   ]
  },
  {
   "cell_type": "code",
   "execution_count": 5,
   "id": "c7342eb1",
   "metadata": {
    "ExecuteTime": {
     "end_time": "2022-04-26T17:22:30.424845Z",
     "start_time": "2022-04-26T17:22:30.368927Z"
    }
   },
   "outputs": [
    {
     "data": {
      "text/plain": [
       "(1460, 81)"
      ]
     },
     "execution_count": 5,
     "metadata": {},
     "output_type": "execute_result"
    }
   ],
   "source": [
    "df.shape"
   ]
  },
  {
   "cell_type": "code",
   "execution_count": 6,
   "id": "9a0e2ed8",
   "metadata": {
    "ExecuteTime": {
     "end_time": "2022-04-26T17:22:30.589933Z",
     "start_time": "2022-04-26T17:22:30.433762Z"
    }
   },
   "outputs": [
    {
     "name": "stdout",
     "output_type": "stream",
     "text": [
      "<class 'pandas.core.frame.DataFrame'>\n",
      "RangeIndex: 1460 entries, 0 to 1459\n",
      "Data columns (total 81 columns):\n",
      " #   Column         Non-Null Count  Dtype  \n",
      "---  ------         --------------  -----  \n",
      " 0   Id             1460 non-null   int64  \n",
      " 1   MSSubClass     1460 non-null   int64  \n",
      " 2   MSZoning       1460 non-null   object \n",
      " 3   LotFrontage    1201 non-null   float64\n",
      " 4   LotArea        1460 non-null   int64  \n",
      " 5   Street         1460 non-null   object \n",
      " 6   Alley          91 non-null     object \n",
      " 7   LotShape       1460 non-null   object \n",
      " 8   LandContour    1460 non-null   object \n",
      " 9   Utilities      1460 non-null   object \n",
      " 10  LotConfig      1460 non-null   object \n",
      " 11  LandSlope      1460 non-null   object \n",
      " 12  Neighborhood   1460 non-null   object \n",
      " 13  Condition1     1460 non-null   object \n",
      " 14  Condition2     1460 non-null   object \n",
      " 15  BldgType       1460 non-null   object \n",
      " 16  HouseStyle     1460 non-null   object \n",
      " 17  OverallQual    1460 non-null   int64  \n",
      " 18  OverallCond    1460 non-null   int64  \n",
      " 19  YearBuilt      1460 non-null   int64  \n",
      " 20  YearRemodAdd   1460 non-null   int64  \n",
      " 21  RoofStyle      1460 non-null   object \n",
      " 22  RoofMatl       1460 non-null   object \n",
      " 23  Exterior1st    1460 non-null   object \n",
      " 24  Exterior2nd    1460 non-null   object \n",
      " 25  MasVnrType     1452 non-null   object \n",
      " 26  MasVnrArea     1452 non-null   float64\n",
      " 27  ExterQual      1460 non-null   object \n",
      " 28  ExterCond      1460 non-null   object \n",
      " 29  Foundation     1460 non-null   object \n",
      " 30  BsmtQual       1423 non-null   object \n",
      " 31  BsmtCond       1423 non-null   object \n",
      " 32  BsmtExposure   1422 non-null   object \n",
      " 33  BsmtFinType1   1423 non-null   object \n",
      " 34  BsmtFinSF1     1460 non-null   int64  \n",
      " 35  BsmtFinType2   1422 non-null   object \n",
      " 36  BsmtFinSF2     1460 non-null   int64  \n",
      " 37  BsmtUnfSF      1460 non-null   int64  \n",
      " 38  TotalBsmtSF    1460 non-null   int64  \n",
      " 39  Heating        1460 non-null   object \n",
      " 40  HeatingQC      1460 non-null   object \n",
      " 41  CentralAir     1460 non-null   object \n",
      " 42  Electrical     1459 non-null   object \n",
      " 43  1stFlrSF       1460 non-null   int64  \n",
      " 44  2ndFlrSF       1460 non-null   int64  \n",
      " 45  LowQualFinSF   1460 non-null   int64  \n",
      " 46  GrLivArea      1460 non-null   int64  \n",
      " 47  BsmtFullBath   1460 non-null   int64  \n",
      " 48  BsmtHalfBath   1460 non-null   int64  \n",
      " 49  FullBath       1460 non-null   int64  \n",
      " 50  HalfBath       1460 non-null   int64  \n",
      " 51  BedroomAbvGr   1460 non-null   int64  \n",
      " 52  KitchenAbvGr   1460 non-null   int64  \n",
      " 53  KitchenQual    1460 non-null   object \n",
      " 54  TotRmsAbvGrd   1460 non-null   int64  \n",
      " 55  Functional     1460 non-null   object \n",
      " 56  Fireplaces     1460 non-null   int64  \n",
      " 57  FireplaceQu    770 non-null    object \n",
      " 58  GarageType     1379 non-null   object \n",
      " 59  GarageYrBlt    1379 non-null   float64\n",
      " 60  GarageFinish   1379 non-null   object \n",
      " 61  GarageCars     1460 non-null   int64  \n",
      " 62  GarageArea     1460 non-null   int64  \n",
      " 63  GarageQual     1379 non-null   object \n",
      " 64  GarageCond     1379 non-null   object \n",
      " 65  PavedDrive     1460 non-null   object \n",
      " 66  WoodDeckSF     1460 non-null   int64  \n",
      " 67  OpenPorchSF    1460 non-null   int64  \n",
      " 68  EnclosedPorch  1460 non-null   int64  \n",
      " 69  3SsnPorch      1460 non-null   int64  \n",
      " 70  ScreenPorch    1460 non-null   int64  \n",
      " 71  PoolArea       1460 non-null   int64  \n",
      " 72  PoolQC         7 non-null      object \n",
      " 73  Fence          281 non-null    object \n",
      " 74  MiscFeature    54 non-null     object \n",
      " 75  MiscVal        1460 non-null   int64  \n",
      " 76  MoSold         1460 non-null   int64  \n",
      " 77  YrSold         1460 non-null   int64  \n",
      " 78  SaleType       1460 non-null   object \n",
      " 79  SaleCondition  1460 non-null   object \n",
      " 80  SalePrice      1460 non-null   int64  \n",
      "dtypes: float64(3), int64(35), object(43)\n",
      "memory usage: 924.0+ KB\n"
     ]
    }
   ],
   "source": [
    "df.info()"
   ]
  },
  {
   "cell_type": "code",
   "execution_count": 7,
   "id": "966a189a",
   "metadata": {
    "ExecuteTime": {
     "end_time": "2022-04-26T17:22:30.720413Z",
     "start_time": "2022-04-26T17:22:30.595944Z"
    }
   },
   "outputs": [],
   "source": [
    "inf=pd.DataFrame(df.dtypes, index=df.columns, columns=['dtype'])"
   ]
  },
  {
   "cell_type": "code",
   "execution_count": 8,
   "id": "e0aa9431",
   "metadata": {
    "ExecuteTime": {
     "end_time": "2022-04-26T17:22:30.857366Z",
     "start_time": "2022-04-26T17:22:30.727423Z"
    }
   },
   "outputs": [],
   "source": [
    "inf['n_missing']=df.isna().sum()"
   ]
  },
  {
   "cell_type": "code",
   "execution_count": 9,
   "id": "43cffebb",
   "metadata": {
    "ExecuteTime": {
     "end_time": "2022-04-26T17:22:31.007896Z",
     "start_time": "2022-04-26T17:22:30.873430Z"
    }
   },
   "outputs": [],
   "source": [
    "inf['percentage_missing']=df.isna().sum()/df.shape[0]*100"
   ]
  },
  {
   "cell_type": "code",
   "execution_count": 10,
   "id": "ce3c4de9",
   "metadata": {
    "ExecuteTime": {
     "end_time": "2022-04-26T17:22:31.158391Z",
     "start_time": "2022-04-26T17:22:31.015687Z"
    }
   },
   "outputs": [
    {
     "data": {
      "text/html": [
       "<div>\n",
       "<style scoped>\n",
       "    .dataframe tbody tr th:only-of-type {\n",
       "        vertical-align: middle;\n",
       "    }\n",
       "\n",
       "    .dataframe tbody tr th {\n",
       "        vertical-align: top;\n",
       "    }\n",
       "\n",
       "    .dataframe thead th {\n",
       "        text-align: right;\n",
       "    }\n",
       "</style>\n",
       "<table border=\"1\" class=\"dataframe\">\n",
       "  <thead>\n",
       "    <tr style=\"text-align: right;\">\n",
       "      <th></th>\n",
       "      <th>dtype</th>\n",
       "      <th>n_missing</th>\n",
       "      <th>percentage_missing</th>\n",
       "    </tr>\n",
       "  </thead>\n",
       "  <tbody>\n",
       "    <tr>\n",
       "      <th>PoolQC</th>\n",
       "      <td>object</td>\n",
       "      <td>1453</td>\n",
       "      <td>99.520548</td>\n",
       "    </tr>\n",
       "    <tr>\n",
       "      <th>MiscFeature</th>\n",
       "      <td>object</td>\n",
       "      <td>1406</td>\n",
       "      <td>96.301370</td>\n",
       "    </tr>\n",
       "    <tr>\n",
       "      <th>Alley</th>\n",
       "      <td>object</td>\n",
       "      <td>1369</td>\n",
       "      <td>93.767123</td>\n",
       "    </tr>\n",
       "    <tr>\n",
       "      <th>Fence</th>\n",
       "      <td>object</td>\n",
       "      <td>1179</td>\n",
       "      <td>80.753425</td>\n",
       "    </tr>\n",
       "    <tr>\n",
       "      <th>FireplaceQu</th>\n",
       "      <td>object</td>\n",
       "      <td>690</td>\n",
       "      <td>47.260274</td>\n",
       "    </tr>\n",
       "    <tr>\n",
       "      <th>LotFrontage</th>\n",
       "      <td>float64</td>\n",
       "      <td>259</td>\n",
       "      <td>17.739726</td>\n",
       "    </tr>\n",
       "    <tr>\n",
       "      <th>GarageYrBlt</th>\n",
       "      <td>float64</td>\n",
       "      <td>81</td>\n",
       "      <td>5.547945</td>\n",
       "    </tr>\n",
       "    <tr>\n",
       "      <th>GarageCond</th>\n",
       "      <td>object</td>\n",
       "      <td>81</td>\n",
       "      <td>5.547945</td>\n",
       "    </tr>\n",
       "    <tr>\n",
       "      <th>GarageType</th>\n",
       "      <td>object</td>\n",
       "      <td>81</td>\n",
       "      <td>5.547945</td>\n",
       "    </tr>\n",
       "    <tr>\n",
       "      <th>GarageFinish</th>\n",
       "      <td>object</td>\n",
       "      <td>81</td>\n",
       "      <td>5.547945</td>\n",
       "    </tr>\n",
       "    <tr>\n",
       "      <th>GarageQual</th>\n",
       "      <td>object</td>\n",
       "      <td>81</td>\n",
       "      <td>5.547945</td>\n",
       "    </tr>\n",
       "    <tr>\n",
       "      <th>BsmtFinType2</th>\n",
       "      <td>object</td>\n",
       "      <td>38</td>\n",
       "      <td>2.602740</td>\n",
       "    </tr>\n",
       "    <tr>\n",
       "      <th>BsmtExposure</th>\n",
       "      <td>object</td>\n",
       "      <td>38</td>\n",
       "      <td>2.602740</td>\n",
       "    </tr>\n",
       "    <tr>\n",
       "      <th>BsmtQual</th>\n",
       "      <td>object</td>\n",
       "      <td>37</td>\n",
       "      <td>2.534247</td>\n",
       "    </tr>\n",
       "    <tr>\n",
       "      <th>BsmtCond</th>\n",
       "      <td>object</td>\n",
       "      <td>37</td>\n",
       "      <td>2.534247</td>\n",
       "    </tr>\n",
       "    <tr>\n",
       "      <th>BsmtFinType1</th>\n",
       "      <td>object</td>\n",
       "      <td>37</td>\n",
       "      <td>2.534247</td>\n",
       "    </tr>\n",
       "    <tr>\n",
       "      <th>MasVnrArea</th>\n",
       "      <td>float64</td>\n",
       "      <td>8</td>\n",
       "      <td>0.547945</td>\n",
       "    </tr>\n",
       "    <tr>\n",
       "      <th>MasVnrType</th>\n",
       "      <td>object</td>\n",
       "      <td>8</td>\n",
       "      <td>0.547945</td>\n",
       "    </tr>\n",
       "    <tr>\n",
       "      <th>Electrical</th>\n",
       "      <td>object</td>\n",
       "      <td>1</td>\n",
       "      <td>0.068493</td>\n",
       "    </tr>\n",
       "    <tr>\n",
       "      <th>Id</th>\n",
       "      <td>int64</td>\n",
       "      <td>0</td>\n",
       "      <td>0.000000</td>\n",
       "    </tr>\n",
       "  </tbody>\n",
       "</table>\n",
       "</div>"
      ],
      "text/plain": [
       "                dtype  n_missing  percentage_missing\n",
       "PoolQC         object       1453           99.520548\n",
       "MiscFeature    object       1406           96.301370\n",
       "Alley          object       1369           93.767123\n",
       "Fence          object       1179           80.753425\n",
       "FireplaceQu    object        690           47.260274\n",
       "LotFrontage   float64        259           17.739726\n",
       "GarageYrBlt   float64         81            5.547945\n",
       "GarageCond     object         81            5.547945\n",
       "GarageType     object         81            5.547945\n",
       "GarageFinish   object         81            5.547945\n",
       "GarageQual     object         81            5.547945\n",
       "BsmtFinType2   object         38            2.602740\n",
       "BsmtExposure   object         38            2.602740\n",
       "BsmtQual       object         37            2.534247\n",
       "BsmtCond       object         37            2.534247\n",
       "BsmtFinType1   object         37            2.534247\n",
       "MasVnrArea    float64          8            0.547945\n",
       "MasVnrType     object          8            0.547945\n",
       "Electrical     object          1            0.068493\n",
       "Id              int64          0            0.000000"
      ]
     },
     "execution_count": 10,
     "metadata": {},
     "output_type": "execute_result"
    }
   ],
   "source": [
    "inf.sort_values(['percentage_missing'], ascending=False)[:20]"
   ]
  },
  {
   "cell_type": "markdown",
   "id": "dbeaec4e",
   "metadata": {
    "ExecuteTime": {
     "end_time": "2021-11-19T08:59:32.236546Z",
     "start_time": "2021-11-19T08:59:32.231330Z"
    }
   },
   "source": [
    "Here we can see columns with a high percent of missing values. Probably it should be deleted to avoid negative effect on predictions.\n",
    "\n",
    "PoolQC 99.520548 %, \n",
    "MiscFeature 96.301370%, \n",
    "Alley 93.767123 %, \n",
    "Fence 80.753425 %, \n",
    "FireplaceQu 47.260274 %"
   ]
  },
  {
   "cell_type": "markdown",
   "id": "0f9688b5",
   "metadata": {
    "ExecuteTime": {
     "end_time": "2021-11-19T09:13:38.505738Z",
     "start_time": "2021-11-19T09:13:38.502158Z"
    }
   },
   "source": [
    "Dividing dataset on features and target values."
   ]
  },
  {
   "cell_type": "code",
   "execution_count": 11,
   "id": "300223c8",
   "metadata": {
    "ExecuteTime": {
     "end_time": "2022-04-26T17:22:31.283792Z",
     "start_time": "2022-04-26T17:22:31.166770Z"
    }
   },
   "outputs": [],
   "source": [
    "X=df.drop('SalePrice', axis=1)"
   ]
  },
  {
   "cell_type": "code",
   "execution_count": 12,
   "id": "8ce67747",
   "metadata": {
    "ExecuteTime": {
     "end_time": "2022-04-26T17:22:31.406682Z",
     "start_time": "2022-04-26T17:22:31.289690Z"
    }
   },
   "outputs": [],
   "source": [
    "y=df['SalePrice']"
   ]
  },
  {
   "cell_type": "markdown",
   "id": "c61e143d",
   "metadata": {},
   "source": [
    "Dividing categorical and numerical columns and putting them on variables cat_cols and num_cols."
   ]
  },
  {
   "cell_type": "code",
   "execution_count": 13,
   "id": "600d3d3c",
   "metadata": {
    "ExecuteTime": {
     "end_time": "2022-04-26T17:22:31.588573Z",
     "start_time": "2022-04-26T17:22:31.413598Z"
    }
   },
   "outputs": [],
   "source": [
    "num_cols=df.columns[(df.dtypes=='int64')|(df.dtypes=='float64')]"
   ]
  },
  {
   "cell_type": "code",
   "execution_count": 14,
   "id": "4a648889",
   "metadata": {
    "ExecuteTime": {
     "end_time": "2022-04-26T17:22:31.832837Z",
     "start_time": "2022-04-26T17:22:31.715843Z"
    }
   },
   "outputs": [],
   "source": [
    "cat_cols=df.columns[df.dtypes=='object']"
   ]
  },
  {
   "cell_type": "markdown",
   "id": "a75a456d",
   "metadata": {},
   "source": [
    "Dividing dataset on train and test datasets."
   ]
  },
  {
   "cell_type": "code",
   "execution_count": 15,
   "id": "167a9a2f",
   "metadata": {
    "ExecuteTime": {
     "end_time": "2022-04-26T17:22:32.084169Z",
     "start_time": "2022-04-26T17:22:31.982415Z"
    }
   },
   "outputs": [],
   "source": [
    "test_size=0.2"
   ]
  },
  {
   "cell_type": "code",
   "execution_count": 16,
   "id": "3043a2d6",
   "metadata": {
    "ExecuteTime": {
     "end_time": "2022-04-26T17:22:32.269808Z",
     "start_time": "2022-04-26T17:22:32.092111Z"
    }
   },
   "outputs": [],
   "source": [
    "X_train_df, X_test_df, y_train, y_test = train_test_split(X, y, test_size=test_size, shuffle=True, random_state=42)"
   ]
  },
  {
   "cell_type": "markdown",
   "id": "76bc6672",
   "metadata": {
    "ExecuteTime": {
     "end_time": "2021-11-19T09:24:28.139865Z",
     "start_time": "2021-11-19T09:24:28.136141Z"
    }
   },
   "source": [
    "Filling missing values in categorical columns with 'None'."
   ]
  },
  {
   "cell_type": "code",
   "execution_count": 17,
   "id": "3e324b5f",
   "metadata": {
    "ExecuteTime": {
     "end_time": "2022-04-26T17:22:32.425562Z",
     "start_time": "2022-04-26T17:22:32.274797Z"
    }
   },
   "outputs": [],
   "source": [
    "X_train_df[cat_cols]=X_train_df[cat_cols].fillna('None')"
   ]
  },
  {
   "cell_type": "code",
   "execution_count": 18,
   "id": "46ddd40f",
   "metadata": {
    "ExecuteTime": {
     "end_time": "2022-04-26T17:22:32.543488Z",
     "start_time": "2022-04-26T17:22:32.433770Z"
    }
   },
   "outputs": [],
   "source": [
    "X_test_df[cat_cols]=X_test_df[cat_cols].fillna('None')"
   ]
  },
  {
   "cell_type": "code",
   "execution_count": 19,
   "id": "08e2a02b",
   "metadata": {
    "ExecuteTime": {
     "end_time": "2022-04-26T17:22:32.676240Z",
     "start_time": "2022-04-26T17:22:32.559477Z"
    }
   },
   "outputs": [],
   "source": [
    "categorical_features_indices = list(cat_cols)"
   ]
  },
  {
   "cell_type": "code",
   "execution_count": 20,
   "id": "e0f056a1",
   "metadata": {
    "ExecuteTime": {
     "end_time": "2022-04-26T17:22:32.816006Z",
     "start_time": "2022-04-26T17:22:32.685252Z"
    }
   },
   "outputs": [
    {
     "data": {
      "text/plain": [
       "['MSZoning',\n",
       " 'Street',\n",
       " 'Alley',\n",
       " 'LotShape',\n",
       " 'LandContour',\n",
       " 'Utilities',\n",
       " 'LotConfig',\n",
       " 'LandSlope',\n",
       " 'Neighborhood',\n",
       " 'Condition1',\n",
       " 'Condition2',\n",
       " 'BldgType',\n",
       " 'HouseStyle',\n",
       " 'RoofStyle',\n",
       " 'RoofMatl',\n",
       " 'Exterior1st',\n",
       " 'Exterior2nd',\n",
       " 'MasVnrType',\n",
       " 'ExterQual',\n",
       " 'ExterCond',\n",
       " 'Foundation',\n",
       " 'BsmtQual',\n",
       " 'BsmtCond',\n",
       " 'BsmtExposure',\n",
       " 'BsmtFinType1',\n",
       " 'BsmtFinType2',\n",
       " 'Heating',\n",
       " 'HeatingQC',\n",
       " 'CentralAir',\n",
       " 'Electrical',\n",
       " 'KitchenQual',\n",
       " 'Functional',\n",
       " 'FireplaceQu',\n",
       " 'GarageType',\n",
       " 'GarageFinish',\n",
       " 'GarageQual',\n",
       " 'GarageCond',\n",
       " 'PavedDrive',\n",
       " 'PoolQC',\n",
       " 'Fence',\n",
       " 'MiscFeature',\n",
       " 'SaleType',\n",
       " 'SaleCondition']"
      ]
     },
     "execution_count": 20,
     "metadata": {},
     "output_type": "execute_result"
    }
   ],
   "source": [
    "list(cat_cols)"
   ]
  },
  {
   "cell_type": "markdown",
   "id": "cbf7aed2",
   "metadata": {},
   "source": [
    "Training of catboost regression model."
   ]
  },
  {
   "cell_type": "code",
   "execution_count": 21,
   "id": "211edf87",
   "metadata": {
    "ExecuteTime": {
     "end_time": "2022-04-26T17:22:32.936061Z",
     "start_time": "2022-04-26T17:22:32.823998Z"
    }
   },
   "outputs": [],
   "source": [
    "cat = CatBoostRegressor()"
   ]
  },
  {
   "cell_type": "code",
   "execution_count": 22,
   "id": "44b13217",
   "metadata": {
    "ExecuteTime": {
     "end_time": "2022-04-26T18:12:32.009908Z",
     "start_time": "2022-04-26T18:10:35.573401Z"
    }
   },
   "outputs": [
    {
     "data": {
      "application/vnd.jupyter.widget-view+json": {
       "model_id": "c5c54c2658e34a7fb79b7e3b158be000",
       "version_major": 2,
       "version_minor": 0
      },
      "text/plain": [
       "MetricVisualizer(layout=Layout(align_self='stretch', height='500px'))"
      ]
     },
     "metadata": {},
     "output_type": "display_data"
    },
    {
     "name": "stdout",
     "output_type": "stream",
     "text": [
      "Learning rate set to 0.052178\n",
      "0:\tlearn: 74577.8863904\ttest: 84868.4387773\tbest: 84868.4387773 (0)\ttotal: 178ms\tremaining: 2m 58s\n",
      "200:\tlearn: 16058.4022350\ttest: 27178.1977625\tbest: 27178.1977625 (200)\ttotal: 8.33s\tremaining: 33.1s\n",
      "400:\tlearn: 11674.9751079\ttest: 26372.3672313\tbest: 26368.7184451 (398)\ttotal: 18.9s\tremaining: 28.2s\n",
      "600:\tlearn: 9235.2592081\ttest: 26048.0217067\tbest: 26044.5180653 (599)\ttotal: 30.2s\tremaining: 20s\n",
      "800:\tlearn: 7399.4882820\ttest: 25934.7881690\tbest: 25933.0260500 (759)\ttotal: 40.4s\tremaining: 10s\n",
      "999:\tlearn: 6216.5132834\ttest: 25890.6307199\tbest: 25886.2730109 (961)\ttotal: 51.1s\tremaining: 0us\n",
      "\n",
      "bestTest = 25886.27301\n",
      "bestIteration = 961\n",
      "\n",
      "Shrink model to first 962 iterations.\n"
     ]
    },
    {
     "data": {
      "text/plain": [
       "<catboost.core.CatBoostRegressor at 0x1f354316110>"
      ]
     },
     "execution_count": 22,
     "metadata": {},
     "output_type": "execute_result"
    }
   ],
   "source": [
    "cat.fit(X_train_df, y_train, cat_features=categorical_features_indices, eval_set=(X_test_df, y_test), verbose=200, plot=True)"
   ]
  },
  {
   "cell_type": "markdown",
   "id": "3669a5c1",
   "metadata": {
    "ExecuteTime": {
     "end_time": "2021-11-19T09:29:42.568217Z",
     "start_time": "2021-11-19T09:29:42.565006Z"
    }
   },
   "source": [
    "Creating plot of change of loss for train and test datasets."
   ]
  },
  {
   "cell_type": "code",
   "execution_count": 23,
   "id": "dbe71fe5",
   "metadata": {
    "ExecuteTime": {
     "end_time": "2022-04-26T18:13:22.575117Z",
     "start_time": "2022-04-26T18:13:22.548184Z"
    }
   },
   "outputs": [
    {
     "data": {
      "text/plain": [
       "dict_keys(['RMSE'])"
      ]
     },
     "execution_count": 23,
     "metadata": {},
     "output_type": "execute_result"
    }
   ],
   "source": [
    "cat.get_evals_result()['learn'].keys()"
   ]
  },
  {
   "cell_type": "code",
   "execution_count": 24,
   "id": "14a1c6e7",
   "metadata": {
    "ExecuteTime": {
     "end_time": "2022-04-26T18:14:49.778404Z",
     "start_time": "2022-04-26T18:14:49.266604Z"
    }
   },
   "outputs": [
    {
     "data": {
      "image/png": "[encoded data removed]",
      "text/plain": [
       "<Figure size 432x288 with 1 Axes>"
      ]
     },
     "metadata": {
      "needs_background": "light"
     },
     "output_type": "display_data"
    }
   ],
   "source": [
    "plt.plot(cat.get_evals_result()['learn']['RMSE'], label='train loss')\n",
    "plt.plot(cat.get_evals_result()['validation']['RMSE'], label='test loss')\n",
    "plt.legend()\n",
    "plt.show()"
   ]
  },
  {
   "cell_type": "markdown",
   "id": "b52ab055",
   "metadata": {},
   "source": [
    "Displaying number of iteration with the best loss value of the model and the best metrics of the model."
   ]
  },
  {
   "cell_type": "code",
   "execution_count": 25,
   "id": "b2d36883",
   "metadata": {
    "ExecuteTime": {
     "end_time": "2022-04-26T18:48:36.630960Z",
     "start_time": "2022-04-26T18:48:36.617980Z"
    }
   },
   "outputs": [
    {
     "data": {
      "text/plain": [
       "961"
      ]
     },
     "execution_count": 25,
     "metadata": {},
     "output_type": "execute_result"
    }
   ],
   "source": [
    "cat.best_iteration_"
   ]
  },
  {
   "cell_type": "code",
   "execution_count": 26,
   "id": "ce5190cd",
   "metadata": {
    "ExecuteTime": {
     "end_time": "2022-04-26T18:49:21.754759Z",
     "start_time": "2022-04-26T18:49:21.739771Z"
    }
   },
   "outputs": [
    {
     "data": {
      "text/plain": [
       "{'learn': {'RMSE': 6216.513283446953},\n",
       " 'validation': {'RMSE': 25886.273010900433}}"
      ]
     },
     "execution_count": 26,
     "metadata": {},
     "output_type": "execute_result"
    }
   ],
   "source": [
    "cat.best_score_"
   ]
  },
  {
   "cell_type": "markdown",
   "id": "c31ee21a",
   "metadata": {},
   "source": [
    "Displaying top 10 most valuable features."
   ]
  },
  {
   "cell_type": "code",
   "execution_count": 27,
   "id": "e7f3c7e2",
   "metadata": {
    "ExecuteTime": {
     "end_time": "2022-04-26T19:00:58.827279Z",
     "start_time": "2022-04-26T19:00:58.812597Z"
    }
   },
   "outputs": [],
   "source": [
    "importance=pd.DataFrame(cat.feature_importances_, index=df.columns[1::], columns=['importance'])"
   ]
  },
  {
   "cell_type": "code",
   "execution_count": 28,
   "id": "fe6ca27c",
   "metadata": {
    "ExecuteTime": {
     "end_time": "2022-04-26T19:18:17.368885Z",
     "start_time": "2022-04-26T19:18:17.357916Z"
    }
   },
   "outputs": [],
   "source": [
    "importance=importance.sort_values(by='importance', ascending=True)[:10]"
   ]
  },
  {
   "cell_type": "code",
   "execution_count": 29,
   "id": "a050f482",
   "metadata": {
    "ExecuteTime": {
     "end_time": "2022-04-26T19:18:20.961042Z",
     "start_time": "2022-04-26T19:18:20.936140Z"
    }
   },
   "outputs": [
    {
     "data": {
      "text/html": [
       "<div>\n",
       "<style scoped>\n",
       "    .dataframe tbody tr th:only-of-type {\n",
       "        vertical-align: middle;\n",
       "    }\n",
       "\n",
       "    .dataframe tbody tr th {\n",
       "        vertical-align: top;\n",
       "    }\n",
       "\n",
       "    .dataframe thead th {\n",
       "        text-align: right;\n",
       "    }\n",
       "</style>\n",
       "<table border=\"1\" class=\"dataframe\">\n",
       "  <thead>\n",
       "    <tr style=\"text-align: right;\">\n",
       "      <th></th>\n",
       "      <th>importance</th>\n",
       "    </tr>\n",
       "  </thead>\n",
       "  <tbody>\n",
       "    <tr>\n",
       "      <th>LotConfig</th>\n",
       "      <td>0.000028</td>\n",
       "    </tr>\n",
       "    <tr>\n",
       "      <th>Exterior1st</th>\n",
       "      <td>0.001298</td>\n",
       "    </tr>\n",
       "    <tr>\n",
       "      <th>BldgType</th>\n",
       "      <td>0.003506</td>\n",
       "    </tr>\n",
       "    <tr>\n",
       "      <th>Alley</th>\n",
       "      <td>0.003830</td>\n",
       "    </tr>\n",
       "    <tr>\n",
       "      <th>BsmtFinSF2</th>\n",
       "      <td>0.006371</td>\n",
       "    </tr>\n",
       "    <tr>\n",
       "      <th>FullBath</th>\n",
       "      <td>0.007103</td>\n",
       "    </tr>\n",
       "    <tr>\n",
       "      <th>MiscVal</th>\n",
       "      <td>0.007468</td>\n",
       "    </tr>\n",
       "    <tr>\n",
       "      <th>GrLivArea</th>\n",
       "      <td>0.016117</td>\n",
       "    </tr>\n",
       "    <tr>\n",
       "      <th>HouseStyle</th>\n",
       "      <td>0.035187</td>\n",
       "    </tr>\n",
       "    <tr>\n",
       "      <th>3SsnPorch</th>\n",
       "      <td>0.038875</td>\n",
       "    </tr>\n",
       "  </tbody>\n",
       "</table>\n",
       "</div>"
      ],
      "text/plain": [
       "             importance\n",
       "LotConfig      0.000028\n",
       "Exterior1st    0.001298\n",
       "BldgType       0.003506\n",
       "Alley          0.003830\n",
       "BsmtFinSF2     0.006371\n",
       "FullBath       0.007103\n",
       "MiscVal        0.007468\n",
       "GrLivArea      0.016117\n",
       "HouseStyle     0.035187\n",
       "3SsnPorch      0.038875"
      ]
     },
     "execution_count": 29,
     "metadata": {},
     "output_type": "execute_result"
    }
   ],
   "source": [
    "importance"
   ]
  },
  {
   "cell_type": "code",
   "execution_count": 30,
   "id": "ad15b671",
   "metadata": {
    "ExecuteTime": {
     "end_time": "2022-04-26T19:18:24.941603Z",
     "start_time": "2022-04-26T19:18:24.109850Z"
    }
   },
   "outputs": [
    {
     "data": {
      "image/png": "[encoded data removed]",
      "text/plain": [
       "<Figure size 1008x720 with 1 Axes>"
      ]
     },
     "metadata": {
      "needs_background": "light"
     },
     "output_type": "display_data"
    }
   ],
   "source": [
    "plt.figure(figsize=(14, 10))\n",
    "plt.barh(importance.index, importance['importance'])\n",
    "plt.show()"
   ]
  },
  {
   "cell_type": "markdown",
   "id": "5261537c",
   "metadata": {
    "ExecuteTime": {
     "end_time": "2021-11-19T09:43:26.211680Z",
     "start_time": "2021-11-19T09:43:26.208473Z"
    }
   },
   "source": [
    "Delete columns that have a high percentage of missing values and train of model with new dataset."
   ]
  },
  {
   "cell_type": "code",
   "execution_count": 31,
   "id": "71061a61",
   "metadata": {
    "ExecuteTime": {
     "end_time": "2022-04-26T19:22:03.740623Z",
     "start_time": "2022-04-26T19:22:03.716618Z"
    }
   },
   "outputs": [],
   "source": [
    "df_drop=df.drop(['PoolQC', 'MiscFeature', 'Alley', 'Fence', 'FireplaceQu'], axis=1)"
   ]
  },
  {
   "cell_type": "code",
   "execution_count": 32,
   "id": "a95e7a7a",
   "metadata": {
    "ExecuteTime": {
     "end_time": "2022-04-26T19:23:31.467082Z",
     "start_time": "2022-04-26T19:23:31.355470Z"
    }
   },
   "outputs": [
    {
     "data": {
      "text/html": [
       "<div>\n",
       "<style scoped>\n",
       "    .dataframe tbody tr th:only-of-type {\n",
       "        vertical-align: middle;\n",
       "    }\n",
       "\n",
       "    .dataframe tbody tr th {\n",
       "        vertical-align: top;\n",
       "    }\n",
       "\n",
       "    .dataframe thead th {\n",
       "        text-align: right;\n",
       "    }\n",
       "</style>\n",
       "<table border=\"1\" class=\"dataframe\">\n",
       "  <thead>\n",
       "    <tr style=\"text-align: right;\">\n",
       "      <th></th>\n",
       "      <th>Id</th>\n",
       "      <th>MSSubClass</th>\n",
       "      <th>MSZoning</th>\n",
       "      <th>LotFrontage</th>\n",
       "      <th>LotArea</th>\n",
       "      <th>Street</th>\n",
       "      <th>LotShape</th>\n",
       "      <th>LandContour</th>\n",
       "      <th>Utilities</th>\n",
       "      <th>LotConfig</th>\n",
       "      <th>...</th>\n",
       "      <th>EnclosedPorch</th>\n",
       "      <th>3SsnPorch</th>\n",
       "      <th>ScreenPorch</th>\n",
       "      <th>PoolArea</th>\n",
       "      <th>MiscVal</th>\n",
       "      <th>MoSold</th>\n",
       "      <th>YrSold</th>\n",
       "      <th>SaleType</th>\n",
       "      <th>SaleCondition</th>\n",
       "      <th>SalePrice</th>\n",
       "    </tr>\n",
       "  </thead>\n",
       "  <tbody>\n",
       "    <tr>\n",
       "      <th>0</th>\n",
       "      <td>1</td>\n",
       "      <td>60</td>\n",
       "      <td>RL</td>\n",
       "      <td>65.0</td>\n",
       "      <td>8450</td>\n",
       "      <td>Pave</td>\n",
       "      <td>Reg</td>\n",
       "      <td>Lvl</td>\n",
       "      <td>AllPub</td>\n",
       "      <td>Inside</td>\n",
       "      <td>...</td>\n",
       "      <td>0</td>\n",
       "      <td>0</td>\n",
       "      <td>0</td>\n",
       "      <td>0</td>\n",
       "      <td>0</td>\n",
       "      <td>2</td>\n",
       "      <td>2008</td>\n",
       "      <td>WD</td>\n",
       "      <td>Normal</td>\n",
       "      <td>208500</td>\n",
       "    </tr>\n",
       "    <tr>\n",
       "      <th>1</th>\n",
       "      <td>2</td>\n",
       "      <td>20</td>\n",
       "      <td>RL</td>\n",
       "      <td>80.0</td>\n",
       "      <td>9600</td>\n",
       "      <td>Pave</td>\n",
       "      <td>Reg</td>\n",
       "      <td>Lvl</td>\n",
       "      <td>AllPub</td>\n",
       "      <td>FR2</td>\n",
       "      <td>...</td>\n",
       "      <td>0</td>\n",
       "      <td>0</td>\n",
       "      <td>0</td>\n",
       "      <td>0</td>\n",
       "      <td>0</td>\n",
       "      <td>5</td>\n",
       "      <td>2007</td>\n",
       "      <td>WD</td>\n",
       "      <td>Normal</td>\n",
       "      <td>181500</td>\n",
       "    </tr>\n",
       "    <tr>\n",
       "      <th>2</th>\n",
       "      <td>3</td>\n",
       "      <td>60</td>\n",
       "      <td>RL</td>\n",
       "      <td>68.0</td>\n",
       "      <td>11250</td>\n",
       "      <td>Pave</td>\n",
       "      <td>IR1</td>\n",
       "      <td>Lvl</td>\n",
       "      <td>AllPub</td>\n",
       "      <td>Inside</td>\n",
       "      <td>...</td>\n",
       "      <td>0</td>\n",
       "      <td>0</td>\n",
       "      <td>0</td>\n",
       "      <td>0</td>\n",
       "      <td>0</td>\n",
       "      <td>9</td>\n",
       "      <td>2008</td>\n",
       "      <td>WD</td>\n",
       "      <td>Normal</td>\n",
       "      <td>223500</td>\n",
       "    </tr>\n",
       "    <tr>\n",
       "      <th>3</th>\n",
       "      <td>4</td>\n",
       "      <td>70</td>\n",
       "      <td>RL</td>\n",
       "      <td>60.0</td>\n",
       "      <td>9550</td>\n",
       "      <td>Pave</td>\n",
       "      <td>IR1</td>\n",
       "      <td>Lvl</td>\n",
       "      <td>AllPub</td>\n",
       "      <td>Corner</td>\n",
       "      <td>...</td>\n",
       "      <td>272</td>\n",
       "      <td>0</td>\n",
       "      <td>0</td>\n",
       "      <td>0</td>\n",
       "      <td>0</td>\n",
       "      <td>2</td>\n",
       "      <td>2006</td>\n",
       "      <td>WD</td>\n",
       "      <td>Abnorml</td>\n",
       "      <td>140000</td>\n",
       "    </tr>\n",
       "    <tr>\n",
       "      <th>4</th>\n",
       "      <td>5</td>\n",
       "      <td>60</td>\n",
       "      <td>RL</td>\n",
       "      <td>84.0</td>\n",
       "      <td>14260</td>\n",
       "      <td>Pave</td>\n",
       "      <td>IR1</td>\n",
       "      <td>Lvl</td>\n",
       "      <td>AllPub</td>\n",
       "      <td>FR2</td>\n",
       "      <td>...</td>\n",
       "      <td>0</td>\n",
       "      <td>0</td>\n",
       "      <td>0</td>\n",
       "      <td>0</td>\n",
       "      <td>0</td>\n",
       "      <td>12</td>\n",
       "      <td>2008</td>\n",
       "      <td>WD</td>\n",
       "      <td>Normal</td>\n",
       "      <td>250000</td>\n",
       "    </tr>\n",
       "    <tr>\n",
       "      <th>...</th>\n",
       "      <td>...</td>\n",
       "      <td>...</td>\n",
       "      <td>...</td>\n",
       "      <td>...</td>\n",
       "      <td>...</td>\n",
       "      <td>...</td>\n",
       "      <td>...</td>\n",
       "      <td>...</td>\n",
       "      <td>...</td>\n",
       "      <td>...</td>\n",
       "      <td>...</td>\n",
       "      <td>...</td>\n",
       "      <td>...</td>\n",
       "      <td>...</td>\n",
       "      <td>...</td>\n",
       "      <td>...</td>\n",
       "      <td>...</td>\n",
       "      <td>...</td>\n",
       "      <td>...</td>\n",
       "      <td>...</td>\n",
       "      <td>...</td>\n",
       "    </tr>\n",
       "    <tr>\n",
       "      <th>1455</th>\n",
       "      <td>1456</td>\n",
       "      <td>60</td>\n",
       "      <td>RL</td>\n",
       "      <td>62.0</td>\n",
       "      <td>7917</td>\n",
       "      <td>Pave</td>\n",
       "      <td>Reg</td>\n",
       "      <td>Lvl</td>\n",
       "      <td>AllPub</td>\n",
       "      <td>Inside</td>\n",
       "      <td>...</td>\n",
       "      <td>0</td>\n",
       "      <td>0</td>\n",
       "      <td>0</td>\n",
       "      <td>0</td>\n",
       "      <td>0</td>\n",
       "      <td>8</td>\n",
       "      <td>2007</td>\n",
       "      <td>WD</td>\n",
       "      <td>Normal</td>\n",
       "      <td>175000</td>\n",
       "    </tr>\n",
       "    <tr>\n",
       "      <th>1456</th>\n",
       "      <td>1457</td>\n",
       "      <td>20</td>\n",
       "      <td>RL</td>\n",
       "      <td>85.0</td>\n",
       "      <td>13175</td>\n",
       "      <td>Pave</td>\n",
       "      <td>Reg</td>\n",
       "      <td>Lvl</td>\n",
       "      <td>AllPub</td>\n",
       "      <td>Inside</td>\n",
       "      <td>...</td>\n",
       "      <td>0</td>\n",
       "      <td>0</td>\n",
       "      <td>0</td>\n",
       "      <td>0</td>\n",
       "      <td>0</td>\n",
       "      <td>2</td>\n",
       "      <td>2010</td>\n",
       "      <td>WD</td>\n",
       "      <td>Normal</td>\n",
       "      <td>210000</td>\n",
       "    </tr>\n",
       "    <tr>\n",
       "      <th>1457</th>\n",
       "      <td>1458</td>\n",
       "      <td>70</td>\n",
       "      <td>RL</td>\n",
       "      <td>66.0</td>\n",
       "      <td>9042</td>\n",
       "      <td>Pave</td>\n",
       "      <td>Reg</td>\n",
       "      <td>Lvl</td>\n",
       "      <td>AllPub</td>\n",
       "      <td>Inside</td>\n",
       "      <td>...</td>\n",
       "      <td>0</td>\n",
       "      <td>0</td>\n",
       "      <td>0</td>\n",
       "      <td>0</td>\n",
       "      <td>2500</td>\n",
       "      <td>5</td>\n",
       "      <td>2010</td>\n",
       "      <td>WD</td>\n",
       "      <td>Normal</td>\n",
       "      <td>266500</td>\n",
       "    </tr>\n",
       "    <tr>\n",
       "      <th>1458</th>\n",
       "      <td>1459</td>\n",
       "      <td>20</td>\n",
       "      <td>RL</td>\n",
       "      <td>68.0</td>\n",
       "      <td>9717</td>\n",
       "      <td>Pave</td>\n",
       "      <td>Reg</td>\n",
       "      <td>Lvl</td>\n",
       "      <td>AllPub</td>\n",
       "      <td>Inside</td>\n",
       "      <td>...</td>\n",
       "      <td>112</td>\n",
       "      <td>0</td>\n",
       "      <td>0</td>\n",
       "      <td>0</td>\n",
       "      <td>0</td>\n",
       "      <td>4</td>\n",
       "      <td>2010</td>\n",
       "      <td>WD</td>\n",
       "      <td>Normal</td>\n",
       "      <td>142125</td>\n",
       "    </tr>\n",
       "    <tr>\n",
       "      <th>1459</th>\n",
       "      <td>1460</td>\n",
       "      <td>20</td>\n",
       "      <td>RL</td>\n",
       "      <td>75.0</td>\n",
       "      <td>9937</td>\n",
       "      <td>Pave</td>\n",
       "      <td>Reg</td>\n",
       "      <td>Lvl</td>\n",
       "      <td>AllPub</td>\n",
       "      <td>Inside</td>\n",
       "      <td>...</td>\n",
       "      <td>0</td>\n",
       "      <td>0</td>\n",
       "      <td>0</td>\n",
       "      <td>0</td>\n",
       "      <td>0</td>\n",
       "      <td>6</td>\n",
       "      <td>2008</td>\n",
       "      <td>WD</td>\n",
       "      <td>Normal</td>\n",
       "      <td>147500</td>\n",
       "    </tr>\n",
       "  </tbody>\n",
       "</table>\n",
       "<p>1460 rows × 76 columns</p>\n",
       "</div>"
      ],
      "text/plain": [
       "        Id  MSSubClass MSZoning  LotFrontage  LotArea Street LotShape  \\\n",
       "0        1          60       RL         65.0     8450   Pave      Reg   \n",
       "1        2          20       RL         80.0     9600   Pave      Reg   \n",
       "2        3          60       RL         68.0    11250   Pave      IR1   \n",
       "3        4          70       RL         60.0     9550   Pave      IR1   \n",
       "4        5          60       RL         84.0    14260   Pave      IR1   \n",
       "...    ...         ...      ...          ...      ...    ...      ...   \n",
       "1455  1456          60       RL         62.0     7917   Pave      Reg   \n",
       "1456  1457          20       RL         85.0    13175   Pave      Reg   \n",
       "1457  1458          70       RL         66.0     9042   Pave      Reg   \n",
       "1458  1459          20       RL         68.0     9717   Pave      Reg   \n",
       "1459  1460          20       RL         75.0     9937   Pave      Reg   \n",
       "\n",
       "     LandContour Utilities LotConfig  ... EnclosedPorch 3SsnPorch ScreenPorch  \\\n",
       "0            Lvl    AllPub    Inside  ...             0         0           0   \n",
       "1            Lvl    AllPub       FR2  ...             0         0           0   \n",
       "2            Lvl    AllPub    Inside  ...             0         0           0   \n",
       "3            Lvl    AllPub    Corner  ...           272         0           0   \n",
       "4            Lvl    AllPub       FR2  ...             0         0           0   \n",
       "...          ...       ...       ...  ...           ...       ...         ...   \n",
       "1455         Lvl    AllPub    Inside  ...             0         0           0   \n",
       "1456         Lvl    AllPub    Inside  ...             0         0           0   \n",
       "1457         Lvl    AllPub    Inside  ...             0         0           0   \n",
       "1458         Lvl    AllPub    Inside  ...           112         0           0   \n",
       "1459         Lvl    AllPub    Inside  ...             0         0           0   \n",
       "\n",
       "     PoolArea MiscVal MoSold  YrSold  SaleType  SaleCondition  SalePrice  \n",
       "0           0       0      2    2008        WD         Normal     208500  \n",
       "1           0       0      5    2007        WD         Normal     181500  \n",
       "2           0       0      9    2008        WD         Normal     223500  \n",
       "3           0       0      2    2006        WD        Abnorml     140000  \n",
       "4           0       0     12    2008        WD         Normal     250000  \n",
       "...       ...     ...    ...     ...       ...            ...        ...  \n",
       "1455        0       0      8    2007        WD         Normal     175000  \n",
       "1456        0       0      2    2010        WD         Normal     210000  \n",
       "1457        0    2500      5    2010        WD         Normal     266500  \n",
       "1458        0       0      4    2010        WD         Normal     142125  \n",
       "1459        0       0      6    2008        WD         Normal     147500  \n",
       "\n",
       "[1460 rows x 76 columns]"
      ]
     },
     "execution_count": 32,
     "metadata": {},
     "output_type": "execute_result"
    }
   ],
   "source": [
    "df_drop"
   ]
  },
  {
   "cell_type": "markdown",
   "id": "a1f23774",
   "metadata": {},
   "source": [
    "Dividing dataset on train and test datasets."
   ]
  },
  {
   "cell_type": "code",
   "execution_count": 33,
   "id": "9576fb03",
   "metadata": {
    "ExecuteTime": {
     "end_time": "2022-04-26T20:43:15.020130Z",
     "start_time": "2022-04-26T20:43:14.988865Z"
    }
   },
   "outputs": [],
   "source": [
    "X=df_drop.drop('SalePrice', axis=1)\n",
    "y=df_drop['SalePrice']"
   ]
  },
  {
   "cell_type": "code",
   "execution_count": 34,
   "id": "cbf46b0b",
   "metadata": {
    "ExecuteTime": {
     "end_time": "2022-04-26T19:26:25.317405Z",
     "start_time": "2022-04-26T19:26:25.309450Z"
    }
   },
   "outputs": [],
   "source": [
    "test_size=0.2"
   ]
  },
  {
   "cell_type": "code",
   "execution_count": 35,
   "id": "fdc24387",
   "metadata": {
    "ExecuteTime": {
     "end_time": "2022-04-26T20:43:17.070653Z",
     "start_time": "2022-04-26T20:43:17.030579Z"
    }
   },
   "outputs": [],
   "source": [
    "X_drop_train_df, X_drop_test_df, y_drop_train, y_drop_test = train_test_split(X, y, test_size=test_size, \n",
    "                                                                              shuffle=True, random_state=42)"
   ]
  },
  {
   "cell_type": "code",
   "execution_count": 36,
   "id": "cf2862a8",
   "metadata": {},
   "outputs": [
    {
     "data": {
      "text/html": [
       "<div>\n",
       "<style scoped>\n",
       "    .dataframe tbody tr th:only-of-type {\n",
       "        vertical-align: middle;\n",
       "    }\n",
       "\n",
       "    .dataframe tbody tr th {\n",
       "        vertical-align: top;\n",
       "    }\n",
       "\n",
       "    .dataframe thead th {\n",
       "        text-align: right;\n",
       "    }\n",
       "</style>\n",
       "<table border=\"1\" class=\"dataframe\">\n",
       "  <thead>\n",
       "    <tr style=\"text-align: right;\">\n",
       "      <th></th>\n",
       "      <th>Id</th>\n",
       "      <th>MSSubClass</th>\n",
       "      <th>MSZoning</th>\n",
       "      <th>LotFrontage</th>\n",
       "      <th>LotArea</th>\n",
       "      <th>Street</th>\n",
       "      <th>LotShape</th>\n",
       "      <th>LandContour</th>\n",
       "      <th>Utilities</th>\n",
       "      <th>LotConfig</th>\n",
       "      <th>...</th>\n",
       "      <th>OpenPorchSF</th>\n",
       "      <th>EnclosedPorch</th>\n",
       "      <th>3SsnPorch</th>\n",
       "      <th>ScreenPorch</th>\n",
       "      <th>PoolArea</th>\n",
       "      <th>MiscVal</th>\n",
       "      <th>MoSold</th>\n",
       "      <th>YrSold</th>\n",
       "      <th>SaleType</th>\n",
       "      <th>SaleCondition</th>\n",
       "    </tr>\n",
       "  </thead>\n",
       "  <tbody>\n",
       "    <tr>\n",
       "      <th>254</th>\n",
       "      <td>255</td>\n",
       "      <td>20</td>\n",
       "      <td>RL</td>\n",
       "      <td>70.0</td>\n",
       "      <td>8400</td>\n",
       "      <td>Pave</td>\n",
       "      <td>Reg</td>\n",
       "      <td>Lvl</td>\n",
       "      <td>AllPub</td>\n",
       "      <td>Inside</td>\n",
       "      <td>...</td>\n",
       "      <td>0</td>\n",
       "      <td>0</td>\n",
       "      <td>0</td>\n",
       "      <td>0</td>\n",
       "      <td>0</td>\n",
       "      <td>0</td>\n",
       "      <td>6</td>\n",
       "      <td>2010</td>\n",
       "      <td>WD</td>\n",
       "      <td>Normal</td>\n",
       "    </tr>\n",
       "    <tr>\n",
       "      <th>1066</th>\n",
       "      <td>1067</td>\n",
       "      <td>60</td>\n",
       "      <td>RL</td>\n",
       "      <td>59.0</td>\n",
       "      <td>7837</td>\n",
       "      <td>Pave</td>\n",
       "      <td>IR1</td>\n",
       "      <td>Lvl</td>\n",
       "      <td>AllPub</td>\n",
       "      <td>Inside</td>\n",
       "      <td>...</td>\n",
       "      <td>40</td>\n",
       "      <td>0</td>\n",
       "      <td>0</td>\n",
       "      <td>0</td>\n",
       "      <td>0</td>\n",
       "      <td>0</td>\n",
       "      <td>5</td>\n",
       "      <td>2009</td>\n",
       "      <td>WD</td>\n",
       "      <td>Normal</td>\n",
       "    </tr>\n",
       "    <tr>\n",
       "      <th>638</th>\n",
       "      <td>639</td>\n",
       "      <td>30</td>\n",
       "      <td>RL</td>\n",
       "      <td>67.0</td>\n",
       "      <td>8777</td>\n",
       "      <td>Pave</td>\n",
       "      <td>Reg</td>\n",
       "      <td>Lvl</td>\n",
       "      <td>AllPub</td>\n",
       "      <td>Inside</td>\n",
       "      <td>...</td>\n",
       "      <td>0</td>\n",
       "      <td>164</td>\n",
       "      <td>0</td>\n",
       "      <td>0</td>\n",
       "      <td>0</td>\n",
       "      <td>0</td>\n",
       "      <td>5</td>\n",
       "      <td>2008</td>\n",
       "      <td>WD</td>\n",
       "      <td>Normal</td>\n",
       "    </tr>\n",
       "    <tr>\n",
       "      <th>799</th>\n",
       "      <td>800</td>\n",
       "      <td>50</td>\n",
       "      <td>RL</td>\n",
       "      <td>60.0</td>\n",
       "      <td>7200</td>\n",
       "      <td>Pave</td>\n",
       "      <td>Reg</td>\n",
       "      <td>Lvl</td>\n",
       "      <td>AllPub</td>\n",
       "      <td>Corner</td>\n",
       "      <td>...</td>\n",
       "      <td>0</td>\n",
       "      <td>264</td>\n",
       "      <td>0</td>\n",
       "      <td>0</td>\n",
       "      <td>0</td>\n",
       "      <td>0</td>\n",
       "      <td>6</td>\n",
       "      <td>2007</td>\n",
       "      <td>WD</td>\n",
       "      <td>Normal</td>\n",
       "    </tr>\n",
       "    <tr>\n",
       "      <th>380</th>\n",
       "      <td>381</td>\n",
       "      <td>50</td>\n",
       "      <td>RL</td>\n",
       "      <td>50.0</td>\n",
       "      <td>5000</td>\n",
       "      <td>Pave</td>\n",
       "      <td>Reg</td>\n",
       "      <td>Lvl</td>\n",
       "      <td>AllPub</td>\n",
       "      <td>Inside</td>\n",
       "      <td>...</td>\n",
       "      <td>0</td>\n",
       "      <td>242</td>\n",
       "      <td>0</td>\n",
       "      <td>0</td>\n",
       "      <td>0</td>\n",
       "      <td>0</td>\n",
       "      <td>5</td>\n",
       "      <td>2010</td>\n",
       "      <td>WD</td>\n",
       "      <td>Normal</td>\n",
       "    </tr>\n",
       "    <tr>\n",
       "      <th>...</th>\n",
       "      <td>...</td>\n",
       "      <td>...</td>\n",
       "      <td>...</td>\n",
       "      <td>...</td>\n",
       "      <td>...</td>\n",
       "      <td>...</td>\n",
       "      <td>...</td>\n",
       "      <td>...</td>\n",
       "      <td>...</td>\n",
       "      <td>...</td>\n",
       "      <td>...</td>\n",
       "      <td>...</td>\n",
       "      <td>...</td>\n",
       "      <td>...</td>\n",
       "      <td>...</td>\n",
       "      <td>...</td>\n",
       "      <td>...</td>\n",
       "      <td>...</td>\n",
       "      <td>...</td>\n",
       "      <td>...</td>\n",
       "      <td>...</td>\n",
       "    </tr>\n",
       "    <tr>\n",
       "      <th>1095</th>\n",
       "      <td>1096</td>\n",
       "      <td>20</td>\n",
       "      <td>RL</td>\n",
       "      <td>78.0</td>\n",
       "      <td>9317</td>\n",
       "      <td>Pave</td>\n",
       "      <td>IR1</td>\n",
       "      <td>Lvl</td>\n",
       "      <td>AllPub</td>\n",
       "      <td>Inside</td>\n",
       "      <td>...</td>\n",
       "      <td>22</td>\n",
       "      <td>0</td>\n",
       "      <td>0</td>\n",
       "      <td>0</td>\n",
       "      <td>0</td>\n",
       "      <td>0</td>\n",
       "      <td>3</td>\n",
       "      <td>2007</td>\n",
       "      <td>WD</td>\n",
       "      <td>Normal</td>\n",
       "    </tr>\n",
       "    <tr>\n",
       "      <th>1130</th>\n",
       "      <td>1131</td>\n",
       "      <td>50</td>\n",
       "      <td>RL</td>\n",
       "      <td>65.0</td>\n",
       "      <td>7804</td>\n",
       "      <td>Pave</td>\n",
       "      <td>Reg</td>\n",
       "      <td>Lvl</td>\n",
       "      <td>AllPub</td>\n",
       "      <td>Inside</td>\n",
       "      <td>...</td>\n",
       "      <td>44</td>\n",
       "      <td>0</td>\n",
       "      <td>0</td>\n",
       "      <td>0</td>\n",
       "      <td>0</td>\n",
       "      <td>0</td>\n",
       "      <td>12</td>\n",
       "      <td>2009</td>\n",
       "      <td>WD</td>\n",
       "      <td>Normal</td>\n",
       "    </tr>\n",
       "    <tr>\n",
       "      <th>1294</th>\n",
       "      <td>1295</td>\n",
       "      <td>20</td>\n",
       "      <td>RL</td>\n",
       "      <td>60.0</td>\n",
       "      <td>8172</td>\n",
       "      <td>Pave</td>\n",
       "      <td>Reg</td>\n",
       "      <td>Lvl</td>\n",
       "      <td>AllPub</td>\n",
       "      <td>Inside</td>\n",
       "      <td>...</td>\n",
       "      <td>0</td>\n",
       "      <td>0</td>\n",
       "      <td>0</td>\n",
       "      <td>0</td>\n",
       "      <td>0</td>\n",
       "      <td>0</td>\n",
       "      <td>4</td>\n",
       "      <td>2006</td>\n",
       "      <td>WD</td>\n",
       "      <td>Normal</td>\n",
       "    </tr>\n",
       "    <tr>\n",
       "      <th>860</th>\n",
       "      <td>861</td>\n",
       "      <td>50</td>\n",
       "      <td>RL</td>\n",
       "      <td>55.0</td>\n",
       "      <td>7642</td>\n",
       "      <td>Pave</td>\n",
       "      <td>Reg</td>\n",
       "      <td>Lvl</td>\n",
       "      <td>AllPub</td>\n",
       "      <td>Corner</td>\n",
       "      <td>...</td>\n",
       "      <td>240</td>\n",
       "      <td>0</td>\n",
       "      <td>0</td>\n",
       "      <td>0</td>\n",
       "      <td>0</td>\n",
       "      <td>0</td>\n",
       "      <td>6</td>\n",
       "      <td>2007</td>\n",
       "      <td>WD</td>\n",
       "      <td>Normal</td>\n",
       "    </tr>\n",
       "    <tr>\n",
       "      <th>1126</th>\n",
       "      <td>1127</td>\n",
       "      <td>120</td>\n",
       "      <td>RL</td>\n",
       "      <td>53.0</td>\n",
       "      <td>3684</td>\n",
       "      <td>Pave</td>\n",
       "      <td>Reg</td>\n",
       "      <td>Lvl</td>\n",
       "      <td>AllPub</td>\n",
       "      <td>Inside</td>\n",
       "      <td>...</td>\n",
       "      <td>20</td>\n",
       "      <td>0</td>\n",
       "      <td>0</td>\n",
       "      <td>0</td>\n",
       "      <td>0</td>\n",
       "      <td>0</td>\n",
       "      <td>6</td>\n",
       "      <td>2009</td>\n",
       "      <td>WD</td>\n",
       "      <td>Normal</td>\n",
       "    </tr>\n",
       "  </tbody>\n",
       "</table>\n",
       "<p>1168 rows × 75 columns</p>\n",
       "</div>"
      ],
      "text/plain": [
       "        Id  MSSubClass MSZoning  LotFrontage  LotArea Street LotShape  \\\n",
       "254    255          20       RL         70.0     8400   Pave      Reg   \n",
       "1066  1067          60       RL         59.0     7837   Pave      IR1   \n",
       "638    639          30       RL         67.0     8777   Pave      Reg   \n",
       "799    800          50       RL         60.0     7200   Pave      Reg   \n",
       "380    381          50       RL         50.0     5000   Pave      Reg   \n",
       "...    ...         ...      ...          ...      ...    ...      ...   \n",
       "1095  1096          20       RL         78.0     9317   Pave      IR1   \n",
       "1130  1131          50       RL         65.0     7804   Pave      Reg   \n",
       "1294  1295          20       RL         60.0     8172   Pave      Reg   \n",
       "860    861          50       RL         55.0     7642   Pave      Reg   \n",
       "1126  1127         120       RL         53.0     3684   Pave      Reg   \n",
       "\n",
       "     LandContour Utilities LotConfig  ... OpenPorchSF EnclosedPorch 3SsnPorch  \\\n",
       "254          Lvl    AllPub    Inside  ...           0             0         0   \n",
       "1066         Lvl    AllPub    Inside  ...          40             0         0   \n",
       "638          Lvl    AllPub    Inside  ...           0           164         0   \n",
       "799          Lvl    AllPub    Corner  ...           0           264         0   \n",
       "380          Lvl    AllPub    Inside  ...           0           242         0   \n",
       "...          ...       ...       ...  ...         ...           ...       ...   \n",
       "1095         Lvl    AllPub    Inside  ...          22             0         0   \n",
       "1130         Lvl    AllPub    Inside  ...          44             0         0   \n",
       "1294         Lvl    AllPub    Inside  ...           0             0         0   \n",
       "860          Lvl    AllPub    Corner  ...         240             0         0   \n",
       "1126         Lvl    AllPub    Inside  ...          20             0         0   \n",
       "\n",
       "     ScreenPorch PoolArea MiscVal  MoSold  YrSold  SaleType  SaleCondition  \n",
       "254            0        0       0       6    2010        WD         Normal  \n",
       "1066           0        0       0       5    2009        WD         Normal  \n",
       "638            0        0       0       5    2008        WD         Normal  \n",
       "799            0        0       0       6    2007        WD         Normal  \n",
       "380            0        0       0       5    2010        WD         Normal  \n",
       "...          ...      ...     ...     ...     ...       ...            ...  \n",
       "1095           0        0       0       3    2007        WD         Normal  \n",
       "1130           0        0       0      12    2009        WD         Normal  \n",
       "1294           0        0       0       4    2006        WD         Normal  \n",
       "860            0        0       0       6    2007        WD         Normal  \n",
       "1126           0        0       0       6    2009        WD         Normal  \n",
       "\n",
       "[1168 rows x 75 columns]"
      ]
     },
     "execution_count": 36,
     "metadata": {},
     "output_type": "execute_result"
    }
   ],
   "source": [
    "X_drop_train_df"
   ]
  },
  {
   "cell_type": "markdown",
   "id": "e89e778e",
   "metadata": {},
   "source": [
    "Filling missing values in numerical columns of X_train_df and X_test_df with MICE."
   ]
  },
  {
   "cell_type": "code",
   "execution_count": 37,
   "id": "fa24b126",
   "metadata": {
    "ExecuteTime": {
     "end_time": "2022-04-26T20:33:41.652144Z",
     "start_time": "2022-04-26T20:33:41.629563Z"
    }
   },
   "outputs": [],
   "source": [
    "num_cols=num_cols.drop(['SalePrice'])"
   ]
  },
  {
   "cell_type": "code",
   "execution_count": 38,
   "id": "f4d0a33a",
   "metadata": {
    "ExecuteTime": {
     "end_time": "2022-04-26T20:43:22.604044Z",
     "start_time": "2022-04-26T20:43:21.631331Z"
    }
   },
   "outputs": [],
   "source": [
    "imputed_training=mice(X_drop_train_df[num_cols].values)"
   ]
  },
  {
   "cell_type": "code",
   "execution_count": 39,
   "id": "db0b4cb0",
   "metadata": {
    "ExecuteTime": {
     "end_time": "2022-04-26T20:43:39.257943Z",
     "start_time": "2022-04-26T20:43:39.238804Z"
    }
   },
   "outputs": [],
   "source": [
    "X_drop_train_df[num_cols]= pd.DataFrame(imputed_training, columns=X_drop_train_df[num_cols].columns, index=X_drop_train_df.index)"
   ]
  },
  {
   "cell_type": "code",
   "execution_count": 40,
   "id": "0077f6aa",
   "metadata": {
    "ExecuteTime": {
     "end_time": "2022-04-26T20:43:43.590802Z",
     "start_time": "2022-04-26T20:43:43.399772Z"
    }
   },
   "outputs": [],
   "source": [
    "imputed_testing=mice(X_drop_test_df[num_cols].values)"
   ]
  },
  {
   "cell_type": "code",
   "execution_count": 41,
   "id": "b15276b1",
   "metadata": {
    "ExecuteTime": {
     "end_time": "2022-04-26T20:43:54.689187Z",
     "start_time": "2022-04-26T20:43:54.664167Z"
    }
   },
   "outputs": [],
   "source": [
    "X_drop_test_df[num_cols] = pd.DataFrame(imputed_testing, columns=X_drop_train_df[num_cols].columns, index=X_drop_test_df.index)"
   ]
  },
  {
   "cell_type": "markdown",
   "id": "24403d2d",
   "metadata": {
    "ExecuteTime": {
     "end_time": "2021-11-19T09:56:22.197418Z",
     "start_time": "2021-11-19T09:56:22.194379Z"
    }
   },
   "source": [
    "Filling missing values in categorical columns with most frequent value using SimpleImputer."
   ]
  },
  {
   "cell_type": "code",
   "execution_count": 42,
   "id": "c4095bee",
   "metadata": {},
   "outputs": [],
   "source": [
    "cat_cols=X_drop_train_df.columns[X_drop_train_df.dtypes=='object']"
   ]
  },
  {
   "cell_type": "code",
   "execution_count": 43,
   "id": "812cc974",
   "metadata": {
    "ExecuteTime": {
     "end_time": "2022-04-26T20:44:31.953863Z",
     "start_time": "2022-04-26T20:44:31.880426Z"
    }
   },
   "outputs": [],
   "source": [
    "imp_mean = SimpleImputer(strategy='most_frequent')\n",
    "imp_mean.fit(X_drop_train_df[cat_cols])\n",
    "X_drop_train_df[cat_cols] = pd.DataFrame(imp_mean.transform(X_drop_train_df[cat_cols]),\n",
    "                                columns=X_drop_train_df[cat_cols].columns, index=X_drop_train_df.index)\n",
    "X_drop_test_df[cat_cols]= pd.DataFrame(imp_mean.transform(X_drop_test_df[cat_cols]), \n",
    "                                columns=X_drop_test_df[cat_cols].columns, index=X_drop_test_df.index)"
   ]
  },
  {
   "cell_type": "markdown",
   "id": "42852522",
   "metadata": {},
   "source": [
    "Training catboost regression model with new train and test datasets.\n",
    "Exploring new metrics of the model."
   ]
  },
  {
   "cell_type": "code",
   "execution_count": 44,
   "id": "6d013a22",
   "metadata": {
    "ExecuteTime": {
     "end_time": "2022-04-26T20:39:08.624612Z",
     "start_time": "2022-04-26T20:39:08.615619Z"
    }
   },
   "outputs": [],
   "source": [
    "categorical_features_indices=list(cat_cols)"
   ]
  },
  {
   "cell_type": "code",
   "execution_count": 45,
   "id": "d9ee4b30",
   "metadata": {},
   "outputs": [
    {
     "data": {
      "text/plain": [
       "['MSZoning',\n",
       " 'Street',\n",
       " 'LotShape',\n",
       " 'LandContour',\n",
       " 'Utilities',\n",
       " 'LotConfig',\n",
       " 'LandSlope',\n",
       " 'Neighborhood',\n",
       " 'Condition1',\n",
       " 'Condition2',\n",
       " 'BldgType',\n",
       " 'HouseStyle',\n",
       " 'RoofStyle',\n",
       " 'RoofMatl',\n",
       " 'Exterior1st',\n",
       " 'Exterior2nd',\n",
       " 'MasVnrType',\n",
       " 'ExterQual',\n",
       " 'ExterCond',\n",
       " 'Foundation',\n",
       " 'BsmtQual',\n",
       " 'BsmtCond',\n",
       " 'BsmtExposure',\n",
       " 'BsmtFinType1',\n",
       " 'BsmtFinType2',\n",
       " 'Heating',\n",
       " 'HeatingQC',\n",
       " 'CentralAir',\n",
       " 'Electrical',\n",
       " 'KitchenQual',\n",
       " 'Functional',\n",
       " 'GarageType',\n",
       " 'GarageFinish',\n",
       " 'GarageQual',\n",
       " 'GarageCond',\n",
       " 'PavedDrive',\n",
       " 'SaleType',\n",
       " 'SaleCondition']"
      ]
     },
     "execution_count": 45,
     "metadata": {},
     "output_type": "execute_result"
    }
   ],
   "source": [
    "categorical_features_indices"
   ]
  },
  {
   "cell_type": "code",
   "execution_count": 46,
   "id": "a83466d2",
   "metadata": {
    "ExecuteTime": {
     "end_time": "2022-04-26T20:47:53.329772Z",
     "start_time": "2022-04-26T20:45:54.288428Z"
    }
   },
   "outputs": [
    {
     "data": {
      "application/vnd.jupyter.widget-view+json": {
       "model_id": "b3cd1a66918f45cf809ef08ca959143f",
       "version_major": 2,
       "version_minor": 0
      },
      "text/plain": [
       "MetricVisualizer(layout=Layout(align_self='stretch', height='500px'))"
      ]
     },
     "metadata": {},
     "output_type": "display_data"
    },
    {
     "name": "stdout",
     "output_type": "stream",
     "text": [
      "Learning rate set to 0.052178\n",
      "0:\tlearn: 74634.2039958\ttest: 84946.9750384\tbest: 84946.9750384 (0)\ttotal: 24.5ms\tremaining: 24.5s\n",
      "200:\tlearn: 16211.0702914\ttest: 27942.6000453\tbest: 27942.6000453 (200)\ttotal: 6.99s\tremaining: 27.8s\n",
      "400:\tlearn: 12102.2611196\ttest: 27176.6237409\tbest: 27176.6237409 (400)\ttotal: 13.9s\tremaining: 20.8s\n",
      "600:\tlearn: 9437.2705429\ttest: 26723.8696333\tbest: 26721.6809447 (599)\ttotal: 22.2s\tremaining: 14.8s\n",
      "800:\tlearn: 7772.6860054\ttest: 26617.3622990\tbest: 26600.8732533 (792)\ttotal: 32.4s\tremaining: 8.06s\n",
      "999:\tlearn: 6505.1657786\ttest: 26588.7831111\tbest: 26581.7706305 (986)\ttotal: 42.4s\tremaining: 0us\n",
      "\n",
      "bestTest = 26581.77063\n",
      "bestIteration = 986\n",
      "\n",
      "Shrink model to first 987 iterations.\n"
     ]
    },
    {
     "data": {
      "text/plain": [
       "<catboost.core.CatBoostRegressor at 0x1f354316110>"
      ]
     },
     "execution_count": 46,
     "metadata": {},
     "output_type": "execute_result"
    }
   ],
   "source": [
    "cat.fit(X_drop_train_df, y_drop_train, cat_features=categorical_features_indices, eval_set=(X_drop_test_df, y_drop_test),\n",
    "        verbose=200, plot=True)"
   ]
  },
  {
   "cell_type": "code",
   "execution_count": 47,
   "id": "3668686a",
   "metadata": {
    "ExecuteTime": {
     "end_time": "2022-04-26T20:48:46.071460Z",
     "start_time": "2022-04-26T20:48:46.045391Z"
    }
   },
   "outputs": [
    {
     "data": {
      "text/plain": [
       "{'learn': {'RMSE': 6505.1657786093065},\n",
       " 'validation': {'RMSE': 26581.770630499213}}"
      ]
     },
     "execution_count": 47,
     "metadata": {},
     "output_type": "execute_result"
    }
   ],
   "source": [
    "cat.best_score_"
   ]
  },
  {
   "cell_type": "code",
   "execution_count": 48,
   "id": "67dba669",
   "metadata": {},
   "outputs": [
    {
     "data": {
      "image/png": "[encoded data removed]",
      "text/plain": [
       "<Figure size 432x288 with 1 Axes>"
      ]
     },
     "metadata": {
      "needs_background": "light"
     },
     "output_type": "display_data"
    }
   ],
   "source": [
    "plt.plot(cat.get_evals_result()['learn']['RMSE'], label='train loss')\n",
    "plt.plot(cat.get_evals_result()['validation']['RMSE'], label='test loss')\n",
    "plt.legend()\n",
    "plt.show()"
   ]
  },
  {
   "cell_type": "code",
   "execution_count": 49,
   "id": "a89f8d80",
   "metadata": {
    "ExecuteTime": {
     "end_time": "2022-04-26T20:49:06.989580Z",
     "start_time": "2022-04-26T20:49:06.970570Z"
    }
   },
   "outputs": [],
   "source": [
    "importance=pd.DataFrame(cat.feature_importances_, index=df_drop.columns[1::], columns=['importance'])"
   ]
  },
  {
   "cell_type": "code",
   "execution_count": 50,
   "id": "7a786c4f",
   "metadata": {
    "ExecuteTime": {
     "end_time": "2022-04-26T20:49:09.109838Z",
     "start_time": "2022-04-26T20:49:09.093726Z"
    }
   },
   "outputs": [],
   "source": [
    "importance=importance.sort_values(by='importance', ascending=True)[:10]"
   ]
  },
  {
   "cell_type": "code",
   "execution_count": 51,
   "id": "cffbb0c2",
   "metadata": {
    "ExecuteTime": {
     "end_time": "2022-04-26T20:49:11.103061Z",
     "start_time": "2022-04-26T20:49:11.074034Z"
    }
   },
   "outputs": [
    {
     "data": {
      "text/html": [
       "<div>\n",
       "<style scoped>\n",
       "    .dataframe tbody tr th:only-of-type {\n",
       "        vertical-align: middle;\n",
       "    }\n",
       "\n",
       "    .dataframe tbody tr th {\n",
       "        vertical-align: top;\n",
       "    }\n",
       "\n",
       "    .dataframe thead th {\n",
       "        text-align: right;\n",
       "    }\n",
       "</style>\n",
       "<table border=\"1\" class=\"dataframe\">\n",
       "  <thead>\n",
       "    <tr style=\"text-align: right;\">\n",
       "      <th></th>\n",
       "      <th>importance</th>\n",
       "    </tr>\n",
       "  </thead>\n",
       "  <tbody>\n",
       "    <tr>\n",
       "      <th>LotShape</th>\n",
       "      <td>0.000000</td>\n",
       "    </tr>\n",
       "    <tr>\n",
       "      <th>LotConfig</th>\n",
       "      <td>0.001968</td>\n",
       "    </tr>\n",
       "    <tr>\n",
       "      <th>GarageCond</th>\n",
       "      <td>0.005391</td>\n",
       "    </tr>\n",
       "    <tr>\n",
       "      <th>Exterior1st</th>\n",
       "      <td>0.005650</td>\n",
       "    </tr>\n",
       "    <tr>\n",
       "      <th>GrLivArea</th>\n",
       "      <td>0.005769</td>\n",
       "    </tr>\n",
       "    <tr>\n",
       "      <th>HeatingQC</th>\n",
       "      <td>0.008005</td>\n",
       "    </tr>\n",
       "    <tr>\n",
       "      <th>FullBath</th>\n",
       "      <td>0.010007</td>\n",
       "    </tr>\n",
       "    <tr>\n",
       "      <th>PavedDrive</th>\n",
       "      <td>0.014631</td>\n",
       "    </tr>\n",
       "    <tr>\n",
       "      <th>BsmtFinSF2</th>\n",
       "      <td>0.034592</td>\n",
       "    </tr>\n",
       "    <tr>\n",
       "      <th>1stFlrSF</th>\n",
       "      <td>0.041746</td>\n",
       "    </tr>\n",
       "  </tbody>\n",
       "</table>\n",
       "</div>"
      ],
      "text/plain": [
       "             importance\n",
       "LotShape       0.000000\n",
       "LotConfig      0.001968\n",
       "GarageCond     0.005391\n",
       "Exterior1st    0.005650\n",
       "GrLivArea      0.005769\n",
       "HeatingQC      0.008005\n",
       "FullBath       0.010007\n",
       "PavedDrive     0.014631\n",
       "BsmtFinSF2     0.034592\n",
       "1stFlrSF       0.041746"
      ]
     },
     "execution_count": 51,
     "metadata": {},
     "output_type": "execute_result"
    }
   ],
   "source": [
    "importance"
   ]
  },
  {
   "cell_type": "code",
   "execution_count": 52,
   "id": "a8cb2039",
   "metadata": {
    "ExecuteTime": {
     "end_time": "2022-04-26T20:49:14.539718Z",
     "start_time": "2022-04-26T20:49:13.909836Z"
    }
   },
   "outputs": [
    {
     "data": {
      "image/png": "[encoded data removed]",
      "text/plain": [
       "<Figure size 1008x720 with 1 Axes>"
      ]
     },
     "metadata": {
      "needs_background": "light"
     },
     "output_type": "display_data"
    }
   ],
   "source": [
    "plt.figure(figsize=(14, 10))\n",
    "plt.barh(importance.index, importance['importance'])\n",
    "plt.show()"
   ]
  },
  {
   "cell_type": "markdown",
   "id": "f147808c",
   "metadata": {},
   "source": [
    "The metrics of the last model are not significant different from the previous model (its little bit worse), the number of iterations and time becomes bigger comparing to the first model. Valuable features totally different for two models. First and second models have 4 common most valuable features:'BsmtFinSF2', 'LotConfig', 'GrLivArea', 'BldgType'. Important for the first model features 'Miscval' and 'Alley' have a lot of missing values, so it was deleted from the dataset and second model didn't use these data for training. So the conclusion is that filling of missing values in this particular way didn't help to improve metrics for catboost regression model. "
   ]
  }
 ],
 "metadata": {
  "kernelspec": {
   "display_name": "Python 3 (ipykernel)",
   "language": "python",
   "name": "python3"
  },
  "language_info": {
   "codemirror_mode": {
    "name": "ipython",
    "version": 3
   },
   "file_extension": ".py",
   "mimetype": "text/x-python",
   "name": "python",
   "nbconvert_exporter": "python",
   "pygments_lexer": "ipython3",
   "version": "3.10.5"
  },
  "toc": {
   "base_numbering": 1,
   "nav_menu": {},
   "number_sections": true,
   "sideBar": true,
   "skip_h1_title": false,
   "title_cell": "Table of Contents",
   "title_sidebar": "Contents",
   "toc_cell": false,
   "toc_position": {},
   "toc_section_display": true,
   "toc_window_display": false
  }
 },
 "nbformat": 4,
 "nbformat_minor": 5
}
