{
 "cells": [
  {
   "cell_type": "code",
   "execution_count": 1,
   "metadata": {
    "ExecuteTime": {
     "end_time": "2022-02-05T19:04:32.760191Z",
     "start_time": "2022-02-05T19:03:46.266493Z"
    }
   },
   "outputs": [],
   "source": [
    "import numpy as np\n",
    "import pandas as pd\n",
    "import seaborn as sns\n",
    "import matplotlib.pyplot as plt\n",
    "from sklearn.linear_model import LogisticRegression\n",
    "from sklearn.model_selection import train_test_split, GridSearchCV\n",
    "from sklearn.preprocessing import OrdinalEncoder\n",
    "from sklearn.metrics import classification_report, confusion_matrix, ConfusionMatrixDisplay\n",
    "from sklearn import metrics \n",
    "from sklearn.tree import DecisionTreeClassifier\n",
    "from sklearn import tree \n",
    "import warnings\n",
    "import pathlib\n",
    "%matplotlib inline\n",
    "warnings.filterwarnings('ignore')"
   ]
  },
  {
   "cell_type": "code",
   "execution_count": 2,
   "metadata": {
    "ExecuteTime": {
     "end_time": "2022-02-05T19:04:32.806769Z",
     "start_time": "2022-02-05T19:04:32.775718Z"
    }
   },
   "outputs": [],
   "source": [
    "DATA=pathlib.Path.cwd()"
   ]
  },
  {
   "cell_type": "code",
   "execution_count": 3,
   "metadata": {
    "ExecuteTime": {
     "end_time": "2022-02-05T19:04:33.136695Z",
     "start_time": "2022-02-05T19:04:32.822774Z"
    },
    "code_folding": []
   },
   "outputs": [],
   "source": [
    "df=pd.read_csv(DATA/'datasets'/'cars_evaluation_data'/'data.csv')"
   ]
  },
  {
   "cell_type": "code",
   "execution_count": 4,
   "metadata": {
    "ExecuteTime": {
     "end_time": "2022-02-05T19:04:33.264278Z",
     "start_time": "2022-02-05T19:04:33.149490Z"
    }
   },
   "outputs": [
    {
     "data": {
      "text/html": [
       "<div>\n",
       "<style scoped>\n",
       "    .dataframe tbody tr th:only-of-type {\n",
       "        vertical-align: middle;\n",
       "    }\n",
       "\n",
       "    .dataframe tbody tr th {\n",
       "        vertical-align: top;\n",
       "    }\n",
       "\n",
       "    .dataframe thead th {\n",
       "        text-align: right;\n",
       "    }\n",
       "</style>\n",
       "<table border=\"1\" class=\"dataframe\">\n",
       "  <thead>\n",
       "    <tr style=\"text-align: right;\">\n",
       "      <th></th>\n",
       "      <th>vhigh</th>\n",
       "      <th>vhigh.1</th>\n",
       "      <th>2</th>\n",
       "      <th>2.1</th>\n",
       "      <th>small</th>\n",
       "      <th>low</th>\n",
       "      <th>unacc</th>\n",
       "    </tr>\n",
       "  </thead>\n",
       "  <tbody>\n",
       "    <tr>\n",
       "      <th>0</th>\n",
       "      <td>vhigh</td>\n",
       "      <td>vhigh</td>\n",
       "      <td>2</td>\n",
       "      <td>2</td>\n",
       "      <td>small</td>\n",
       "      <td>med</td>\n",
       "      <td>unacc</td>\n",
       "    </tr>\n",
       "    <tr>\n",
       "      <th>1</th>\n",
       "      <td>vhigh</td>\n",
       "      <td>vhigh</td>\n",
       "      <td>2</td>\n",
       "      <td>2</td>\n",
       "      <td>small</td>\n",
       "      <td>high</td>\n",
       "      <td>unacc</td>\n",
       "    </tr>\n",
       "    <tr>\n",
       "      <th>2</th>\n",
       "      <td>vhigh</td>\n",
       "      <td>vhigh</td>\n",
       "      <td>2</td>\n",
       "      <td>2</td>\n",
       "      <td>med</td>\n",
       "      <td>low</td>\n",
       "      <td>unacc</td>\n",
       "    </tr>\n",
       "    <tr>\n",
       "      <th>3</th>\n",
       "      <td>vhigh</td>\n",
       "      <td>vhigh</td>\n",
       "      <td>2</td>\n",
       "      <td>2</td>\n",
       "      <td>med</td>\n",
       "      <td>med</td>\n",
       "      <td>unacc</td>\n",
       "    </tr>\n",
       "    <tr>\n",
       "      <th>4</th>\n",
       "      <td>vhigh</td>\n",
       "      <td>vhigh</td>\n",
       "      <td>2</td>\n",
       "      <td>2</td>\n",
       "      <td>med</td>\n",
       "      <td>high</td>\n",
       "      <td>unacc</td>\n",
       "    </tr>\n",
       "  </tbody>\n",
       "</table>\n",
       "</div>"
      ],
      "text/plain": [
       "   vhigh vhigh.1  2 2.1  small   low  unacc\n",
       "0  vhigh   vhigh  2   2  small   med  unacc\n",
       "1  vhigh   vhigh  2   2  small  high  unacc\n",
       "2  vhigh   vhigh  2   2    med   low  unacc\n",
       "3  vhigh   vhigh  2   2    med   med  unacc\n",
       "4  vhigh   vhigh  2   2    med  high  unacc"
      ]
     },
     "execution_count": 4,
     "metadata": {},
     "output_type": "execute_result"
    }
   ],
   "source": [
    "df.head()"
   ]
  },
  {
   "cell_type": "code",
   "execution_count": 5,
   "metadata": {
    "ExecuteTime": {
     "end_time": "2022-02-05T19:04:33.312376Z",
     "start_time": "2022-02-05T19:04:33.275280Z"
    }
   },
   "outputs": [
    {
     "data": {
      "text/plain": [
       "(1727, 7)"
      ]
     },
     "execution_count": 5,
     "metadata": {},
     "output_type": "execute_result"
    }
   ],
   "source": [
    "df.shape"
   ]
  },
  {
   "cell_type": "markdown",
   "metadata": {
    "ExecuteTime": {
     "end_time": "2021-11-01T17:00:14.372550Z",
     "start_time": "2021-11-01T17:00:14.369472Z"
    }
   },
   "source": [
    "Setting the columns names:\n",
    "`['buying', 'maint', 'doors', 'persons', 'lug_boot', 'safety', 'class']`"
   ]
  },
  {
   "cell_type": "code",
   "execution_count": 6,
   "metadata": {
    "ExecuteTime": {
     "end_time": "2022-02-05T19:04:33.441466Z",
     "start_time": "2022-02-05T19:04:33.320290Z"
    }
   },
   "outputs": [],
   "source": [
    "df.columns=['buying', 'maint', 'doors', 'persons', 'lug_boot', 'safety', 'class']"
   ]
  },
  {
   "cell_type": "markdown",
   "metadata": {},
   "source": [
    "Exploring dataset and displaying the number of occurrences of each value of each of the independent variables."
   ]
  },
  {
   "cell_type": "code",
   "execution_count": 7,
   "metadata": {
    "ExecuteTime": {
     "end_time": "2022-02-05T19:04:33.616817Z",
     "start_time": "2022-02-05T19:04:33.452478Z"
    }
   },
   "outputs": [
    {
     "data": {
      "text/plain": [
       "[high     432\n",
       " med      432\n",
       " low      432\n",
       " vhigh    431\n",
       " Name: buying, dtype: int64,\n",
       " high     432\n",
       " med      432\n",
       " low      432\n",
       " vhigh    431\n",
       " Name: maint, dtype: int64,\n",
       " 3        432\n",
       " 4        432\n",
       " 5more    432\n",
       " 2        431\n",
       " Name: doors, dtype: int64,\n",
       " 4       576\n",
       " more    576\n",
       " 2       575\n",
       " Name: persons, dtype: int64,\n",
       " med      576\n",
       " big      576\n",
       " small    575\n",
       " Name: lug_boot, dtype: int64,\n",
       " med     576\n",
       " high    576\n",
       " low     575\n",
       " Name: safety, dtype: int64,\n",
       " unacc    1209\n",
       " acc       384\n",
       " good       69\n",
       " vgood      65\n",
       " Name: class, dtype: int64]"
      ]
     },
     "execution_count": 7,
     "metadata": {},
     "output_type": "execute_result"
    }
   ],
   "source": [
    "[df[i].value_counts() for i in df.columns]"
   ]
  },
  {
   "cell_type": "markdown",
   "metadata": {},
   "source": [
    "Analyzing target value: how many cars of each class do we  have in dataset."
   ]
  },
  {
   "cell_type": "code",
   "execution_count": 8,
   "metadata": {
    "ExecuteTime": {
     "end_time": "2022-02-05T19:04:33.758797Z",
     "start_time": "2022-02-05T19:04:33.623792Z"
    }
   },
   "outputs": [
    {
     "data": {
      "text/plain": [
       "unacc    1209\n",
       "acc       384\n",
       "good       69\n",
       "vgood      65\n",
       "Name: class, dtype: int64"
      ]
     },
     "execution_count": 8,
     "metadata": {},
     "output_type": "execute_result"
    }
   ],
   "source": [
    "df['class'].value_counts()"
   ]
  },
  {
   "cell_type": "markdown",
   "metadata": {
    "ExecuteTime": {
     "end_time": "2021-11-04T12:03:08.941741Z",
     "start_time": "2021-11-04T12:03:08.938107Z"
    }
   },
   "source": [
    "The 'class' is the ordinal value, because the value can be ranked according to the growth of the assessment of the condition of the car (from unacceptable to very good). Dataset is unbalanced because there are one major class - 'unacc'(unacceptable) and three minor classes in dataset."
   ]
  },
  {
   "cell_type": "markdown",
   "metadata": {},
   "source": [
    "Exploring missing values in dataset"
   ]
  },
  {
   "cell_type": "code",
   "execution_count": 9,
   "metadata": {
    "ExecuteTime": {
     "end_time": "2022-02-05T19:04:33.949327Z",
     "start_time": "2022-02-05T19:04:33.766789Z"
    }
   },
   "outputs": [
    {
     "name": "stdout",
     "output_type": "stream",
     "text": [
      "<class 'pandas.core.frame.DataFrame'>\n",
      "RangeIndex: 1727 entries, 0 to 1726\n",
      "Data columns (total 7 columns):\n",
      " #   Column    Non-Null Count  Dtype \n",
      "---  ------    --------------  ----- \n",
      " 0   buying    1727 non-null   object\n",
      " 1   maint     1727 non-null   object\n",
      " 2   doors     1727 non-null   object\n",
      " 3   persons   1727 non-null   object\n",
      " 4   lug_boot  1727 non-null   object\n",
      " 5   safety    1727 non-null   object\n",
      " 6   class     1727 non-null   object\n",
      "dtypes: object(7)\n",
      "memory usage: 94.6+ KB\n"
     ]
    }
   ],
   "source": [
    "df.info()"
   ]
  },
  {
   "cell_type": "code",
   "execution_count": 10,
   "metadata": {
    "ExecuteTime": {
     "end_time": "2022-02-05T19:04:34.124281Z",
     "start_time": "2022-02-05T19:04:33.962290Z"
    }
   },
   "outputs": [],
   "source": [
    "X=df[['buying', 'maint', 'doors', 'persons', 'lug_boot', 'safety']]\n",
    "y=df['class']"
   ]
  },
  {
   "cell_type": "markdown",
   "metadata": {},
   "source": [
    "Dividing dataset into train and test datasets."
   ]
  },
  {
   "cell_type": "code",
   "execution_count": 11,
   "metadata": {
    "ExecuteTime": {
     "end_time": "2022-02-05T19:04:34.297271Z",
     "start_time": "2022-02-05T19:04:34.132287Z"
    }
   },
   "outputs": [],
   "source": [
    "test_size=0.33\n",
    "X_train_df, X_test_df, y_train, y_test = train_test_split(X, y, test_size=test_size, shuffle=True, random_state=42)"
   ]
  },
  {
   "cell_type": "code",
   "execution_count": 12,
   "metadata": {
    "ExecuteTime": {
     "end_time": "2022-02-05T19:04:34.473273Z",
     "start_time": "2022-02-05T19:04:34.306286Z"
    }
   },
   "outputs": [
    {
     "data": {
      "text/html": [
       "<div>\n",
       "<style scoped>\n",
       "    .dataframe tbody tr th:only-of-type {\n",
       "        vertical-align: middle;\n",
       "    }\n",
       "\n",
       "    .dataframe tbody tr th {\n",
       "        vertical-align: top;\n",
       "    }\n",
       "\n",
       "    .dataframe thead th {\n",
       "        text-align: right;\n",
       "    }\n",
       "</style>\n",
       "<table border=\"1\" class=\"dataframe\">\n",
       "  <thead>\n",
       "    <tr style=\"text-align: right;\">\n",
       "      <th></th>\n",
       "      <th>buying</th>\n",
       "      <th>maint</th>\n",
       "      <th>doors</th>\n",
       "      <th>persons</th>\n",
       "      <th>lug_boot</th>\n",
       "      <th>safety</th>\n",
       "    </tr>\n",
       "  </thead>\n",
       "  <tbody>\n",
       "    <tr>\n",
       "      <th>83</th>\n",
       "      <td>vhigh</td>\n",
       "      <td>vhigh</td>\n",
       "      <td>5more</td>\n",
       "      <td>2</td>\n",
       "      <td>med</td>\n",
       "      <td>low</td>\n",
       "    </tr>\n",
       "    <tr>\n",
       "      <th>48</th>\n",
       "      <td>vhigh</td>\n",
       "      <td>vhigh</td>\n",
       "      <td>3</td>\n",
       "      <td>more</td>\n",
       "      <td>med</td>\n",
       "      <td>med</td>\n",
       "    </tr>\n",
       "    <tr>\n",
       "      <th>468</th>\n",
       "      <td>high</td>\n",
       "      <td>vhigh</td>\n",
       "      <td>3</td>\n",
       "      <td>4</td>\n",
       "      <td>small</td>\n",
       "      <td>med</td>\n",
       "    </tr>\n",
       "    <tr>\n",
       "      <th>155</th>\n",
       "      <td>vhigh</td>\n",
       "      <td>high</td>\n",
       "      <td>3</td>\n",
       "      <td>more</td>\n",
       "      <td>med</td>\n",
       "      <td>low</td>\n",
       "    </tr>\n",
       "    <tr>\n",
       "      <th>1043</th>\n",
       "      <td>med</td>\n",
       "      <td>high</td>\n",
       "      <td>4</td>\n",
       "      <td>more</td>\n",
       "      <td>small</td>\n",
       "      <td>low</td>\n",
       "    </tr>\n",
       "  </tbody>\n",
       "</table>\n",
       "</div>"
      ],
      "text/plain": [
       "     buying  maint  doors persons lug_boot safety\n",
       "83    vhigh  vhigh  5more       2      med    low\n",
       "48    vhigh  vhigh      3    more      med    med\n",
       "468    high  vhigh      3       4    small    med\n",
       "155   vhigh   high      3    more      med    low\n",
       "1043    med   high      4    more    small    low"
      ]
     },
     "execution_count": 12,
     "metadata": {},
     "output_type": "execute_result"
    }
   ],
   "source": [
    "X_train_df[:5]"
   ]
  },
  {
   "cell_type": "code",
   "execution_count": 13,
   "metadata": {
    "ExecuteTime": {
     "end_time": "2022-02-05T19:04:34.783322Z",
     "start_time": "2022-02-05T19:04:34.640682Z"
    }
   },
   "outputs": [
    {
     "data": {
      "text/html": [
       "<div>\n",
       "<style scoped>\n",
       "    .dataframe tbody tr th:only-of-type {\n",
       "        vertical-align: middle;\n",
       "    }\n",
       "\n",
       "    .dataframe tbody tr th {\n",
       "        vertical-align: top;\n",
       "    }\n",
       "\n",
       "    .dataframe thead th {\n",
       "        text-align: right;\n",
       "    }\n",
       "</style>\n",
       "<table border=\"1\" class=\"dataframe\">\n",
       "  <thead>\n",
       "    <tr style=\"text-align: right;\">\n",
       "      <th></th>\n",
       "      <th>buying</th>\n",
       "      <th>maint</th>\n",
       "      <th>doors</th>\n",
       "      <th>persons</th>\n",
       "      <th>lug_boot</th>\n",
       "      <th>safety</th>\n",
       "    </tr>\n",
       "  </thead>\n",
       "  <tbody>\n",
       "    <tr>\n",
       "      <th>599</th>\n",
       "      <td>high</td>\n",
       "      <td>high</td>\n",
       "      <td>4</td>\n",
       "      <td>2</td>\n",
       "      <td>big</td>\n",
       "      <td>low</td>\n",
       "    </tr>\n",
       "    <tr>\n",
       "      <th>932</th>\n",
       "      <td>med</td>\n",
       "      <td>vhigh</td>\n",
       "      <td>4</td>\n",
       "      <td>4</td>\n",
       "      <td>big</td>\n",
       "      <td>low</td>\n",
       "    </tr>\n",
       "    <tr>\n",
       "      <th>628</th>\n",
       "      <td>high</td>\n",
       "      <td>high</td>\n",
       "      <td>5more</td>\n",
       "      <td>2</td>\n",
       "      <td>big</td>\n",
       "      <td>high</td>\n",
       "    </tr>\n",
       "    <tr>\n",
       "      <th>1497</th>\n",
       "      <td>low</td>\n",
       "      <td>high</td>\n",
       "      <td>5more</td>\n",
       "      <td>4</td>\n",
       "      <td>med</td>\n",
       "      <td>med</td>\n",
       "    </tr>\n",
       "    <tr>\n",
       "      <th>1262</th>\n",
       "      <td>med</td>\n",
       "      <td>low</td>\n",
       "      <td>4</td>\n",
       "      <td>more</td>\n",
       "      <td>med</td>\n",
       "      <td>low</td>\n",
       "    </tr>\n",
       "  </tbody>\n",
       "</table>\n",
       "</div>"
      ],
      "text/plain": [
       "     buying  maint  doors persons lug_boot safety\n",
       "599    high   high      4       2      big    low\n",
       "932     med  vhigh      4       4      big    low\n",
       "628    high   high  5more       2      big   high\n",
       "1497    low   high  5more       4      med    med\n",
       "1262    med    low      4    more      med    low"
      ]
     },
     "execution_count": 13,
     "metadata": {},
     "output_type": "execute_result"
    }
   ],
   "source": [
    "X_test_df[:5]"
   ]
  },
  {
   "cell_type": "code",
   "execution_count": 14,
   "metadata": {
    "ExecuteTime": {
     "end_time": "2022-02-05T19:04:35.022310Z",
     "start_time": "2022-02-05T19:04:34.793331Z"
    }
   },
   "outputs": [
    {
     "data": {
      "text/plain": [
       "((1157, 6), (570, 6))"
      ]
     },
     "execution_count": 14,
     "metadata": {},
     "output_type": "execute_result"
    }
   ],
   "source": [
    "X_train_df.shape, X_test_df.shape"
   ]
  },
  {
   "cell_type": "markdown",
   "metadata": {},
   "source": [
    "Checking type of data in training set."
   ]
  },
  {
   "cell_type": "code",
   "execution_count": 15,
   "metadata": {
    "ExecuteTime": {
     "end_time": "2022-02-05T19:04:35.242437Z",
     "start_time": "2022-02-05T19:04:35.028323Z"
    }
   },
   "outputs": [
    {
     "name": "stdout",
     "output_type": "stream",
     "text": [
      "<class 'pandas.core.frame.DataFrame'>\n",
      "Int64Index: 1157 entries, 83 to 1126\n",
      "Data columns (total 6 columns):\n",
      " #   Column    Non-Null Count  Dtype \n",
      "---  ------    --------------  ----- \n",
      " 0   buying    1157 non-null   object\n",
      " 1   maint     1157 non-null   object\n",
      " 2   doors     1157 non-null   object\n",
      " 3   persons   1157 non-null   object\n",
      " 4   lug_boot  1157 non-null   object\n",
      " 5   safety    1157 non-null   object\n",
      "dtypes: object(6)\n",
      "memory usage: 63.3+ KB\n"
     ]
    }
   ],
   "source": [
    "X_train_df.info()"
   ]
  },
  {
   "cell_type": "markdown",
   "metadata": {},
   "source": [
    "Coding categorical variables."
   ]
  },
  {
   "cell_type": "code",
   "execution_count": 16,
   "metadata": {
    "ExecuteTime": {
     "end_time": "2022-02-05T19:04:35.465462Z",
     "start_time": "2022-02-05T19:04:35.253417Z"
    }
   },
   "outputs": [],
   "source": [
    "buying = ['low','med','high','vhigh']\n",
    "maint = ['low','med','high','vhigh']\n",
    "doors = ['2','3','4', '5more']\n",
    "persons = ['2','4', 'more']\n",
    "lug_boot = ['small', 'med', 'big']\n",
    "safety = ['low', 'med', 'high']\n",
    "\n",
    "enc = OrdinalEncoder(categories=[buying, maint,doors,persons,lug_boot,safety])\n",
    "\n",
    "X_train = enc.fit_transform(X_train_df)\n",
    "X_test = enc.transform(X_test_df)"
   ]
  },
  {
   "cell_type": "markdown",
   "metadata": {},
   "source": [
    "Train and test sets after encoding."
   ]
  },
  {
   "cell_type": "code",
   "execution_count": 17,
   "metadata": {
    "ExecuteTime": {
     "end_time": "2022-02-05T19:04:35.652693Z",
     "start_time": "2022-02-05T19:04:35.473504Z"
    }
   },
   "outputs": [
    {
     "data": {
      "text/plain": [
       "array([[3., 3., 3., 0., 1., 0.],\n",
       "       [3., 3., 1., 2., 1., 1.],\n",
       "       [2., 3., 1., 1., 0., 1.],\n",
       "       [3., 2., 1., 2., 1., 0.],\n",
       "       [1., 2., 2., 2., 0., 0.]])"
      ]
     },
     "execution_count": 17,
     "metadata": {},
     "output_type": "execute_result"
    }
   ],
   "source": [
    "X_train[:5]"
   ]
  },
  {
   "cell_type": "code",
   "execution_count": 18,
   "metadata": {
    "ExecuteTime": {
     "end_time": "2022-02-05T19:04:35.763739Z",
     "start_time": "2022-02-05T19:04:35.659728Z"
    }
   },
   "outputs": [
    {
     "data": {
      "text/plain": [
       "array([[2., 2., 2., 0., 2., 0.],\n",
       "       [1., 3., 2., 1., 2., 0.],\n",
       "       [2., 2., 3., 0., 2., 2.],\n",
       "       [0., 2., 3., 1., 1., 1.],\n",
       "       [1., 0., 2., 2., 1., 0.]])"
      ]
     },
     "execution_count": 18,
     "metadata": {},
     "output_type": "execute_result"
    }
   ],
   "source": [
    "X_test[:5]"
   ]
  },
  {
   "cell_type": "markdown",
   "metadata": {},
   "source": [
    "Displaying the categories of encoder."
   ]
  },
  {
   "cell_type": "code",
   "execution_count": 19,
   "metadata": {
    "ExecuteTime": {
     "end_time": "2022-02-05T19:04:35.875749Z",
     "start_time": "2022-02-05T19:04:35.771750Z"
    }
   },
   "outputs": [
    {
     "data": {
      "text/plain": [
       "[array(['low', 'med', 'high', 'vhigh'], dtype=object),\n",
       " array(['low', 'med', 'high', 'vhigh'], dtype=object),\n",
       " array(['2', '3', '4', '5more'], dtype=object),\n",
       " array(['2', '4', 'more'], dtype=object),\n",
       " array(['small', 'med', 'big'], dtype=object),\n",
       " array(['low', 'med', 'high'], dtype=object)]"
      ]
     },
     "execution_count": 19,
     "metadata": {},
     "output_type": "execute_result"
    }
   ],
   "source": [
    "enc.categories_"
   ]
  },
  {
   "cell_type": "markdown",
   "metadata": {},
   "source": [
    "Training of Logistic Regression model."
   ]
  },
  {
   "cell_type": "code",
   "execution_count": 20,
   "metadata": {
    "ExecuteTime": {
     "end_time": "2022-02-05T19:04:36.210891Z",
     "start_time": "2022-02-05T19:04:35.882771Z"
    }
   },
   "outputs": [
    {
     "data": {
      "text/html": [
       "<style>#sk-container-id-1 {color: black;background-color: white;}#sk-container-id-1 pre{padding: 0;}#sk-container-id-1 div.sk-toggleable {background-color: white;}#sk-container-id-1 label.sk-toggleable__label {cursor: pointer;display: block;width: 100%;margin-bottom: 0;padding: 0.3em;box-sizing: border-box;text-align: center;}#sk-container-id-1 label.sk-toggleable__label-arrow:before {content: \"▸\";float: left;margin-right: 0.25em;color: #696969;}#sk-container-id-1 label.sk-toggleable__label-arrow:hover:before {color: black;}#sk-container-id-1 div.sk-estimator:hover label.sk-toggleable__label-arrow:before {color: black;}#sk-container-id-1 div.sk-toggleable__content {max-height: 0;max-width: 0;overflow: hidden;text-align: left;background-color: #f0f8ff;}#sk-container-id-1 div.sk-toggleable__content pre {margin: 0.2em;color: black;border-radius: 0.25em;background-color: #f0f8ff;}#sk-container-id-1 input.sk-toggleable__control:checked~div.sk-toggleable__content {max-height: 200px;max-width: 100%;overflow: auto;}#sk-container-id-1 input.sk-toggleable__control:checked~label.sk-toggleable__label-arrow:before {content: \"▾\";}#sk-container-id-1 div.sk-estimator input.sk-toggleable__control:checked~label.sk-toggleable__label {background-color: #d4ebff;}#sk-container-id-1 div.sk-label input.sk-toggleable__control:checked~label.sk-toggleable__label {background-color: #d4ebff;}#sk-container-id-1 input.sk-hidden--visually {border: 0;clip: rect(1px 1px 1px 1px);clip: rect(1px, 1px, 1px, 1px);height: 1px;margin: -1px;overflow: hidden;padding: 0;position: absolute;width: 1px;}#sk-container-id-1 div.sk-estimator {font-family: monospace;background-color: #f0f8ff;border: 1px dotted black;border-radius: 0.25em;box-sizing: border-box;margin-bottom: 0.5em;}#sk-container-id-1 div.sk-estimator:hover {background-color: #d4ebff;}#sk-container-id-1 div.sk-parallel-item::after {content: \"\";width: 100%;border-bottom: 1px solid gray;flex-grow: 1;}#sk-container-id-1 div.sk-label:hover label.sk-toggleable__label {background-color: #d4ebff;}#sk-container-id-1 div.sk-serial::before {content: \"\";position: absolute;border-left: 1px solid gray;box-sizing: border-box;top: 0;bottom: 0;left: 50%;z-index: 0;}#sk-container-id-1 div.sk-serial {display: flex;flex-direction: column;align-items: center;background-color: white;padding-right: 0.2em;padding-left: 0.2em;position: relative;}#sk-container-id-1 div.sk-item {position: relative;z-index: 1;}#sk-container-id-1 div.sk-parallel {display: flex;align-items: stretch;justify-content: center;background-color: white;position: relative;}#sk-container-id-1 div.sk-item::before, #sk-container-id-1 div.sk-parallel-item::before {content: \"\";position: absolute;border-left: 1px solid gray;box-sizing: border-box;top: 0;bottom: 0;left: 50%;z-index: -1;}#sk-container-id-1 div.sk-parallel-item {display: flex;flex-direction: column;z-index: 1;position: relative;background-color: white;}#sk-container-id-1 div.sk-parallel-item:first-child::after {align-self: flex-end;width: 50%;}#sk-container-id-1 div.sk-parallel-item:last-child::after {align-self: flex-start;width: 50%;}#sk-container-id-1 div.sk-parallel-item:only-child::after {width: 0;}#sk-container-id-1 div.sk-dashed-wrapped {border: 1px dashed gray;margin: 0 0.4em 0.5em 0.4em;box-sizing: border-box;padding-bottom: 0.4em;background-color: white;}#sk-container-id-1 div.sk-label label {font-family: monospace;font-weight: bold;display: inline-block;line-height: 1.2em;}#sk-container-id-1 div.sk-label-container {text-align: center;}#sk-container-id-1 div.sk-container {/* jupyter's `normalize.less` sets `[hidden] { display: none; }` but bootstrap.min.css set `[hidden] { display: none !important; }` so we also need the `!important` here to be able to override the default hidden behavior on the sphinx rendered scikit-learn.org. See: https://github.com/scikit-learn/scikit-learn/issues/21755 */display: inline-block !important;position: relative;}#sk-container-id-1 div.sk-text-repr-fallback {display: none;}</style><div id=\"sk-container-id-1\" class=\"sk-top-container\"><div class=\"sk-text-repr-fallback\"><pre>LogisticRegression(random_state=42)</pre><b>In a Jupyter environment, please rerun this cell to show the HTML representation or trust the notebook. <br />On GitHub, the HTML representation is unable to render, please try loading this page with nbviewer.org.</b></div><div class=\"sk-container\" hidden><div class=\"sk-item\"><div class=\"sk-estimator sk-toggleable\"><input class=\"sk-toggleable__control sk-hidden--visually\" id=\"sk-estimator-id-1\" type=\"checkbox\" checked><label for=\"sk-estimator-id-1\" class=\"sk-toggleable__label sk-toggleable__label-arrow\">LogisticRegression</label><div class=\"sk-toggleable__content\"><pre>LogisticRegression(random_state=42)</pre></div></div></div></div></div>"
      ],
      "text/plain": [
       "LogisticRegression(random_state=42)"
      ]
     },
     "execution_count": 20,
     "metadata": {},
     "output_type": "execute_result"
    }
   ],
   "source": [
    "clf = LogisticRegression(random_state=42)\n",
    "clf.fit(X_train, y_train)"
   ]
  },
  {
   "cell_type": "markdown",
   "metadata": {},
   "source": [
    "Making predictions for target values."
   ]
  },
  {
   "cell_type": "code",
   "execution_count": 21,
   "metadata": {
    "ExecuteTime": {
     "end_time": "2022-02-05T19:04:36.227749Z",
     "start_time": "2022-02-05T19:04:36.216749Z"
    }
   },
   "outputs": [],
   "source": [
    "y_train_pred=clf.predict(X_train)"
   ]
  },
  {
   "cell_type": "code",
   "execution_count": 22,
   "metadata": {
    "ExecuteTime": {
     "end_time": "2022-02-05T19:04:36.367769Z",
     "start_time": "2022-02-05T19:04:36.237756Z"
    }
   },
   "outputs": [],
   "source": [
    "y_test_pred=clf.predict(X_test)"
   ]
  },
  {
   "cell_type": "markdown",
   "metadata": {},
   "source": [
    "Displaying metrics of model with classification_report."
   ]
  },
  {
   "cell_type": "code",
   "execution_count": 23,
   "metadata": {
    "ExecuteTime": {
     "end_time": "2022-02-05T19:04:36.548351Z",
     "start_time": "2022-02-05T19:04:36.373754Z"
    }
   },
   "outputs": [
    {
     "name": "stdout",
     "output_type": "stream",
     "text": [
      "              precision    recall  f1-score   support\n",
      "\n",
      "         acc       0.66      0.60      0.63       127\n",
      "        good       0.56      0.28      0.37        18\n",
      "       unacc       0.88      0.93      0.90       399\n",
      "       vgood       0.80      0.77      0.78        26\n",
      "\n",
      "    accuracy                           0.83       570\n",
      "   macro avg       0.72      0.64      0.67       570\n",
      "weighted avg       0.82      0.83      0.82       570\n",
      "\n"
     ]
    }
   ],
   "source": [
    "print(classification_report(y_test, y_test_pred))"
   ]
  },
  {
   "cell_type": "code",
   "execution_count": 24,
   "metadata": {
    "ExecuteTime": {
     "end_time": "2022-02-05T19:04:36.739329Z",
     "start_time": "2022-02-05T19:04:36.556419Z"
    }
   },
   "outputs": [
    {
     "name": "stdout",
     "output_type": "stream",
     "text": [
      "              precision    recall  f1-score   support\n",
      "\n",
      "         acc       0.67      0.58      0.62       257\n",
      "        good       0.56      0.43      0.49        51\n",
      "       unacc       0.88      0.93      0.90       810\n",
      "       vgood       0.79      0.67      0.72        39\n",
      "\n",
      "    accuracy                           0.82      1157\n",
      "   macro avg       0.72      0.65      0.68      1157\n",
      "weighted avg       0.81      0.82      0.82      1157\n",
      "\n"
     ]
    }
   ],
   "source": [
    "print(classification_report(y_train, y_train_pred))"
   ]
  },
  {
   "cell_type": "markdown",
   "metadata": {
    "ExecuteTime": {
     "end_time": "2021-11-02T10:19:26.083395Z",
     "start_time": "2021-11-02T10:19:25.977243Z"
    }
   },
   "source": [
    "Metric f1 seems to be usable for model evaluation and for comparing different models  because it reflects the balance of accuracy and completeness of detection of cars in the unacceptable category and is quite high for this model."
   ]
  },
  {
   "cell_type": "markdown",
   "metadata": {},
   "source": [
    "Training of Decision Tree model."
   ]
  },
  {
   "cell_type": "code",
   "execution_count": 25,
   "metadata": {
    "ExecuteTime": {
     "end_time": "2022-02-05T19:04:36.851131Z",
     "start_time": "2022-02-05T19:04:36.745348Z"
    }
   },
   "outputs": [
    {
     "data": {
      "text/html": [
       "<style>#sk-container-id-2 {color: black;background-color: white;}#sk-container-id-2 pre{padding: 0;}#sk-container-id-2 div.sk-toggleable {background-color: white;}#sk-container-id-2 label.sk-toggleable__label {cursor: pointer;display: block;width: 100%;margin-bottom: 0;padding: 0.3em;box-sizing: border-box;text-align: center;}#sk-container-id-2 label.sk-toggleable__label-arrow:before {content: \"▸\";float: left;margin-right: 0.25em;color: #696969;}#sk-container-id-2 label.sk-toggleable__label-arrow:hover:before {color: black;}#sk-container-id-2 div.sk-estimator:hover label.sk-toggleable__label-arrow:before {color: black;}#sk-container-id-2 div.sk-toggleable__content {max-height: 0;max-width: 0;overflow: hidden;text-align: left;background-color: #f0f8ff;}#sk-container-id-2 div.sk-toggleable__content pre {margin: 0.2em;color: black;border-radius: 0.25em;background-color: #f0f8ff;}#sk-container-id-2 input.sk-toggleable__control:checked~div.sk-toggleable__content {max-height: 200px;max-width: 100%;overflow: auto;}#sk-container-id-2 input.sk-toggleable__control:checked~label.sk-toggleable__label-arrow:before {content: \"▾\";}#sk-container-id-2 div.sk-estimator input.sk-toggleable__control:checked~label.sk-toggleable__label {background-color: #d4ebff;}#sk-container-id-2 div.sk-label input.sk-toggleable__control:checked~label.sk-toggleable__label {background-color: #d4ebff;}#sk-container-id-2 input.sk-hidden--visually {border: 0;clip: rect(1px 1px 1px 1px);clip: rect(1px, 1px, 1px, 1px);height: 1px;margin: -1px;overflow: hidden;padding: 0;position: absolute;width: 1px;}#sk-container-id-2 div.sk-estimator {font-family: monospace;background-color: #f0f8ff;border: 1px dotted black;border-radius: 0.25em;box-sizing: border-box;margin-bottom: 0.5em;}#sk-container-id-2 div.sk-estimator:hover {background-color: #d4ebff;}#sk-container-id-2 div.sk-parallel-item::after {content: \"\";width: 100%;border-bottom: 1px solid gray;flex-grow: 1;}#sk-container-id-2 div.sk-label:hover label.sk-toggleable__label {background-color: #d4ebff;}#sk-container-id-2 div.sk-serial::before {content: \"\";position: absolute;border-left: 1px solid gray;box-sizing: border-box;top: 0;bottom: 0;left: 50%;z-index: 0;}#sk-container-id-2 div.sk-serial {display: flex;flex-direction: column;align-items: center;background-color: white;padding-right: 0.2em;padding-left: 0.2em;position: relative;}#sk-container-id-2 div.sk-item {position: relative;z-index: 1;}#sk-container-id-2 div.sk-parallel {display: flex;align-items: stretch;justify-content: center;background-color: white;position: relative;}#sk-container-id-2 div.sk-item::before, #sk-container-id-2 div.sk-parallel-item::before {content: \"\";position: absolute;border-left: 1px solid gray;box-sizing: border-box;top: 0;bottom: 0;left: 50%;z-index: -1;}#sk-container-id-2 div.sk-parallel-item {display: flex;flex-direction: column;z-index: 1;position: relative;background-color: white;}#sk-container-id-2 div.sk-parallel-item:first-child::after {align-self: flex-end;width: 50%;}#sk-container-id-2 div.sk-parallel-item:last-child::after {align-self: flex-start;width: 50%;}#sk-container-id-2 div.sk-parallel-item:only-child::after {width: 0;}#sk-container-id-2 div.sk-dashed-wrapped {border: 1px dashed gray;margin: 0 0.4em 0.5em 0.4em;box-sizing: border-box;padding-bottom: 0.4em;background-color: white;}#sk-container-id-2 div.sk-label label {font-family: monospace;font-weight: bold;display: inline-block;line-height: 1.2em;}#sk-container-id-2 div.sk-label-container {text-align: center;}#sk-container-id-2 div.sk-container {/* jupyter's `normalize.less` sets `[hidden] { display: none; }` but bootstrap.min.css set `[hidden] { display: none !important; }` so we also need the `!important` here to be able to override the default hidden behavior on the sphinx rendered scikit-learn.org. See: https://github.com/scikit-learn/scikit-learn/issues/21755 */display: inline-block !important;position: relative;}#sk-container-id-2 div.sk-text-repr-fallback {display: none;}</style><div id=\"sk-container-id-2\" class=\"sk-top-container\"><div class=\"sk-text-repr-fallback\"><pre>DecisionTreeClassifier(max_depth=4, random_state=42)</pre><b>In a Jupyter environment, please rerun this cell to show the HTML representation or trust the notebook. <br />On GitHub, the HTML representation is unable to render, please try loading this page with nbviewer.org.</b></div><div class=\"sk-container\" hidden><div class=\"sk-item\"><div class=\"sk-estimator sk-toggleable\"><input class=\"sk-toggleable__control sk-hidden--visually\" id=\"sk-estimator-id-2\" type=\"checkbox\" checked><label for=\"sk-estimator-id-2\" class=\"sk-toggleable__label sk-toggleable__label-arrow\">DecisionTreeClassifier</label><div class=\"sk-toggleable__content\"><pre>DecisionTreeClassifier(max_depth=4, random_state=42)</pre></div></div></div></div></div>"
      ],
      "text/plain": [
       "DecisionTreeClassifier(max_depth=4, random_state=42)"
      ]
     },
     "execution_count": 25,
     "metadata": {},
     "output_type": "execute_result"
    }
   ],
   "source": [
    "dtc = DecisionTreeClassifier(max_depth=4, random_state=42)\n",
    "dtc.fit(X_train, y_train)"
   ]
  },
  {
   "cell_type": "code",
   "execution_count": 26,
   "metadata": {
    "ExecuteTime": {
     "end_time": "2022-02-05T19:04:36.961177Z",
     "start_time": "2022-02-05T19:04:36.860140Z"
    }
   },
   "outputs": [],
   "source": [
    "y_train_pred=dtc.predict(X_train)"
   ]
  },
  {
   "cell_type": "code",
   "execution_count": 27,
   "metadata": {
    "ExecuteTime": {
     "end_time": "2022-02-05T19:04:37.121263Z",
     "start_time": "2022-02-05T19:04:36.979188Z"
    }
   },
   "outputs": [],
   "source": [
    "y_test_pred=dtc.predict(X_test)"
   ]
  },
  {
   "cell_type": "markdown",
   "metadata": {},
   "source": [
    "Calculating metrics of Decision Tree model to compare it with Logistic Regression model."
   ]
  },
  {
   "cell_type": "code",
   "execution_count": 28,
   "metadata": {
    "ExecuteTime": {
     "end_time": "2022-02-05T19:04:37.309401Z",
     "start_time": "2022-02-05T19:04:37.129239Z"
    }
   },
   "outputs": [
    {
     "name": "stdout",
     "output_type": "stream",
     "text": [
      "              precision    recall  f1-score   support\n",
      "\n",
      "         acc       0.75      0.72      0.74       127\n",
      "        good       0.31      1.00      0.47        18\n",
      "       unacc       0.96      0.94      0.95       399\n",
      "       vgood       0.00      0.00      0.00        26\n",
      "\n",
      "    accuracy                           0.85       570\n",
      "   macro avg       0.51      0.67      0.54       570\n",
      "weighted avg       0.85      0.85      0.84       570\n",
      "\n"
     ]
    }
   ],
   "source": [
    "print(classification_report(y_test, y_test_pred))"
   ]
  },
  {
   "cell_type": "markdown",
   "metadata": {},
   "source": [
    "Comparing two models, it looks like Decision Tree model is better in detecting unacceptable cars and has best accuracy score, than Logistic Regression model, but has a low precision in detecting of good cars and doesn't detect very good cars at all."
   ]
  },
  {
   "cell_type": "markdown",
   "metadata": {
    "ExecuteTime": {
     "end_time": "2021-11-02T10:23:07.523939Z",
     "start_time": "2021-11-02T10:23:07.499537Z"
    }
   },
   "source": [
    "Displaying the parameters of Decision Tree model."
   ]
  },
  {
   "cell_type": "code",
   "execution_count": 29,
   "metadata": {
    "ExecuteTime": {
     "end_time": "2022-02-05T19:04:37.421401Z",
     "start_time": "2022-02-05T19:04:37.317441Z"
    }
   },
   "outputs": [
    {
     "data": {
      "text/plain": [
       "{'ccp_alpha': 0.0,\n",
       " 'class_weight': None,\n",
       " 'criterion': 'gini',\n",
       " 'max_depth': 4,\n",
       " 'max_features': None,\n",
       " 'max_leaf_nodes': None,\n",
       " 'min_impurity_decrease': 0.0,\n",
       " 'min_samples_leaf': 1,\n",
       " 'min_samples_split': 2,\n",
       " 'min_weight_fraction_leaf': 0.0,\n",
       " 'random_state': 42,\n",
       " 'splitter': 'best'}"
      ]
     },
     "execution_count": 29,
     "metadata": {},
     "output_type": "execute_result"
    }
   ],
   "source": [
    "dtc.get_params()"
   ]
  },
  {
   "cell_type": "markdown",
   "metadata": {},
   "source": [
    "Visualizing Decision Tree."
   ]
  },
  {
   "cell_type": "code",
   "execution_count": 30,
   "metadata": {
    "ExecuteTime": {
     "end_time": "2022-02-05T19:04:39.565525Z",
     "start_time": "2022-02-05T19:04:37.429414Z"
    }
   },
   "outputs": [
    {
     "data": {
      "image/png": "[encoded data removed]",
      "text/plain": [
       "<Figure size 864x864 with 1 Axes>"
      ]
     },
     "metadata": {
      "needs_background": "light"
     },
     "output_type": "display_data"
    }
   ],
   "source": [
    "plt.figure(figsize=(12,12))\n",
    "tree.plot_tree(dtc, class_names=dtc.classes_, fontsize=10)\n",
    "plt.show()"
   ]
  },
  {
   "cell_type": "markdown",
   "metadata": {
    "ExecuteTime": {
     "end_time": "2021-11-02T10:24:32.205815Z",
     "start_time": "2021-11-02T10:24:32.200091Z"
    }
   },
   "source": [
    "Tuning hyperparameters of Decision Tree model with GridSearchCV."
   ]
  },
  {
   "cell_type": "code",
   "execution_count": 31,
   "metadata": {
    "ExecuteTime": {
     "end_time": "2022-02-05T19:04:39.596521Z",
     "start_time": "2022-02-05T19:04:39.573406Z"
    }
   },
   "outputs": [],
   "source": [
    "parameters={'criterion':['gini', 'entropy'], \n",
    "            'max_depth':np.arange(1,10),\n",
    "            'min_weight_fraction_leaf':np.arange(0,0.5,0.1)\n",
    "           }"
   ]
  },
  {
   "cell_type": "code",
   "execution_count": 32,
   "metadata": {
    "ExecuteTime": {
     "end_time": "2022-02-05T19:04:39.724391Z",
     "start_time": "2022-02-05T19:04:39.601428Z"
    }
   },
   "outputs": [],
   "source": [
    "search=GridSearchCV(dtc,\n",
    "                      parameters,\n",
    "                      cv = 5, \n",
    "                      scoring=\"accuracy\",\n",
    "                      verbose=3)"
   ]
  },
  {
   "cell_type": "code",
   "execution_count": 33,
   "metadata": {
    "ExecuteTime": {
     "end_time": "2022-02-05T19:04:43.948071Z",
     "start_time": "2022-02-05T19:04:39.731497Z"
    }
   },
   "outputs": [
    {
     "name": "stdout",
     "output_type": "stream",
     "text": [
      "Fitting 5 folds for each of 90 candidates, totalling 450 fits\n",
      "[CV 1/5] END criterion=gini, max_depth=1, min_weight_fraction_leaf=0.0;, score=0.698 total time=   0.0s\n",
      "[CV 2/5] END criterion=gini, max_depth=1, min_weight_fraction_leaf=0.0;, score=0.698 total time=   0.0s\n",
      "[CV 3/5] END criterion=gini, max_depth=1, min_weight_fraction_leaf=0.0;, score=0.701 total time=   0.0s\n",
      "[CV 4/5] END criterion=gini, max_depth=1, min_weight_fraction_leaf=0.0;, score=0.701 total time=   0.0s\n",
      "[CV 5/5] END criterion=gini, max_depth=1, min_weight_fraction_leaf=0.0;, score=0.701 total time=   0.0s\n",
      "[CV 1/5] END criterion=gini, max_depth=1, min_weight_fraction_leaf=0.1;, score=0.698 total time=   0.0s\n",
      "[CV 2/5] END criterion=gini, max_depth=1, min_weight_fraction_leaf=0.1;, score=0.698 total time=   0.0s\n",
      "[CV 3/5] END criterion=gini, max_depth=1, min_weight_fraction_leaf=0.1;, score=0.701 total time=   0.0s\n",
      "[CV 4/5] END criterion=gini, max_depth=1, min_weight_fraction_leaf=0.1;, score=0.701 total time=   0.0s\n",
      "[CV 5/5] END criterion=gini, max_depth=1, min_weight_fraction_leaf=0.1;, score=0.701 total time=   0.0s\n",
      "[CV 1/5] END criterion=gini, max_depth=1, min_weight_fraction_leaf=0.2;, score=0.698 total time=   0.0s\n",
      "[CV 2/5] END criterion=gini, max_depth=1, min_weight_fraction_leaf=0.2;, score=0.698 total time=   0.0s\n",
      "[CV 3/5] END criterion=gini, max_depth=1, min_weight_fraction_leaf=0.2;, score=0.701 total time=   0.0s\n",
      "[CV 4/5] END criterion=gini, max_depth=1, min_weight_fraction_leaf=0.2;, score=0.701 total time=   0.0s\n",
      "[CV 5/5] END criterion=gini, max_depth=1, min_weight_fraction_leaf=0.2;, score=0.701 total time=   0.0s\n",
      "[CV 1/5] END criterion=gini, max_depth=1, min_weight_fraction_leaf=0.30000000000000004;, score=0.698 total time=   0.0s\n",
      "[CV 2/5] END criterion=gini, max_depth=1, min_weight_fraction_leaf=0.30000000000000004;, score=0.698 total time=   0.0s\n",
      "[CV 3/5] END criterion=gini, max_depth=1, min_weight_fraction_leaf=0.30000000000000004;, score=0.701 total time=   0.0s\n",
      "[CV 4/5] END criterion=gini, max_depth=1, min_weight_fraction_leaf=0.30000000000000004;, score=0.701 total time=   0.0s\n",
      "[CV 5/5] END criterion=gini, max_depth=1, min_weight_fraction_leaf=0.30000000000000004;, score=0.701 total time=   0.0s\n",
      "[CV 1/5] END criterion=gini, max_depth=1, min_weight_fraction_leaf=0.4;, score=0.698 total time=   0.0s\n",
      "[CV 2/5] END criterion=gini, max_depth=1, min_weight_fraction_leaf=0.4;, score=0.698 total time=   0.0s\n",
      "[CV 3/5] END criterion=gini, max_depth=1, min_weight_fraction_leaf=0.4;, score=0.701 total time=   0.0s\n",
      "[CV 4/5] END criterion=gini, max_depth=1, min_weight_fraction_leaf=0.4;, score=0.701 total time=   0.0s\n",
      "[CV 5/5] END criterion=gini, max_depth=1, min_weight_fraction_leaf=0.4;, score=0.701 total time=   0.0s\n",
      "[CV 1/5] END criterion=gini, max_depth=2, min_weight_fraction_leaf=0.0;, score=0.793 total time=   0.0s\n",
      "[CV 2/5] END criterion=gini, max_depth=2, min_weight_fraction_leaf=0.0;, score=0.750 total time=   0.0s\n",
      "[CV 3/5] END criterion=gini, max_depth=2, min_weight_fraction_leaf=0.0;, score=0.758 total time=   0.0s\n",
      "[CV 4/5] END criterion=gini, max_depth=2, min_weight_fraction_leaf=0.0;, score=0.758 total time=   0.0s\n",
      "[CV 5/5] END criterion=gini, max_depth=2, min_weight_fraction_leaf=0.0;, score=0.788 total time=   0.0s\n",
      "[CV 1/5] END criterion=gini, max_depth=2, min_weight_fraction_leaf=0.1;, score=0.793 total time=   0.0s\n",
      "[CV 2/5] END criterion=gini, max_depth=2, min_weight_fraction_leaf=0.1;, score=0.750 total time=   0.0s\n",
      "[CV 3/5] END criterion=gini, max_depth=2, min_weight_fraction_leaf=0.1;, score=0.758 total time=   0.0s\n",
      "[CV 4/5] END criterion=gini, max_depth=2, min_weight_fraction_leaf=0.1;, score=0.758 total time=   0.0s\n",
      "[CV 5/5] END criterion=gini, max_depth=2, min_weight_fraction_leaf=0.1;, score=0.788 total time=   0.0s\n",
      "[CV 1/5] END criterion=gini, max_depth=2, min_weight_fraction_leaf=0.2;, score=0.793 total time=   0.0s\n",
      "[CV 2/5] END criterion=gini, max_depth=2, min_weight_fraction_leaf=0.2;, score=0.750 total time=   0.0s\n",
      "[CV 3/5] END criterion=gini, max_depth=2, min_weight_fraction_leaf=0.2;, score=0.758 total time=   0.0s\n",
      "[CV 4/5] END criterion=gini, max_depth=2, min_weight_fraction_leaf=0.2;, score=0.758 total time=   0.0s\n",
      "[CV 5/5] END criterion=gini, max_depth=2, min_weight_fraction_leaf=0.2;, score=0.628 total time=   0.0s\n",
      "[CV 1/5] END criterion=gini, max_depth=2, min_weight_fraction_leaf=0.30000000000000004;, score=0.698 total time=   0.0s\n",
      "[CV 2/5] END criterion=gini, max_depth=2, min_weight_fraction_leaf=0.30000000000000004;, score=0.698 total time=   0.0s\n",
      "[CV 3/5] END criterion=gini, max_depth=2, min_weight_fraction_leaf=0.30000000000000004;, score=0.701 total time=   0.0s\n",
      "[CV 4/5] END criterion=gini, max_depth=2, min_weight_fraction_leaf=0.30000000000000004;, score=0.701 total time=   0.0s\n",
      "[CV 5/5] END criterion=gini, max_depth=2, min_weight_fraction_leaf=0.30000000000000004;, score=0.628 total time=   0.0s\n",
      "[CV 1/5] END criterion=gini, max_depth=2, min_weight_fraction_leaf=0.4;, score=0.698 total time=   0.0s\n",
      "[CV 2/5] END criterion=gini, max_depth=2, min_weight_fraction_leaf=0.4;, score=0.698 total time=   0.0s\n",
      "[CV 3/5] END criterion=gini, max_depth=2, min_weight_fraction_leaf=0.4;, score=0.701 total time=   0.0s\n",
      "[CV 4/5] END criterion=gini, max_depth=2, min_weight_fraction_leaf=0.4;, score=0.701 total time=   0.0s\n",
      "[CV 5/5] END criterion=gini, max_depth=2, min_weight_fraction_leaf=0.4;, score=0.701 total time=   0.0s\n",
      "[CV 1/5] END criterion=gini, max_depth=3, min_weight_fraction_leaf=0.0;, score=0.780 total time=   0.0s\n",
      "[CV 2/5] END criterion=gini, max_depth=3, min_weight_fraction_leaf=0.0;, score=0.776 total time=   0.0s\n",
      "[CV 3/5] END criterion=gini, max_depth=3, min_weight_fraction_leaf=0.0;, score=0.792 total time=   0.0s\n",
      "[CV 4/5] END criterion=gini, max_depth=3, min_weight_fraction_leaf=0.0;, score=0.788 total time=   0.0s\n",
      "[CV 5/5] END criterion=gini, max_depth=3, min_weight_fraction_leaf=0.0;, score=0.753 total time=   0.0s\n",
      "[CV 1/5] END criterion=gini, max_depth=3, min_weight_fraction_leaf=0.1;, score=0.780 total time=   0.0s\n",
      "[CV 2/5] END criterion=gini, max_depth=3, min_weight_fraction_leaf=0.1;, score=0.776 total time=   0.0s\n",
      "[CV 3/5] END criterion=gini, max_depth=3, min_weight_fraction_leaf=0.1;, score=0.792 total time=   0.0s\n",
      "[CV 4/5] END criterion=gini, max_depth=3, min_weight_fraction_leaf=0.1;, score=0.788 total time=   0.0s\n",
      "[CV 5/5] END criterion=gini, max_depth=3, min_weight_fraction_leaf=0.1;, score=0.753 total time=   0.0s\n",
      "[CV 1/5] END criterion=gini, max_depth=3, min_weight_fraction_leaf=0.2;, score=0.780 total time=   0.0s\n",
      "[CV 2/5] END criterion=gini, max_depth=3, min_weight_fraction_leaf=0.2;, score=0.776 total time=   0.0s\n",
      "[CV 3/5] END criterion=gini, max_depth=3, min_weight_fraction_leaf=0.2;, score=0.792 total time=   0.0s\n",
      "[CV 4/5] END criterion=gini, max_depth=3, min_weight_fraction_leaf=0.2;, score=0.788 total time=   0.0s\n",
      "[CV 5/5] END criterion=gini, max_depth=3, min_weight_fraction_leaf=0.2;, score=0.628 total time=   0.0s\n",
      "[CV 1/5] END criterion=gini, max_depth=3, min_weight_fraction_leaf=0.30000000000000004;, score=0.698 total time=   0.0s\n",
      "[CV 2/5] END criterion=gini, max_depth=3, min_weight_fraction_leaf=0.30000000000000004;, score=0.698 total time=   0.0s\n",
      "[CV 3/5] END criterion=gini, max_depth=3, min_weight_fraction_leaf=0.30000000000000004;, score=0.701 total time=   0.0s\n",
      "[CV 4/5] END criterion=gini, max_depth=3, min_weight_fraction_leaf=0.30000000000000004;, score=0.701 total time=   0.0s\n",
      "[CV 5/5] END criterion=gini, max_depth=3, min_weight_fraction_leaf=0.30000000000000004;, score=0.628 total time=   0.0s\n",
      "[CV 1/5] END criterion=gini, max_depth=3, min_weight_fraction_leaf=0.4;, score=0.698 total time=   0.0s\n",
      "[CV 2/5] END criterion=gini, max_depth=3, min_weight_fraction_leaf=0.4;, score=0.698 total time=   0.0s\n",
      "[CV 3/5] END criterion=gini, max_depth=3, min_weight_fraction_leaf=0.4;, score=0.701 total time=   0.0s\n",
      "[CV 4/5] END criterion=gini, max_depth=3, min_weight_fraction_leaf=0.4;, score=0.701 total time=   0.0s\n",
      "[CV 5/5] END criterion=gini, max_depth=3, min_weight_fraction_leaf=0.4;, score=0.701 total time=   0.0s\n",
      "[CV 1/5] END criterion=gini, max_depth=4, min_weight_fraction_leaf=0.0;, score=0.884 total time=   0.0s\n",
      "[CV 2/5] END criterion=gini, max_depth=4, min_weight_fraction_leaf=0.0;, score=0.836 total time=   0.0s\n",
      "[CV 3/5] END criterion=gini, max_depth=4, min_weight_fraction_leaf=0.0;, score=0.831 total time=   0.0s\n",
      "[CV 4/5] END criterion=gini, max_depth=4, min_weight_fraction_leaf=0.0;, score=0.823 total time=   0.0s\n",
      "[CV 5/5] END criterion=gini, max_depth=4, min_weight_fraction_leaf=0.0;, score=0.840 total time=   0.0s\n",
      "[CV 1/5] END criterion=gini, max_depth=4, min_weight_fraction_leaf=0.1;, score=0.884 total time=   0.0s\n",
      "[CV 2/5] END criterion=gini, max_depth=4, min_weight_fraction_leaf=0.1;, score=0.879 total time=   0.0s\n",
      "[CV 3/5] END criterion=gini, max_depth=4, min_weight_fraction_leaf=0.1;, score=0.831 total time=   0.0s\n",
      "[CV 4/5] END criterion=gini, max_depth=4, min_weight_fraction_leaf=0.1;, score=0.823 total time=   0.0s\n",
      "[CV 5/5] END criterion=gini, max_depth=4, min_weight_fraction_leaf=0.1;, score=0.840 total time=   0.0s\n",
      "[CV 1/5] END criterion=gini, max_depth=4, min_weight_fraction_leaf=0.2;, score=0.780 total time=   0.0s\n",
      "[CV 2/5] END criterion=gini, max_depth=4, min_weight_fraction_leaf=0.2;, score=0.776 total time=   0.0s\n",
      "[CV 3/5] END criterion=gini, max_depth=4, min_weight_fraction_leaf=0.2;, score=0.792 total time=   0.0s\n",
      "[CV 4/5] END criterion=gini, max_depth=4, min_weight_fraction_leaf=0.2;, score=0.788 total time=   0.0s\n",
      "[CV 5/5] END criterion=gini, max_depth=4, min_weight_fraction_leaf=0.2;, score=0.628 total time=   0.0s\n",
      "[CV 1/5] END criterion=gini, max_depth=4, min_weight_fraction_leaf=0.30000000000000004;, score=0.698 total time=   0.0s\n",
      "[CV 2/5] END criterion=gini, max_depth=4, min_weight_fraction_leaf=0.30000000000000004;, score=0.698 total time=   0.0s\n",
      "[CV 3/5] END criterion=gini, max_depth=4, min_weight_fraction_leaf=0.30000000000000004;, score=0.701 total time=   0.0s\n",
      "[CV 4/5] END criterion=gini, max_depth=4, min_weight_fraction_leaf=0.30000000000000004;, score=0.701 total time=   0.0s\n",
      "[CV 5/5] END criterion=gini, max_depth=4, min_weight_fraction_leaf=0.30000000000000004;, score=0.628 total time=   0.0s\n",
      "[CV 1/5] END criterion=gini, max_depth=4, min_weight_fraction_leaf=0.4;, score=0.698 total time=   0.0s\n",
      "[CV 2/5] END criterion=gini, max_depth=4, min_weight_fraction_leaf=0.4;, score=0.698 total time=   0.0s\n",
      "[CV 3/5] END criterion=gini, max_depth=4, min_weight_fraction_leaf=0.4;, score=0.701 total time=   0.0s\n",
      "[CV 4/5] END criterion=gini, max_depth=4, min_weight_fraction_leaf=0.4;, score=0.701 total time=   0.0s\n",
      "[CV 5/5] END criterion=gini, max_depth=4, min_weight_fraction_leaf=0.4;, score=0.701 total time=   0.0s\n",
      "[CV 1/5] END criterion=gini, max_depth=5, min_weight_fraction_leaf=0.0;, score=0.875 total time=   0.0s\n",
      "[CV 2/5] END criterion=gini, max_depth=5, min_weight_fraction_leaf=0.0;, score=0.841 total time=   0.0s\n",
      "[CV 3/5] END criterion=gini, max_depth=5, min_weight_fraction_leaf=0.0;, score=0.883 total time=   0.0s\n",
      "[CV 4/5] END criterion=gini, max_depth=5, min_weight_fraction_leaf=0.0;, score=0.853 total time=   0.0s\n",
      "[CV 5/5] END criterion=gini, max_depth=5, min_weight_fraction_leaf=0.0;, score=0.861 total time=   0.0s\n",
      "[CV 1/5] END criterion=gini, max_depth=5, min_weight_fraction_leaf=0.1;, score=0.884 total time=   0.0s\n",
      "[CV 2/5] END criterion=gini, max_depth=5, min_weight_fraction_leaf=0.1;, score=0.879 total time=   0.0s\n",
      "[CV 3/5] END criterion=gini, max_depth=5, min_weight_fraction_leaf=0.1;, score=0.831 total time=   0.0s\n",
      "[CV 4/5] END criterion=gini, max_depth=5, min_weight_fraction_leaf=0.1;, score=0.823 total time=   0.0s\n",
      "[CV 5/5] END criterion=gini, max_depth=5, min_weight_fraction_leaf=0.1;, score=0.840 total time=   0.0s\n",
      "[CV 1/5] END criterion=gini, max_depth=5, min_weight_fraction_leaf=0.2;, score=0.780 total time=   0.0s\n",
      "[CV 2/5] END criterion=gini, max_depth=5, min_weight_fraction_leaf=0.2;, score=0.776 total time=   0.0s\n",
      "[CV 3/5] END criterion=gini, max_depth=5, min_weight_fraction_leaf=0.2;, score=0.792 total time=   0.0s\n",
      "[CV 4/5] END criterion=gini, max_depth=5, min_weight_fraction_leaf=0.2;, score=0.788 total time=   0.0s\n",
      "[CV 5/5] END criterion=gini, max_depth=5, min_weight_fraction_leaf=0.2;, score=0.628 total time=   0.0s\n",
      "[CV 1/5] END criterion=gini, max_depth=5, min_weight_fraction_leaf=0.30000000000000004;, score=0.698 total time=   0.0s\n",
      "[CV 2/5] END criterion=gini, max_depth=5, min_weight_fraction_leaf=0.30000000000000004;, score=0.698 total time=   0.0s\n",
      "[CV 3/5] END criterion=gini, max_depth=5, min_weight_fraction_leaf=0.30000000000000004;, score=0.701 total time=   0.0s\n",
      "[CV 4/5] END criterion=gini, max_depth=5, min_weight_fraction_leaf=0.30000000000000004;, score=0.701 total time=   0.0s\n",
      "[CV 5/5] END criterion=gini, max_depth=5, min_weight_fraction_leaf=0.30000000000000004;, score=0.628 total time=   0.0s\n",
      "[CV 1/5] END criterion=gini, max_depth=5, min_weight_fraction_leaf=0.4;, score=0.698 total time=   0.0s\n",
      "[CV 2/5] END criterion=gini, max_depth=5, min_weight_fraction_leaf=0.4;, score=0.698 total time=   0.0s\n",
      "[CV 3/5] END criterion=gini, max_depth=5, min_weight_fraction_leaf=0.4;, score=0.701 total time=   0.0s\n",
      "[CV 4/5] END criterion=gini, max_depth=5, min_weight_fraction_leaf=0.4;, score=0.701 total time=   0.0s\n",
      "[CV 5/5] END criterion=gini, max_depth=5, min_weight_fraction_leaf=0.4;, score=0.701 total time=   0.0s\n",
      "[CV 1/5] END criterion=gini, max_depth=6, min_weight_fraction_leaf=0.0;, score=0.957 total time=   0.0s\n",
      "[CV 2/5] END criterion=gini, max_depth=6, min_weight_fraction_leaf=0.0;, score=0.940 total time=   0.0s\n",
      "[CV 3/5] END criterion=gini, max_depth=6, min_weight_fraction_leaf=0.0;, score=0.922 total time=   0.0s\n",
      "[CV 4/5] END criterion=gini, max_depth=6, min_weight_fraction_leaf=0.0;, score=0.926 total time=   0.0s\n",
      "[CV 5/5] END criterion=gini, max_depth=6, min_weight_fraction_leaf=0.0;, score=0.952 total time=   0.0s\n",
      "[CV 1/5] END criterion=gini, max_depth=6, min_weight_fraction_leaf=0.1;, score=0.884 total time=   0.0s\n",
      "[CV 2/5] END criterion=gini, max_depth=6, min_weight_fraction_leaf=0.1;, score=0.879 total time=   0.0s\n",
      "[CV 3/5] END criterion=gini, max_depth=6, min_weight_fraction_leaf=0.1;, score=0.831 total time=   0.0s\n",
      "[CV 4/5] END criterion=gini, max_depth=6, min_weight_fraction_leaf=0.1;, score=0.823 total time=   0.0s\n",
      "[CV 5/5] END criterion=gini, max_depth=6, min_weight_fraction_leaf=0.1;, score=0.840 total time=   0.0s\n",
      "[CV 1/5] END criterion=gini, max_depth=6, min_weight_fraction_leaf=0.2;, score=0.780 total time=   0.0s\n",
      "[CV 2/5] END criterion=gini, max_depth=6, min_weight_fraction_leaf=0.2;, score=0.776 total time=   0.0s\n",
      "[CV 3/5] END criterion=gini, max_depth=6, min_weight_fraction_leaf=0.2;, score=0.792 total time=   0.0s\n",
      "[CV 4/5] END criterion=gini, max_depth=6, min_weight_fraction_leaf=0.2;, score=0.788 total time=   0.0s\n",
      "[CV 5/5] END criterion=gini, max_depth=6, min_weight_fraction_leaf=0.2;, score=0.628 total time=   0.0s\n",
      "[CV 1/5] END criterion=gini, max_depth=6, min_weight_fraction_leaf=0.30000000000000004;, score=0.698 total time=   0.0s\n",
      "[CV 2/5] END criterion=gini, max_depth=6, min_weight_fraction_leaf=0.30000000000000004;, score=0.698 total time=   0.0s\n",
      "[CV 3/5] END criterion=gini, max_depth=6, min_weight_fraction_leaf=0.30000000000000004;, score=0.701 total time=   0.0s\n",
      "[CV 4/5] END criterion=gini, max_depth=6, min_weight_fraction_leaf=0.30000000000000004;, score=0.701 total time=   0.0s\n",
      "[CV 5/5] END criterion=gini, max_depth=6, min_weight_fraction_leaf=0.30000000000000004;, score=0.628 total time=   0.0s\n",
      "[CV 1/5] END criterion=gini, max_depth=6, min_weight_fraction_leaf=0.4;, score=0.698 total time=   0.0s\n",
      "[CV 2/5] END criterion=gini, max_depth=6, min_weight_fraction_leaf=0.4;, score=0.698 total time=   0.0s\n",
      "[CV 3/5] END criterion=gini, max_depth=6, min_weight_fraction_leaf=0.4;, score=0.701 total time=   0.0s\n"
     ]
    },
    {
     "name": "stdout",
     "output_type": "stream",
     "text": [
      "[CV 4/5] END criterion=gini, max_depth=6, min_weight_fraction_leaf=0.4;, score=0.701 total time=   0.0s\n",
      "[CV 5/5] END criterion=gini, max_depth=6, min_weight_fraction_leaf=0.4;, score=0.701 total time=   0.0s\n",
      "[CV 1/5] END criterion=gini, max_depth=7, min_weight_fraction_leaf=0.0;, score=0.931 total time=   0.0s\n",
      "[CV 2/5] END criterion=gini, max_depth=7, min_weight_fraction_leaf=0.0;, score=0.909 total time=   0.0s\n",
      "[CV 3/5] END criterion=gini, max_depth=7, min_weight_fraction_leaf=0.0;, score=0.913 total time=   0.0s\n",
      "[CV 4/5] END criterion=gini, max_depth=7, min_weight_fraction_leaf=0.0;, score=0.922 total time=   0.0s\n",
      "[CV 5/5] END criterion=gini, max_depth=7, min_weight_fraction_leaf=0.0;, score=0.944 total time=   0.0s\n",
      "[CV 1/5] END criterion=gini, max_depth=7, min_weight_fraction_leaf=0.1;, score=0.884 total time=   0.0s\n",
      "[CV 2/5] END criterion=gini, max_depth=7, min_weight_fraction_leaf=0.1;, score=0.879 total time=   0.0s\n",
      "[CV 3/5] END criterion=gini, max_depth=7, min_weight_fraction_leaf=0.1;, score=0.831 total time=   0.0s\n",
      "[CV 4/5] END criterion=gini, max_depth=7, min_weight_fraction_leaf=0.1;, score=0.823 total time=   0.0s\n",
      "[CV 5/5] END criterion=gini, max_depth=7, min_weight_fraction_leaf=0.1;, score=0.840 total time=   0.0s\n",
      "[CV 1/5] END criterion=gini, max_depth=7, min_weight_fraction_leaf=0.2;, score=0.780 total time=   0.0s\n",
      "[CV 2/5] END criterion=gini, max_depth=7, min_weight_fraction_leaf=0.2;, score=0.776 total time=   0.0s\n",
      "[CV 3/5] END criterion=gini, max_depth=7, min_weight_fraction_leaf=0.2;, score=0.792 total time=   0.0s\n",
      "[CV 4/5] END criterion=gini, max_depth=7, min_weight_fraction_leaf=0.2;, score=0.788 total time=   0.0s\n",
      "[CV 5/5] END criterion=gini, max_depth=7, min_weight_fraction_leaf=0.2;, score=0.628 total time=   0.0s\n",
      "[CV 1/5] END criterion=gini, max_depth=7, min_weight_fraction_leaf=0.30000000000000004;, score=0.698 total time=   0.0s\n",
      "[CV 2/5] END criterion=gini, max_depth=7, min_weight_fraction_leaf=0.30000000000000004;, score=0.698 total time=   0.0s\n",
      "[CV 3/5] END criterion=gini, max_depth=7, min_weight_fraction_leaf=0.30000000000000004;, score=0.701 total time=   0.0s\n",
      "[CV 4/5] END criterion=gini, max_depth=7, min_weight_fraction_leaf=0.30000000000000004;, score=0.701 total time=   0.0s\n",
      "[CV 5/5] END criterion=gini, max_depth=7, min_weight_fraction_leaf=0.30000000000000004;, score=0.628 total time=   0.0s\n",
      "[CV 1/5] END criterion=gini, max_depth=7, min_weight_fraction_leaf=0.4;, score=0.698 total time=   0.0s\n",
      "[CV 2/5] END criterion=gini, max_depth=7, min_weight_fraction_leaf=0.4;, score=0.698 total time=   0.0s\n",
      "[CV 3/5] END criterion=gini, max_depth=7, min_weight_fraction_leaf=0.4;, score=0.701 total time=   0.0s\n",
      "[CV 4/5] END criterion=gini, max_depth=7, min_weight_fraction_leaf=0.4;, score=0.701 total time=   0.0s\n",
      "[CV 5/5] END criterion=gini, max_depth=7, min_weight_fraction_leaf=0.4;, score=0.701 total time=   0.0s\n",
      "[CV 1/5] END criterion=gini, max_depth=8, min_weight_fraction_leaf=0.0;, score=0.957 total time=   0.0s\n",
      "[CV 2/5] END criterion=gini, max_depth=8, min_weight_fraction_leaf=0.0;, score=0.948 total time=   0.0s\n",
      "[CV 3/5] END criterion=gini, max_depth=8, min_weight_fraction_leaf=0.0;, score=0.961 total time=   0.0s\n",
      "[CV 4/5] END criterion=gini, max_depth=8, min_weight_fraction_leaf=0.0;, score=0.974 total time=   0.0s\n",
      "[CV 5/5] END criterion=gini, max_depth=8, min_weight_fraction_leaf=0.0;, score=0.978 total time=   0.0s\n",
      "[CV 1/5] END criterion=gini, max_depth=8, min_weight_fraction_leaf=0.1;, score=0.884 total time=   0.0s\n",
      "[CV 2/5] END criterion=gini, max_depth=8, min_weight_fraction_leaf=0.1;, score=0.879 total time=   0.0s\n",
      "[CV 3/5] END criterion=gini, max_depth=8, min_weight_fraction_leaf=0.1;, score=0.831 total time=   0.0s\n",
      "[CV 4/5] END criterion=gini, max_depth=8, min_weight_fraction_leaf=0.1;, score=0.823 total time=   0.0s\n",
      "[CV 5/5] END criterion=gini, max_depth=8, min_weight_fraction_leaf=0.1;, score=0.840 total time=   0.0s\n",
      "[CV 1/5] END criterion=gini, max_depth=8, min_weight_fraction_leaf=0.2;, score=0.780 total time=   0.0s\n",
      "[CV 2/5] END criterion=gini, max_depth=8, min_weight_fraction_leaf=0.2;, score=0.776 total time=   0.0s\n",
      "[CV 3/5] END criterion=gini, max_depth=8, min_weight_fraction_leaf=0.2;, score=0.792 total time=   0.0s\n",
      "[CV 4/5] END criterion=gini, max_depth=8, min_weight_fraction_leaf=0.2;, score=0.788 total time=   0.0s\n",
      "[CV 5/5] END criterion=gini, max_depth=8, min_weight_fraction_leaf=0.2;, score=0.628 total time=   0.0s\n",
      "[CV 1/5] END criterion=gini, max_depth=8, min_weight_fraction_leaf=0.30000000000000004;, score=0.698 total time=   0.0s\n",
      "[CV 2/5] END criterion=gini, max_depth=8, min_weight_fraction_leaf=0.30000000000000004;, score=0.698 total time=   0.0s\n",
      "[CV 3/5] END criterion=gini, max_depth=8, min_weight_fraction_leaf=0.30000000000000004;, score=0.701 total time=   0.0s\n",
      "[CV 4/5] END criterion=gini, max_depth=8, min_weight_fraction_leaf=0.30000000000000004;, score=0.701 total time=   0.0s\n",
      "[CV 5/5] END criterion=gini, max_depth=8, min_weight_fraction_leaf=0.30000000000000004;, score=0.628 total time=   0.0s\n",
      "[CV 1/5] END criterion=gini, max_depth=8, min_weight_fraction_leaf=0.4;, score=0.698 total time=   0.0s\n",
      "[CV 2/5] END criterion=gini, max_depth=8, min_weight_fraction_leaf=0.4;, score=0.698 total time=   0.0s\n",
      "[CV 3/5] END criterion=gini, max_depth=8, min_weight_fraction_leaf=0.4;, score=0.701 total time=   0.0s\n",
      "[CV 4/5] END criterion=gini, max_depth=8, min_weight_fraction_leaf=0.4;, score=0.701 total time=   0.0s\n",
      "[CV 5/5] END criterion=gini, max_depth=8, min_weight_fraction_leaf=0.4;, score=0.701 total time=   0.0s\n",
      "[CV 1/5] END criterion=gini, max_depth=9, min_weight_fraction_leaf=0.0;, score=0.957 total time=   0.0s\n",
      "[CV 2/5] END criterion=gini, max_depth=9, min_weight_fraction_leaf=0.0;, score=0.961 total time=   0.0s\n",
      "[CV 3/5] END criterion=gini, max_depth=9, min_weight_fraction_leaf=0.0;, score=0.961 total time=   0.0s\n",
      "[CV 4/5] END criterion=gini, max_depth=9, min_weight_fraction_leaf=0.0;, score=0.978 total time=   0.0s\n",
      "[CV 5/5] END criterion=gini, max_depth=9, min_weight_fraction_leaf=0.0;, score=0.974 total time=   0.0s\n",
      "[CV 1/5] END criterion=gini, max_depth=9, min_weight_fraction_leaf=0.1;, score=0.884 total time=   0.0s\n",
      "[CV 2/5] END criterion=gini, max_depth=9, min_weight_fraction_leaf=0.1;, score=0.879 total time=   0.0s\n",
      "[CV 3/5] END criterion=gini, max_depth=9, min_weight_fraction_leaf=0.1;, score=0.831 total time=   0.0s\n",
      "[CV 4/5] END criterion=gini, max_depth=9, min_weight_fraction_leaf=0.1;, score=0.823 total time=   0.0s\n",
      "[CV 5/5] END criterion=gini, max_depth=9, min_weight_fraction_leaf=0.1;, score=0.840 total time=   0.0s\n",
      "[CV 1/5] END criterion=gini, max_depth=9, min_weight_fraction_leaf=0.2;, score=0.780 total time=   0.0s\n",
      "[CV 2/5] END criterion=gini, max_depth=9, min_weight_fraction_leaf=0.2;, score=0.776 total time=   0.0s\n",
      "[CV 3/5] END criterion=gini, max_depth=9, min_weight_fraction_leaf=0.2;, score=0.792 total time=   0.0s\n",
      "[CV 4/5] END criterion=gini, max_depth=9, min_weight_fraction_leaf=0.2;, score=0.788 total time=   0.0s\n",
      "[CV 5/5] END criterion=gini, max_depth=9, min_weight_fraction_leaf=0.2;, score=0.628 total time=   0.0s\n",
      "[CV 1/5] END criterion=gini, max_depth=9, min_weight_fraction_leaf=0.30000000000000004;, score=0.698 total time=   0.0s\n",
      "[CV 2/5] END criterion=gini, max_depth=9, min_weight_fraction_leaf=0.30000000000000004;, score=0.698 total time=   0.0s\n",
      "[CV 3/5] END criterion=gini, max_depth=9, min_weight_fraction_leaf=0.30000000000000004;, score=0.701 total time=   0.0s\n",
      "[CV 4/5] END criterion=gini, max_depth=9, min_weight_fraction_leaf=0.30000000000000004;, score=0.701 total time=   0.0s\n",
      "[CV 5/5] END criterion=gini, max_depth=9, min_weight_fraction_leaf=0.30000000000000004;, score=0.628 total time=   0.0s\n",
      "[CV 1/5] END criterion=gini, max_depth=9, min_weight_fraction_leaf=0.4;, score=0.698 total time=   0.0s\n",
      "[CV 2/5] END criterion=gini, max_depth=9, min_weight_fraction_leaf=0.4;, score=0.698 total time=   0.0s\n",
      "[CV 3/5] END criterion=gini, max_depth=9, min_weight_fraction_leaf=0.4;, score=0.701 total time=   0.0s\n",
      "[CV 4/5] END criterion=gini, max_depth=9, min_weight_fraction_leaf=0.4;, score=0.701 total time=   0.0s\n",
      "[CV 5/5] END criterion=gini, max_depth=9, min_weight_fraction_leaf=0.4;, score=0.701 total time=   0.0s\n",
      "[CV 1/5] END criterion=entropy, max_depth=1, min_weight_fraction_leaf=0.0;, score=0.698 total time=   0.0s\n",
      "[CV 2/5] END criterion=entropy, max_depth=1, min_weight_fraction_leaf=0.0;, score=0.698 total time=   0.0s\n",
      "[CV 3/5] END criterion=entropy, max_depth=1, min_weight_fraction_leaf=0.0;, score=0.701 total time=   0.0s\n",
      "[CV 4/5] END criterion=entropy, max_depth=1, min_weight_fraction_leaf=0.0;, score=0.701 total time=   0.0s\n",
      "[CV 5/5] END criterion=entropy, max_depth=1, min_weight_fraction_leaf=0.0;, score=0.701 total time=   0.0s\n",
      "[CV 1/5] END criterion=entropy, max_depth=1, min_weight_fraction_leaf=0.1;, score=0.698 total time=   0.0s\n",
      "[CV 2/5] END criterion=entropy, max_depth=1, min_weight_fraction_leaf=0.1;, score=0.698 total time=   0.0s\n",
      "[CV 3/5] END criterion=entropy, max_depth=1, min_weight_fraction_leaf=0.1;, score=0.701 total time=   0.0s\n",
      "[CV 4/5] END criterion=entropy, max_depth=1, min_weight_fraction_leaf=0.1;, score=0.701 total time=   0.0s\n",
      "[CV 5/5] END criterion=entropy, max_depth=1, min_weight_fraction_leaf=0.1;, score=0.701 total time=   0.0s\n",
      "[CV 1/5] END criterion=entropy, max_depth=1, min_weight_fraction_leaf=0.2;, score=0.698 total time=   0.0s\n",
      "[CV 2/5] END criterion=entropy, max_depth=1, min_weight_fraction_leaf=0.2;, score=0.698 total time=   0.0s\n",
      "[CV 3/5] END criterion=entropy, max_depth=1, min_weight_fraction_leaf=0.2;, score=0.701 total time=   0.0s\n",
      "[CV 4/5] END criterion=entropy, max_depth=1, min_weight_fraction_leaf=0.2;, score=0.701 total time=   0.0s\n",
      "[CV 5/5] END criterion=entropy, max_depth=1, min_weight_fraction_leaf=0.2;, score=0.701 total time=   0.0s\n",
      "[CV 1/5] END criterion=entropy, max_depth=1, min_weight_fraction_leaf=0.30000000000000004;, score=0.698 total time=   0.0s\n",
      "[CV 2/5] END criterion=entropy, max_depth=1, min_weight_fraction_leaf=0.30000000000000004;, score=0.698 total time=   0.0s\n",
      "[CV 3/5] END criterion=entropy, max_depth=1, min_weight_fraction_leaf=0.30000000000000004;, score=0.701 total time=   0.0s\n",
      "[CV 4/5] END criterion=entropy, max_depth=1, min_weight_fraction_leaf=0.30000000000000004;, score=0.701 total time=   0.0s\n",
      "[CV 5/5] END criterion=entropy, max_depth=1, min_weight_fraction_leaf=0.30000000000000004;, score=0.701 total time=   0.0s\n",
      "[CV 1/5] END criterion=entropy, max_depth=1, min_weight_fraction_leaf=0.4;, score=0.698 total time=   0.0s\n",
      "[CV 2/5] END criterion=entropy, max_depth=1, min_weight_fraction_leaf=0.4;, score=0.698 total time=   0.0s\n",
      "[CV 3/5] END criterion=entropy, max_depth=1, min_weight_fraction_leaf=0.4;, score=0.701 total time=   0.0s\n",
      "[CV 4/5] END criterion=entropy, max_depth=1, min_weight_fraction_leaf=0.4;, score=0.701 total time=   0.0s\n",
      "[CV 5/5] END criterion=entropy, max_depth=1, min_weight_fraction_leaf=0.4;, score=0.701 total time=   0.0s\n",
      "[CV 1/5] END criterion=entropy, max_depth=2, min_weight_fraction_leaf=0.0;, score=0.793 total time=   0.0s\n",
      "[CV 2/5] END criterion=entropy, max_depth=2, min_weight_fraction_leaf=0.0;, score=0.750 total time=   0.0s\n",
      "[CV 3/5] END criterion=entropy, max_depth=2, min_weight_fraction_leaf=0.0;, score=0.758 total time=   0.0s\n",
      "[CV 4/5] END criterion=entropy, max_depth=2, min_weight_fraction_leaf=0.0;, score=0.758 total time=   0.0s\n",
      "[CV 5/5] END criterion=entropy, max_depth=2, min_weight_fraction_leaf=0.0;, score=0.788 total time=   0.0s\n",
      "[CV 1/5] END criterion=entropy, max_depth=2, min_weight_fraction_leaf=0.1;, score=0.793 total time=   0.0s\n",
      "[CV 2/5] END criterion=entropy, max_depth=2, min_weight_fraction_leaf=0.1;, score=0.750 total time=   0.0s\n",
      "[CV 3/5] END criterion=entropy, max_depth=2, min_weight_fraction_leaf=0.1;, score=0.758 total time=   0.0s\n",
      "[CV 4/5] END criterion=entropy, max_depth=2, min_weight_fraction_leaf=0.1;, score=0.758 total time=   0.0s\n",
      "[CV 5/5] END criterion=entropy, max_depth=2, min_weight_fraction_leaf=0.1;, score=0.788 total time=   0.0s\n",
      "[CV 1/5] END criterion=entropy, max_depth=2, min_weight_fraction_leaf=0.2;, score=0.793 total time=   0.0s\n",
      "[CV 2/5] END criterion=entropy, max_depth=2, min_weight_fraction_leaf=0.2;, score=0.750 total time=   0.0s\n",
      "[CV 3/5] END criterion=entropy, max_depth=2, min_weight_fraction_leaf=0.2;, score=0.758 total time=   0.0s\n",
      "[CV 4/5] END criterion=entropy, max_depth=2, min_weight_fraction_leaf=0.2;, score=0.758 total time=   0.0s\n",
      "[CV 5/5] END criterion=entropy, max_depth=2, min_weight_fraction_leaf=0.2;, score=0.701 total time=   0.0s\n",
      "[CV 1/5] END criterion=entropy, max_depth=2, min_weight_fraction_leaf=0.30000000000000004;, score=0.698 total time=   0.0s\n",
      "[CV 2/5] END criterion=entropy, max_depth=2, min_weight_fraction_leaf=0.30000000000000004;, score=0.698 total time=   0.0s\n",
      "[CV 3/5] END criterion=entropy, max_depth=2, min_weight_fraction_leaf=0.30000000000000004;, score=0.701 total time=   0.0s\n",
      "[CV 4/5] END criterion=entropy, max_depth=2, min_weight_fraction_leaf=0.30000000000000004;, score=0.701 total time=   0.0s\n",
      "[CV 5/5] END criterion=entropy, max_depth=2, min_weight_fraction_leaf=0.30000000000000004;, score=0.701 total time=   0.0s\n",
      "[CV 1/5] END criterion=entropy, max_depth=2, min_weight_fraction_leaf=0.4;, score=0.698 total time=   0.0s\n",
      "[CV 2/5] END criterion=entropy, max_depth=2, min_weight_fraction_leaf=0.4;, score=0.698 total time=   0.0s\n",
      "[CV 3/5] END criterion=entropy, max_depth=2, min_weight_fraction_leaf=0.4;, score=0.701 total time=   0.0s\n",
      "[CV 4/5] END criterion=entropy, max_depth=2, min_weight_fraction_leaf=0.4;, score=0.701 total time=   0.0s\n",
      "[CV 5/5] END criterion=entropy, max_depth=2, min_weight_fraction_leaf=0.4;, score=0.701 total time=   0.0s\n",
      "[CV 1/5] END criterion=entropy, max_depth=3, min_weight_fraction_leaf=0.0;, score=0.780 total time=   0.0s\n",
      "[CV 2/5] END criterion=entropy, max_depth=3, min_weight_fraction_leaf=0.0;, score=0.776 total time=   0.0s\n",
      "[CV 3/5] END criterion=entropy, max_depth=3, min_weight_fraction_leaf=0.0;, score=0.792 total time=   0.0s\n",
      "[CV 4/5] END criterion=entropy, max_depth=3, min_weight_fraction_leaf=0.0;, score=0.788 total time=   0.0s\n",
      "[CV 5/5] END criterion=entropy, max_depth=3, min_weight_fraction_leaf=0.0;, score=0.788 total time=   0.0s\n",
      "[CV 1/5] END criterion=entropy, max_depth=3, min_weight_fraction_leaf=0.1;, score=0.780 total time=   0.0s\n",
      "[CV 2/5] END criterion=entropy, max_depth=3, min_weight_fraction_leaf=0.1;, score=0.776 total time=   0.0s\n",
      "[CV 3/5] END criterion=entropy, max_depth=3, min_weight_fraction_leaf=0.1;, score=0.792 total time=   0.0s\n",
      "[CV 4/5] END criterion=entropy, max_depth=3, min_weight_fraction_leaf=0.1;, score=0.788 total time=   0.0s\n",
      "[CV 5/5] END criterion=entropy, max_depth=3, min_weight_fraction_leaf=0.1;, score=0.788 total time=   0.0s\n",
      "[CV 1/5] END criterion=entropy, max_depth=3, min_weight_fraction_leaf=0.2;, score=0.780 total time=   0.0s\n",
      "[CV 2/5] END criterion=entropy, max_depth=3, min_weight_fraction_leaf=0.2;, score=0.776 total time=   0.0s\n",
      "[CV 3/5] END criterion=entropy, max_depth=3, min_weight_fraction_leaf=0.2;, score=0.792 total time=   0.0s\n",
      "[CV 4/5] END criterion=entropy, max_depth=3, min_weight_fraction_leaf=0.2;, score=0.788 total time=   0.0s\n",
      "[CV 5/5] END criterion=entropy, max_depth=3, min_weight_fraction_leaf=0.2;, score=0.701 total time=   0.0s\n",
      "[CV 1/5] END criterion=entropy, max_depth=3, min_weight_fraction_leaf=0.30000000000000004;, score=0.698 total time=   0.0s\n",
      "[CV 2/5] END criterion=entropy, max_depth=3, min_weight_fraction_leaf=0.30000000000000004;, score=0.698 total time=   0.0s\n",
      "[CV 3/5] END criterion=entropy, max_depth=3, min_weight_fraction_leaf=0.30000000000000004;, score=0.701 total time=   0.0s\n",
      "[CV 4/5] END criterion=entropy, max_depth=3, min_weight_fraction_leaf=0.30000000000000004;, score=0.701 total time=   0.0s\n",
      "[CV 5/5] END criterion=entropy, max_depth=3, min_weight_fraction_leaf=0.30000000000000004;, score=0.701 total time=   0.0s\n",
      "[CV 1/5] END criterion=entropy, max_depth=3, min_weight_fraction_leaf=0.4;, score=0.698 total time=   0.0s\n",
      "[CV 2/5] END criterion=entropy, max_depth=3, min_weight_fraction_leaf=0.4;, score=0.698 total time=   0.0s\n",
      "[CV 3/5] END criterion=entropy, max_depth=3, min_weight_fraction_leaf=0.4;, score=0.701 total time=   0.0s\n",
      "[CV 4/5] END criterion=entropy, max_depth=3, min_weight_fraction_leaf=0.4;, score=0.701 total time=   0.0s\n",
      "[CV 5/5] END criterion=entropy, max_depth=3, min_weight_fraction_leaf=0.4;, score=0.701 total time=   0.0s\n",
      "[CV 1/5] END criterion=entropy, max_depth=4, min_weight_fraction_leaf=0.0;, score=0.862 total time=   0.0s\n",
      "[CV 2/5] END criterion=entropy, max_depth=4, min_weight_fraction_leaf=0.0;, score=0.836 total time=   0.0s\n",
      "[CV 3/5] END criterion=entropy, max_depth=4, min_weight_fraction_leaf=0.0;, score=0.831 total time=   0.0s\n",
      "[CV 4/5] END criterion=entropy, max_depth=4, min_weight_fraction_leaf=0.0;, score=0.792 total time=   0.0s\n"
     ]
    },
    {
     "name": "stdout",
     "output_type": "stream",
     "text": [
      "[CV 5/5] END criterion=entropy, max_depth=4, min_weight_fraction_leaf=0.0;, score=0.840 total time=   0.0s\n",
      "[CV 1/5] END criterion=entropy, max_depth=4, min_weight_fraction_leaf=0.1;, score=0.884 total time=   0.0s\n",
      "[CV 2/5] END criterion=entropy, max_depth=4, min_weight_fraction_leaf=0.1;, score=0.879 total time=   0.0s\n",
      "[CV 3/5] END criterion=entropy, max_depth=4, min_weight_fraction_leaf=0.1;, score=0.831 total time=   0.0s\n",
      "[CV 4/5] END criterion=entropy, max_depth=4, min_weight_fraction_leaf=0.1;, score=0.823 total time=   0.0s\n",
      "[CV 5/5] END criterion=entropy, max_depth=4, min_weight_fraction_leaf=0.1;, score=0.840 total time=   0.0s\n",
      "[CV 1/5] END criterion=entropy, max_depth=4, min_weight_fraction_leaf=0.2;, score=0.780 total time=   0.0s\n",
      "[CV 2/5] END criterion=entropy, max_depth=4, min_weight_fraction_leaf=0.2;, score=0.776 total time=   0.0s\n",
      "[CV 3/5] END criterion=entropy, max_depth=4, min_weight_fraction_leaf=0.2;, score=0.792 total time=   0.0s\n",
      "[CV 4/5] END criterion=entropy, max_depth=4, min_weight_fraction_leaf=0.2;, score=0.788 total time=   0.0s\n",
      "[CV 5/5] END criterion=entropy, max_depth=4, min_weight_fraction_leaf=0.2;, score=0.701 total time=   0.0s\n",
      "[CV 1/5] END criterion=entropy, max_depth=4, min_weight_fraction_leaf=0.30000000000000004;, score=0.698 total time=   0.0s\n",
      "[CV 2/5] END criterion=entropy, max_depth=4, min_weight_fraction_leaf=0.30000000000000004;, score=0.698 total time=   0.0s\n",
      "[CV 3/5] END criterion=entropy, max_depth=4, min_weight_fraction_leaf=0.30000000000000004;, score=0.701 total time=   0.0s\n",
      "[CV 4/5] END criterion=entropy, max_depth=4, min_weight_fraction_leaf=0.30000000000000004;, score=0.701 total time=   0.0s\n",
      "[CV 5/5] END criterion=entropy, max_depth=4, min_weight_fraction_leaf=0.30000000000000004;, score=0.701 total time=   0.0s\n",
      "[CV 1/5] END criterion=entropy, max_depth=4, min_weight_fraction_leaf=0.4;, score=0.698 total time=   0.0s\n",
      "[CV 2/5] END criterion=entropy, max_depth=4, min_weight_fraction_leaf=0.4;, score=0.698 total time=   0.0s\n",
      "[CV 3/5] END criterion=entropy, max_depth=4, min_weight_fraction_leaf=0.4;, score=0.701 total time=   0.0s\n",
      "[CV 4/5] END criterion=entropy, max_depth=4, min_weight_fraction_leaf=0.4;, score=0.701 total time=   0.0s\n",
      "[CV 5/5] END criterion=entropy, max_depth=4, min_weight_fraction_leaf=0.4;, score=0.701 total time=   0.0s\n",
      "[CV 1/5] END criterion=entropy, max_depth=5, min_weight_fraction_leaf=0.0;, score=0.845 total time=   0.0s\n",
      "[CV 2/5] END criterion=entropy, max_depth=5, min_weight_fraction_leaf=0.0;, score=0.841 total time=   0.0s\n",
      "[CV 3/5] END criterion=entropy, max_depth=5, min_weight_fraction_leaf=0.0;, score=0.883 total time=   0.0s\n",
      "[CV 4/5] END criterion=entropy, max_depth=5, min_weight_fraction_leaf=0.0;, score=0.835 total time=   0.0s\n",
      "[CV 5/5] END criterion=entropy, max_depth=5, min_weight_fraction_leaf=0.0;, score=0.861 total time=   0.0s\n",
      "[CV 1/5] END criterion=entropy, max_depth=5, min_weight_fraction_leaf=0.1;, score=0.884 total time=   0.0s\n",
      "[CV 2/5] END criterion=entropy, max_depth=5, min_weight_fraction_leaf=0.1;, score=0.879 total time=   0.0s\n",
      "[CV 3/5] END criterion=entropy, max_depth=5, min_weight_fraction_leaf=0.1;, score=0.831 total time=   0.0s\n",
      "[CV 4/5] END criterion=entropy, max_depth=5, min_weight_fraction_leaf=0.1;, score=0.823 total time=   0.0s\n",
      "[CV 5/5] END criterion=entropy, max_depth=5, min_weight_fraction_leaf=0.1;, score=0.840 total time=   0.0s\n",
      "[CV 1/5] END criterion=entropy, max_depth=5, min_weight_fraction_leaf=0.2;, score=0.780 total time=   0.0s\n",
      "[CV 2/5] END criterion=entropy, max_depth=5, min_weight_fraction_leaf=0.2;, score=0.776 total time=   0.0s\n",
      "[CV 3/5] END criterion=entropy, max_depth=5, min_weight_fraction_leaf=0.2;, score=0.792 total time=   0.0s\n",
      "[CV 4/5] END criterion=entropy, max_depth=5, min_weight_fraction_leaf=0.2;, score=0.788 total time=   0.0s\n",
      "[CV 5/5] END criterion=entropy, max_depth=5, min_weight_fraction_leaf=0.2;, score=0.701 total time=   0.0s\n",
      "[CV 1/5] END criterion=entropy, max_depth=5, min_weight_fraction_leaf=0.30000000000000004;, score=0.698 total time=   0.0s\n",
      "[CV 2/5] END criterion=entropy, max_depth=5, min_weight_fraction_leaf=0.30000000000000004;, score=0.698 total time=   0.0s\n",
      "[CV 3/5] END criterion=entropy, max_depth=5, min_weight_fraction_leaf=0.30000000000000004;, score=0.701 total time=   0.0s\n",
      "[CV 4/5] END criterion=entropy, max_depth=5, min_weight_fraction_leaf=0.30000000000000004;, score=0.701 total time=   0.0s\n",
      "[CV 5/5] END criterion=entropy, max_depth=5, min_weight_fraction_leaf=0.30000000000000004;, score=0.701 total time=   0.0s\n",
      "[CV 1/5] END criterion=entropy, max_depth=5, min_weight_fraction_leaf=0.4;, score=0.698 total time=   0.0s\n",
      "[CV 2/5] END criterion=entropy, max_depth=5, min_weight_fraction_leaf=0.4;, score=0.698 total time=   0.0s\n",
      "[CV 3/5] END criterion=entropy, max_depth=5, min_weight_fraction_leaf=0.4;, score=0.701 total time=   0.0s\n",
      "[CV 4/5] END criterion=entropy, max_depth=5, min_weight_fraction_leaf=0.4;, score=0.701 total time=   0.0s\n",
      "[CV 5/5] END criterion=entropy, max_depth=5, min_weight_fraction_leaf=0.4;, score=0.701 total time=   0.0s\n",
      "[CV 1/5] END criterion=entropy, max_depth=6, min_weight_fraction_leaf=0.0;, score=0.935 total time=   0.0s\n",
      "[CV 2/5] END criterion=entropy, max_depth=6, min_weight_fraction_leaf=0.0;, score=0.940 total time=   0.0s\n",
      "[CV 3/5] END criterion=entropy, max_depth=6, min_weight_fraction_leaf=0.0;, score=0.922 total time=   0.0s\n",
      "[CV 4/5] END criterion=entropy, max_depth=6, min_weight_fraction_leaf=0.0;, score=0.913 total time=   0.0s\n",
      "[CV 5/5] END criterion=entropy, max_depth=6, min_weight_fraction_leaf=0.0;, score=0.952 total time=   0.0s\n",
      "[CV 1/5] END criterion=entropy, max_depth=6, min_weight_fraction_leaf=0.1;, score=0.884 total time=   0.0s\n",
      "[CV 2/5] END criterion=entropy, max_depth=6, min_weight_fraction_leaf=0.1;, score=0.879 total time=   0.0s\n",
      "[CV 3/5] END criterion=entropy, max_depth=6, min_weight_fraction_leaf=0.1;, score=0.831 total time=   0.0s\n",
      "[CV 4/5] END criterion=entropy, max_depth=6, min_weight_fraction_leaf=0.1;, score=0.823 total time=   0.0s\n",
      "[CV 5/5] END criterion=entropy, max_depth=6, min_weight_fraction_leaf=0.1;, score=0.840 total time=   0.0s\n",
      "[CV 1/5] END criterion=entropy, max_depth=6, min_weight_fraction_leaf=0.2;, score=0.780 total time=   0.0s\n",
      "[CV 2/5] END criterion=entropy, max_depth=6, min_weight_fraction_leaf=0.2;, score=0.776 total time=   0.0s\n",
      "[CV 3/5] END criterion=entropy, max_depth=6, min_weight_fraction_leaf=0.2;, score=0.792 total time=   0.0s\n",
      "[CV 4/5] END criterion=entropy, max_depth=6, min_weight_fraction_leaf=0.2;, score=0.788 total time=   0.0s\n",
      "[CV 5/5] END criterion=entropy, max_depth=6, min_weight_fraction_leaf=0.2;, score=0.701 total time=   0.0s\n",
      "[CV 1/5] END criterion=entropy, max_depth=6, min_weight_fraction_leaf=0.30000000000000004;, score=0.698 total time=   0.0s\n",
      "[CV 2/5] END criterion=entropy, max_depth=6, min_weight_fraction_leaf=0.30000000000000004;, score=0.698 total time=   0.0s\n",
      "[CV 3/5] END criterion=entropy, max_depth=6, min_weight_fraction_leaf=0.30000000000000004;, score=0.701 total time=   0.0s\n",
      "[CV 4/5] END criterion=entropy, max_depth=6, min_weight_fraction_leaf=0.30000000000000004;, score=0.701 total time=   0.0s\n",
      "[CV 5/5] END criterion=entropy, max_depth=6, min_weight_fraction_leaf=0.30000000000000004;, score=0.701 total time=   0.0s\n",
      "[CV 1/5] END criterion=entropy, max_depth=6, min_weight_fraction_leaf=0.4;, score=0.698 total time=   0.0s\n",
      "[CV 2/5] END criterion=entropy, max_depth=6, min_weight_fraction_leaf=0.4;, score=0.698 total time=   0.0s\n",
      "[CV 3/5] END criterion=entropy, max_depth=6, min_weight_fraction_leaf=0.4;, score=0.701 total time=   0.0s\n",
      "[CV 4/5] END criterion=entropy, max_depth=6, min_weight_fraction_leaf=0.4;, score=0.701 total time=   0.0s\n",
      "[CV 5/5] END criterion=entropy, max_depth=6, min_weight_fraction_leaf=0.4;, score=0.701 total time=   0.0s\n",
      "[CV 1/5] END criterion=entropy, max_depth=7, min_weight_fraction_leaf=0.0;, score=0.909 total time=   0.0s\n",
      "[CV 2/5] END criterion=entropy, max_depth=7, min_weight_fraction_leaf=0.0;, score=0.927 total time=   0.0s\n",
      "[CV 3/5] END criterion=entropy, max_depth=7, min_weight_fraction_leaf=0.0;, score=0.931 total time=   0.0s\n",
      "[CV 4/5] END criterion=entropy, max_depth=7, min_weight_fraction_leaf=0.0;, score=0.922 total time=   0.0s\n",
      "[CV 5/5] END criterion=entropy, max_depth=7, min_weight_fraction_leaf=0.0;, score=0.935 total time=   0.0s\n",
      "[CV 1/5] END criterion=entropy, max_depth=7, min_weight_fraction_leaf=0.1;, score=0.884 total time=   0.0s\n",
      "[CV 2/5] END criterion=entropy, max_depth=7, min_weight_fraction_leaf=0.1;, score=0.879 total time=   0.0s\n",
      "[CV 3/5] END criterion=entropy, max_depth=7, min_weight_fraction_leaf=0.1;, score=0.831 total time=   0.0s\n",
      "[CV 4/5] END criterion=entropy, max_depth=7, min_weight_fraction_leaf=0.1;, score=0.823 total time=   0.0s\n",
      "[CV 5/5] END criterion=entropy, max_depth=7, min_weight_fraction_leaf=0.1;, score=0.840 total time=   0.0s\n",
      "[CV 1/5] END criterion=entropy, max_depth=7, min_weight_fraction_leaf=0.2;, score=0.780 total time=   0.0s\n",
      "[CV 2/5] END criterion=entropy, max_depth=7, min_weight_fraction_leaf=0.2;, score=0.776 total time=   0.0s\n",
      "[CV 3/5] END criterion=entropy, max_depth=7, min_weight_fraction_leaf=0.2;, score=0.792 total time=   0.0s\n",
      "[CV 4/5] END criterion=entropy, max_depth=7, min_weight_fraction_leaf=0.2;, score=0.788 total time=   0.0s\n",
      "[CV 5/5] END criterion=entropy, max_depth=7, min_weight_fraction_leaf=0.2;, score=0.701 total time=   0.0s\n",
      "[CV 1/5] END criterion=entropy, max_depth=7, min_weight_fraction_leaf=0.30000000000000004;, score=0.698 total time=   0.0s\n",
      "[CV 2/5] END criterion=entropy, max_depth=7, min_weight_fraction_leaf=0.30000000000000004;, score=0.698 total time=   0.0s\n",
      "[CV 3/5] END criterion=entropy, max_depth=7, min_weight_fraction_leaf=0.30000000000000004;, score=0.701 total time=   0.0s\n",
      "[CV 4/5] END criterion=entropy, max_depth=7, min_weight_fraction_leaf=0.30000000000000004;, score=0.701 total time=   0.0s\n",
      "[CV 5/5] END criterion=entropy, max_depth=7, min_weight_fraction_leaf=0.30000000000000004;, score=0.701 total time=   0.0s\n",
      "[CV 1/5] END criterion=entropy, max_depth=7, min_weight_fraction_leaf=0.4;, score=0.698 total time=   0.0s\n",
      "[CV 2/5] END criterion=entropy, max_depth=7, min_weight_fraction_leaf=0.4;, score=0.698 total time=   0.0s\n",
      "[CV 3/5] END criterion=entropy, max_depth=7, min_weight_fraction_leaf=0.4;, score=0.701 total time=   0.0s\n",
      "[CV 4/5] END criterion=entropy, max_depth=7, min_weight_fraction_leaf=0.4;, score=0.701 total time=   0.0s\n",
      "[CV 5/5] END criterion=entropy, max_depth=7, min_weight_fraction_leaf=0.4;, score=0.701 total time=   0.0s\n",
      "[CV 1/5] END criterion=entropy, max_depth=8, min_weight_fraction_leaf=0.0;, score=0.953 total time=   0.0s\n",
      "[CV 2/5] END criterion=entropy, max_depth=8, min_weight_fraction_leaf=0.0;, score=0.970 total time=   0.0s\n",
      "[CV 3/5] END criterion=entropy, max_depth=8, min_weight_fraction_leaf=0.0;, score=0.948 total time=   0.0s\n",
      "[CV 4/5] END criterion=entropy, max_depth=8, min_weight_fraction_leaf=0.0;, score=0.961 total time=   0.0s\n",
      "[CV 5/5] END criterion=entropy, max_depth=8, min_weight_fraction_leaf=0.0;, score=0.974 total time=   0.0s\n",
      "[CV 1/5] END criterion=entropy, max_depth=8, min_weight_fraction_leaf=0.1;, score=0.884 total time=   0.0s\n",
      "[CV 2/5] END criterion=entropy, max_depth=8, min_weight_fraction_leaf=0.1;, score=0.879 total time=   0.0s\n",
      "[CV 3/5] END criterion=entropy, max_depth=8, min_weight_fraction_leaf=0.1;, score=0.831 total time=   0.0s\n",
      "[CV 4/5] END criterion=entropy, max_depth=8, min_weight_fraction_leaf=0.1;, score=0.823 total time=   0.0s\n",
      "[CV 5/5] END criterion=entropy, max_depth=8, min_weight_fraction_leaf=0.1;, score=0.840 total time=   0.0s\n",
      "[CV 1/5] END criterion=entropy, max_depth=8, min_weight_fraction_leaf=0.2;, score=0.780 total time=   0.0s\n",
      "[CV 2/5] END criterion=entropy, max_depth=8, min_weight_fraction_leaf=0.2;, score=0.776 total time=   0.0s\n",
      "[CV 3/5] END criterion=entropy, max_depth=8, min_weight_fraction_leaf=0.2;, score=0.792 total time=   0.0s\n",
      "[CV 4/5] END criterion=entropy, max_depth=8, min_weight_fraction_leaf=0.2;, score=0.788 total time=   0.0s\n",
      "[CV 5/5] END criterion=entropy, max_depth=8, min_weight_fraction_leaf=0.2;, score=0.701 total time=   0.0s\n",
      "[CV 1/5] END criterion=entropy, max_depth=8, min_weight_fraction_leaf=0.30000000000000004;, score=0.698 total time=   0.0s\n",
      "[CV 2/5] END criterion=entropy, max_depth=8, min_weight_fraction_leaf=0.30000000000000004;, score=0.698 total time=   0.0s\n",
      "[CV 3/5] END criterion=entropy, max_depth=8, min_weight_fraction_leaf=0.30000000000000004;, score=0.701 total time=   0.0s\n",
      "[CV 4/5] END criterion=entropy, max_depth=8, min_weight_fraction_leaf=0.30000000000000004;, score=0.701 total time=   0.0s\n",
      "[CV 5/5] END criterion=entropy, max_depth=8, min_weight_fraction_leaf=0.30000000000000004;, score=0.701 total time=   0.0s\n",
      "[CV 1/5] END criterion=entropy, max_depth=8, min_weight_fraction_leaf=0.4;, score=0.698 total time=   0.0s\n",
      "[CV 2/5] END criterion=entropy, max_depth=8, min_weight_fraction_leaf=0.4;, score=0.698 total time=   0.0s\n",
      "[CV 3/5] END criterion=entropy, max_depth=8, min_weight_fraction_leaf=0.4;, score=0.701 total time=   0.0s\n",
      "[CV 4/5] END criterion=entropy, max_depth=8, min_weight_fraction_leaf=0.4;, score=0.701 total time=   0.0s\n",
      "[CV 5/5] END criterion=entropy, max_depth=8, min_weight_fraction_leaf=0.4;, score=0.701 total time=   0.0s\n",
      "[CV 1/5] END criterion=entropy, max_depth=9, min_weight_fraction_leaf=0.0;, score=0.957 total time=   0.0s\n",
      "[CV 2/5] END criterion=entropy, max_depth=9, min_weight_fraction_leaf=0.0;, score=0.961 total time=   0.0s\n",
      "[CV 3/5] END criterion=entropy, max_depth=9, min_weight_fraction_leaf=0.0;, score=0.970 total time=   0.0s\n",
      "[CV 4/5] END criterion=entropy, max_depth=9, min_weight_fraction_leaf=0.0;, score=0.983 total time=   0.0s\n",
      "[CV 5/5] END criterion=entropy, max_depth=9, min_weight_fraction_leaf=0.0;, score=0.978 total time=   0.0s\n",
      "[CV 1/5] END criterion=entropy, max_depth=9, min_weight_fraction_leaf=0.1;, score=0.884 total time=   0.0s\n",
      "[CV 2/5] END criterion=entropy, max_depth=9, min_weight_fraction_leaf=0.1;, score=0.879 total time=   0.0s\n",
      "[CV 3/5] END criterion=entropy, max_depth=9, min_weight_fraction_leaf=0.1;, score=0.831 total time=   0.0s\n",
      "[CV 4/5] END criterion=entropy, max_depth=9, min_weight_fraction_leaf=0.1;, score=0.823 total time=   0.0s\n",
      "[CV 5/5] END criterion=entropy, max_depth=9, min_weight_fraction_leaf=0.1;, score=0.840 total time=   0.0s\n",
      "[CV 1/5] END criterion=entropy, max_depth=9, min_weight_fraction_leaf=0.2;, score=0.780 total time=   0.0s\n",
      "[CV 2/5] END criterion=entropy, max_depth=9, min_weight_fraction_leaf=0.2;, score=0.776 total time=   0.0s\n",
      "[CV 3/5] END criterion=entropy, max_depth=9, min_weight_fraction_leaf=0.2;, score=0.792 total time=   0.0s\n",
      "[CV 4/5] END criterion=entropy, max_depth=9, min_weight_fraction_leaf=0.2;, score=0.788 total time=   0.0s\n",
      "[CV 5/5] END criterion=entropy, max_depth=9, min_weight_fraction_leaf=0.2;, score=0.701 total time=   0.0s\n",
      "[CV 1/5] END criterion=entropy, max_depth=9, min_weight_fraction_leaf=0.30000000000000004;, score=0.698 total time=   0.0s\n",
      "[CV 2/5] END criterion=entropy, max_depth=9, min_weight_fraction_leaf=0.30000000000000004;, score=0.698 total time=   0.0s\n",
      "[CV 3/5] END criterion=entropy, max_depth=9, min_weight_fraction_leaf=0.30000000000000004;, score=0.701 total time=   0.0s\n",
      "[CV 4/5] END criterion=entropy, max_depth=9, min_weight_fraction_leaf=0.30000000000000004;, score=0.701 total time=   0.0s\n",
      "[CV 5/5] END criterion=entropy, max_depth=9, min_weight_fraction_leaf=0.30000000000000004;, score=0.701 total time=   0.0s\n",
      "[CV 1/5] END criterion=entropy, max_depth=9, min_weight_fraction_leaf=0.4;, score=0.698 total time=   0.0s\n",
      "[CV 2/5] END criterion=entropy, max_depth=9, min_weight_fraction_leaf=0.4;, score=0.698 total time=   0.0s\n",
      "[CV 3/5] END criterion=entropy, max_depth=9, min_weight_fraction_leaf=0.4;, score=0.701 total time=   0.0s\n",
      "[CV 4/5] END criterion=entropy, max_depth=9, min_weight_fraction_leaf=0.4;, score=0.701 total time=   0.0s\n",
      "[CV 5/5] END criterion=entropy, max_depth=9, min_weight_fraction_leaf=0.4;, score=0.701 total time=   0.0s\n"
     ]
    },
    {
     "data": {
      "text/html": [
       "<style>#sk-container-id-3 {color: black;background-color: white;}#sk-container-id-3 pre{padding: 0;}#sk-container-id-3 div.sk-toggleable {background-color: white;}#sk-container-id-3 label.sk-toggleable__label {cursor: pointer;display: block;width: 100%;margin-bottom: 0;padding: 0.3em;box-sizing: border-box;text-align: center;}#sk-container-id-3 label.sk-toggleable__label-arrow:before {content: \"▸\";float: left;margin-right: 0.25em;color: #696969;}#sk-container-id-3 label.sk-toggleable__label-arrow:hover:before {color: black;}#sk-container-id-3 div.sk-estimator:hover label.sk-toggleable__label-arrow:before {color: black;}#sk-container-id-3 div.sk-toggleable__content {max-height: 0;max-width: 0;overflow: hidden;text-align: left;background-color: #f0f8ff;}#sk-container-id-3 div.sk-toggleable__content pre {margin: 0.2em;color: black;border-radius: 0.25em;background-color: #f0f8ff;}#sk-container-id-3 input.sk-toggleable__control:checked~div.sk-toggleable__content {max-height: 200px;max-width: 100%;overflow: auto;}#sk-container-id-3 input.sk-toggleable__control:checked~label.sk-toggleable__label-arrow:before {content: \"▾\";}#sk-container-id-3 div.sk-estimator input.sk-toggleable__control:checked~label.sk-toggleable__label {background-color: #d4ebff;}#sk-container-id-3 div.sk-label input.sk-toggleable__control:checked~label.sk-toggleable__label {background-color: #d4ebff;}#sk-container-id-3 input.sk-hidden--visually {border: 0;clip: rect(1px 1px 1px 1px);clip: rect(1px, 1px, 1px, 1px);height: 1px;margin: -1px;overflow: hidden;padding: 0;position: absolute;width: 1px;}#sk-container-id-3 div.sk-estimator {font-family: monospace;background-color: #f0f8ff;border: 1px dotted black;border-radius: 0.25em;box-sizing: border-box;margin-bottom: 0.5em;}#sk-container-id-3 div.sk-estimator:hover {background-color: #d4ebff;}#sk-container-id-3 div.sk-parallel-item::after {content: \"\";width: 100%;border-bottom: 1px solid gray;flex-grow: 1;}#sk-container-id-3 div.sk-label:hover label.sk-toggleable__label {background-color: #d4ebff;}#sk-container-id-3 div.sk-serial::before {content: \"\";position: absolute;border-left: 1px solid gray;box-sizing: border-box;top: 0;bottom: 0;left: 50%;z-index: 0;}#sk-container-id-3 div.sk-serial {display: flex;flex-direction: column;align-items: center;background-color: white;padding-right: 0.2em;padding-left: 0.2em;position: relative;}#sk-container-id-3 div.sk-item {position: relative;z-index: 1;}#sk-container-id-3 div.sk-parallel {display: flex;align-items: stretch;justify-content: center;background-color: white;position: relative;}#sk-container-id-3 div.sk-item::before, #sk-container-id-3 div.sk-parallel-item::before {content: \"\";position: absolute;border-left: 1px solid gray;box-sizing: border-box;top: 0;bottom: 0;left: 50%;z-index: -1;}#sk-container-id-3 div.sk-parallel-item {display: flex;flex-direction: column;z-index: 1;position: relative;background-color: white;}#sk-container-id-3 div.sk-parallel-item:first-child::after {align-self: flex-end;width: 50%;}#sk-container-id-3 div.sk-parallel-item:last-child::after {align-self: flex-start;width: 50%;}#sk-container-id-3 div.sk-parallel-item:only-child::after {width: 0;}#sk-container-id-3 div.sk-dashed-wrapped {border: 1px dashed gray;margin: 0 0.4em 0.5em 0.4em;box-sizing: border-box;padding-bottom: 0.4em;background-color: white;}#sk-container-id-3 div.sk-label label {font-family: monospace;font-weight: bold;display: inline-block;line-height: 1.2em;}#sk-container-id-3 div.sk-label-container {text-align: center;}#sk-container-id-3 div.sk-container {/* jupyter's `normalize.less` sets `[hidden] { display: none; }` but bootstrap.min.css set `[hidden] { display: none !important; }` so we also need the `!important` here to be able to override the default hidden behavior on the sphinx rendered scikit-learn.org. See: https://github.com/scikit-learn/scikit-learn/issues/21755 */display: inline-block !important;position: relative;}#sk-container-id-3 div.sk-text-repr-fallback {display: none;}</style><div id=\"sk-container-id-3\" class=\"sk-top-container\"><div class=\"sk-text-repr-fallback\"><pre>GridSearchCV(cv=5,\n",
       "             estimator=DecisionTreeClassifier(max_depth=4, random_state=42),\n",
       "             param_grid={&#x27;criterion&#x27;: [&#x27;gini&#x27;, &#x27;entropy&#x27;],\n",
       "                         &#x27;max_depth&#x27;: array([1, 2, 3, 4, 5, 6, 7, 8, 9]),\n",
       "                         &#x27;min_weight_fraction_leaf&#x27;: array([0. , 0.1, 0.2, 0.3, 0.4])},\n",
       "             scoring=&#x27;accuracy&#x27;, verbose=3)</pre><b>In a Jupyter environment, please rerun this cell to show the HTML representation or trust the notebook. <br />On GitHub, the HTML representation is unable to render, please try loading this page with nbviewer.org.</b></div><div class=\"sk-container\" hidden><div class=\"sk-item sk-dashed-wrapped\"><div class=\"sk-label-container\"><div class=\"sk-label sk-toggleable\"><input class=\"sk-toggleable__control sk-hidden--visually\" id=\"sk-estimator-id-3\" type=\"checkbox\" ><label for=\"sk-estimator-id-3\" class=\"sk-toggleable__label sk-toggleable__label-arrow\">GridSearchCV</label><div class=\"sk-toggleable__content\"><pre>GridSearchCV(cv=5,\n",
       "             estimator=DecisionTreeClassifier(max_depth=4, random_state=42),\n",
       "             param_grid={&#x27;criterion&#x27;: [&#x27;gini&#x27;, &#x27;entropy&#x27;],\n",
       "                         &#x27;max_depth&#x27;: array([1, 2, 3, 4, 5, 6, 7, 8, 9]),\n",
       "                         &#x27;min_weight_fraction_leaf&#x27;: array([0. , 0.1, 0.2, 0.3, 0.4])},\n",
       "             scoring=&#x27;accuracy&#x27;, verbose=3)</pre></div></div></div><div class=\"sk-parallel\"><div class=\"sk-parallel-item\"><div class=\"sk-item\"><div class=\"sk-label-container\"><div class=\"sk-label sk-toggleable\"><input class=\"sk-toggleable__control sk-hidden--visually\" id=\"sk-estimator-id-4\" type=\"checkbox\" ><label for=\"sk-estimator-id-4\" class=\"sk-toggleable__label sk-toggleable__label-arrow\">estimator: DecisionTreeClassifier</label><div class=\"sk-toggleable__content\"><pre>DecisionTreeClassifier(max_depth=4, random_state=42)</pre></div></div></div><div class=\"sk-serial\"><div class=\"sk-item\"><div class=\"sk-estimator sk-toggleable\"><input class=\"sk-toggleable__control sk-hidden--visually\" id=\"sk-estimator-id-5\" type=\"checkbox\" ><label for=\"sk-estimator-id-5\" class=\"sk-toggleable__label sk-toggleable__label-arrow\">DecisionTreeClassifier</label><div class=\"sk-toggleable__content\"><pre>DecisionTreeClassifier(max_depth=4, random_state=42)</pre></div></div></div></div></div></div></div></div></div></div>"
      ],
      "text/plain": [
       "GridSearchCV(cv=5,\n",
       "             estimator=DecisionTreeClassifier(max_depth=4, random_state=42),\n",
       "             param_grid={'criterion': ['gini', 'entropy'],\n",
       "                         'max_depth': array([1, 2, 3, 4, 5, 6, 7, 8, 9]),\n",
       "                         'min_weight_fraction_leaf': array([0. , 0.1, 0.2, 0.3, 0.4])},\n",
       "             scoring='accuracy', verbose=3)"
      ]
     },
     "execution_count": 33,
     "metadata": {},
     "output_type": "execute_result"
    }
   ],
   "source": [
    "search.fit(X_train, y_train)"
   ]
  },
  {
   "cell_type": "code",
   "execution_count": 34,
   "metadata": {
    "ExecuteTime": {
     "end_time": "2022-02-05T19:04:43.980083Z",
     "start_time": "2022-02-05T19:04:43.954090Z"
    }
   },
   "outputs": [
    {
     "data": {
      "text/plain": [
       "{'criterion': 'entropy', 'max_depth': 9, 'min_weight_fraction_leaf': 0.0}"
      ]
     },
     "execution_count": 34,
     "metadata": {},
     "output_type": "execute_result"
    }
   ],
   "source": [
    "search.best_params_"
   ]
  },
  {
   "cell_type": "code",
   "execution_count": 35,
   "metadata": {
    "ExecuteTime": {
     "end_time": "2022-02-05T19:04:44.123451Z",
     "start_time": "2022-02-05T19:04:43.989090Z"
    }
   },
   "outputs": [],
   "source": [
    "best_model=search.best_estimator_"
   ]
  },
  {
   "cell_type": "code",
   "execution_count": 36,
   "metadata": {
    "ExecuteTime": {
     "end_time": "2022-02-05T19:04:44.263368Z",
     "start_time": "2022-02-05T19:04:44.130320Z"
    }
   },
   "outputs": [],
   "source": [
    "y_train_pred = best_model.predict(X_train)\n",
    "y_test_pred = best_model.predict(X_test)"
   ]
  },
  {
   "cell_type": "markdown",
   "metadata": {
    "ExecuteTime": {
     "end_time": "2021-11-02T10:31:41.716381Z",
     "start_time": "2021-11-02T10:31:41.713212Z"
    }
   },
   "source": [
    "Displaying classification report for final model after tuning hyperparameters."
   ]
  },
  {
   "cell_type": "code",
   "execution_count": 37,
   "metadata": {
    "ExecuteTime": {
     "end_time": "2022-02-05T19:04:44.454157Z",
     "start_time": "2022-02-05T19:04:44.268331Z"
    }
   },
   "outputs": [
    {
     "name": "stdout",
     "output_type": "stream",
     "text": [
      "              precision    recall  f1-score   support\n",
      "\n",
      "         acc       0.97      0.98      0.97       257\n",
      "        good       1.00      0.94      0.97        51\n",
      "       unacc       0.99      0.99      0.99       810\n",
      "       vgood       0.97      0.97      0.97        39\n",
      "\n",
      "    accuracy                           0.99      1157\n",
      "   macro avg       0.98      0.97      0.98      1157\n",
      "weighted avg       0.99      0.99      0.99      1157\n",
      "\n"
     ]
    }
   ],
   "source": [
    "print(classification_report(y_train, y_train_pred))"
   ]
  },
  {
   "cell_type": "code",
   "execution_count": 38,
   "metadata": {
    "ExecuteTime": {
     "end_time": "2022-02-05T19:04:44.565163Z",
     "start_time": "2022-02-05T19:04:44.462167Z"
    }
   },
   "outputs": [
    {
     "name": "stdout",
     "output_type": "stream",
     "text": [
      "              precision    recall  f1-score   support\n",
      "\n",
      "         acc       0.93      0.94      0.93       127\n",
      "        good       0.78      0.78      0.78        18\n",
      "       unacc       0.99      0.99      0.99       399\n",
      "       vgood       0.80      0.77      0.78        26\n",
      "\n",
      "    accuracy                           0.96       570\n",
      "   macro avg       0.87      0.87      0.87       570\n",
      "weighted avg       0.96      0.96      0.96       570\n",
      "\n"
     ]
    }
   ],
   "source": [
    "print(classification_report(y_test, y_test_pred))"
   ]
  },
  {
   "cell_type": "markdown",
   "metadata": {},
   "source": [
    "As can be seen from the report model with tuned hyperparameters has better metrics. This model has high accuracy on both train and test set."
   ]
  },
  {
   "cell_type": "markdown",
   "metadata": {
    "ExecuteTime": {
     "end_time": "2021-11-02T10:31:54.320583Z",
     "start_time": "2021-11-02T10:31:54.316901Z"
    }
   },
   "source": [
    "Creating confusion matrix for model with the best parameters."
   ]
  },
  {
   "cell_type": "code",
   "execution_count": 39,
   "metadata": {
    "ExecuteTime": {
     "end_time": "2022-02-05T19:04:44.676158Z",
     "start_time": "2022-02-05T19:04:44.573158Z"
    }
   },
   "outputs": [],
   "source": [
    "cm=confusion_matrix(y_test, y_test_pred, labels=best_model.classes_)"
   ]
  },
  {
   "cell_type": "code",
   "execution_count": 40,
   "metadata": {
    "ExecuteTime": {
     "end_time": "2022-02-05T19:04:44.801714Z",
     "start_time": "2022-02-05T19:04:44.682160Z"
    }
   },
   "outputs": [],
   "source": [
    "cm_disp=ConfusionMatrixDisplay(confusion_matrix=cm, display_labels=best_model.classes_)"
   ]
  },
  {
   "cell_type": "code",
   "execution_count": 41,
   "metadata": {
    "ExecuteTime": {
     "end_time": "2022-02-05T19:04:45.553462Z",
     "start_time": "2022-02-05T19:04:44.807777Z"
    }
   },
   "outputs": [
    {
     "data": {
      "image/png": "[encoded data removed]",
      "text/plain": [
       "<Figure size 432x288 with 2 Axes>"
      ]
     },
     "metadata": {
      "needs_background": "light"
     },
     "output_type": "display_data"
    }
   ],
   "source": [
    "cm_disp.plot();"
   ]
  },
  {
   "cell_type": "markdown",
   "metadata": {
    "ExecuteTime": {
     "end_time": "2021-11-02T10:43:23.892947Z",
     "start_time": "2021-11-02T10:43:23.886585Z"
    }
   },
   "source": [
    "As can be seen from the matrix the model most confuses unacceptable with acceptable cars, and very good with acceptable cars"
   ]
  }
 ],
 "metadata": {
  "kernelspec": {
   "display_name": "Python 3 (ipykernel)",
   "language": "python",
   "name": "python3"
  },
  "language_info": {
   "codemirror_mode": {
    "name": "ipython",
    "version": 3
   },
   "file_extension": ".py",
   "mimetype": "text/x-python",
   "name": "python",
   "nbconvert_exporter": "python",
   "pygments_lexer": "ipython3",
   "version": "3.10.5"
  },
  "toc": {
   "base_numbering": 1,
   "nav_menu": {},
   "number_sections": true,
   "sideBar": true,
   "skip_h1_title": false,
   "title_cell": "Table of Contents",
   "title_sidebar": "Contents",
   "toc_cell": false,
   "toc_position": {},
   "toc_section_display": true,
   "toc_window_display": false
  }
 },
 "nbformat": 4,
 "nbformat_minor": 4
}
